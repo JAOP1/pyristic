{
 "cells": [
  {
   "cell_type": "markdown",
   "metadata": {},
   "source": [
    "# Simulated Annealing search\n",
    "\n",
    "We will show how we can use the class SimulatedAnnealing, which is in the Optimpy library. By convention we created every algorithm to find the solution where has gotten minimum value.\n",
    "\n",
    "For this, it is necessary:\n",
    "\n",
    "To overwrite the following functions\n",
    "* get_neighbor (Required)\n",
    "* update_temperature (Required)\n",
    "\n",
    "And, to define\n",
    "* the objective function $f$\n",
    "* the constraints list\n",
    "\n",
    "We will explain every step which is necessary to start to build the first search model."
   ]
  },
  {
   "cell_type": "markdown",
   "metadata": {},
   "source": [
    "## Imports"
   ]
  },
  {
   "cell_type": "code",
   "execution_count": 1,
   "metadata": {},
   "outputs": [],
   "source": [
    "import sys\n",
    "import os\n",
    "\n",
    "library_path = \"/home/dell/Documentos/Git_proejcts/optimizacion-con-metaheuristicas/\"\n",
    "sys.path.append(os.path.abspath(library_path))\n"
   ]
  },
  {
   "cell_type": "code",
   "execution_count": 2,
   "metadata": {},
   "outputs": [],
   "source": [
    "from optimpy.heuristic.SimulatedAnnealing_search import SimulatedAnnealing\n",
    "from optimpy.utils.helpers import *\n",
    "from pprint import pprint\n",
    "import numpy as np \n",
    "import copy "
   ]
  },
  {
   "cell_type": "markdown",
   "metadata": {},
   "source": [
    "## Travelling salesman problem\n",
    "\n",
    "\n",
    "\\begin{equation}\n",
    "    \\label{eq:TSP}\n",
    "    \\begin{array}{rll}\n",
    "    \\text{minimize:} & f(x) = d(x_n, x_1) + \\sum_{i=1}^{n-1} d(x_i, x_{i+1}) &  \\\\\n",
    "    \\text{such that:} & x_i \\in \\{1,2,\\cdots,n\\} & \\\\\n",
    "    \\end{array}\n",
    "\\end{equation} \n",
    "\n",
    "where $d(x_i, x_j)$ is the distance from city $x_i$ to city $x_j$, $n$ is the number of cities and $x$ is a permutation of $n$ cities."
   ]
  },
  {
   "cell_type": "code",
   "execution_count": 3,
   "metadata": {},
   "outputs": [],
   "source": [
    "import random \n",
    "import math\n",
    "\n",
    "num_cities = 10\n",
    "dist_matrix = \\\n",
    "[\\\n",
    "[0,49,30,53,72,19,76,87,45,48],\\\n",
    "[49,0,19,38,32,31,75,69,61,25],\\\n",
    "[30,19,0,41,98,56,6,6,45,53],\\\n",
    "[53,38,41,0,52,29,46,90,23,98],\\\n",
    "[72,32,98,52,0,63,90,69,50,82],\\\n",
    "[19,31,56,29,63,0,60,88,41,95],\\\n",
    "[76,75,6,46,90,60,0,61,92,10],\\\n",
    "[87,69,6,90,69,88,61,0,82,73],\\\n",
    "[45,61,45,23,50,41,92,82,0,5],\\\n",
    "[48,25,53,98,82,95,10,73,5,0],\\\n",
    "]\n"
   ]
  },
  {
   "cell_type": "markdown",
   "metadata": {},
   "source": [
    "### Objective function"
   ]
  },
  {
   "cell_type": "code",
   "execution_count": 4,
   "metadata": {},
   "outputs": [],
   "source": [
    "@checkargs\n",
    "def f_salesman(x : (list,np.ndarray)) -> float:\n",
    "    global dist_matrix\n",
    "    total_dist = dist_matrix[x[-1]][0]\n",
    "    for i in range(1,len(x)):\n",
    "        u,v = x[i], x[i-1]\n",
    "        total_dist+= dist_matrix[u][v]\n",
    "\n",
    "    return float(total_dist)"
   ]
  },
  {
   "cell_type": "markdown",
   "metadata": {},
   "source": [
    "### Constraints "
   ]
  },
  {
   "cell_type": "code",
   "execution_count": 5,
   "metadata": {},
   "outputs": [],
   "source": [
    "@checkargs\n",
    "def g_salesman(x : np.ndarray) -> bool:\n",
    "\n",
    "    size = len(x)\n",
    "    size_ = len(np.unique(x))\n",
    "    return size == size_\n",
    "\n",
    "constraints_list= [g_salesman]"
   ]
  },
  {
   "cell_type": "markdown",
   "metadata": {},
   "source": [
    "### Initial solution\n",
    "In this case, we create the initial solution using a greedy strategy."
   ]
  },
  {
   "cell_type": "code",
   "execution_count": 6,
   "metadata": {},
   "outputs": [],
   "source": [
    "def getInitialSolutionTS(distance_matrix, total_cities) -> np.ndarray:\n",
    "    Solution = [0]\n",
    "    remaining_cities  = list(range(1,total_cities))\n",
    "    \n",
    "    while len(remaining_cities) != 0:\n",
    "        from_ =Solution[-1]\n",
    "        to_ = remaining_cities[0]\n",
    "        dist = distance_matrix[from_][to_]\n",
    "        \n",
    "        for i in range(1, len(remaining_cities)):\n",
    "            distance = distance_matrix[from_][remaining_cities[i]]\n",
    "            if distance < dist:\n",
    "                to_ = remaining_cities[i]\n",
    "                dist = distance\n",
    "        Solution.append(to_)\n",
    "        ind = remaining_cities.index(to_)\n",
    "        remaining_cities.pop(ind)\n",
    "        \n",
    "    return np.array(Solution)"
   ]
  },
  {
   "cell_type": "markdown",
   "metadata": {},
   "source": [
    "### Initialize Solver\n"
   ]
  },
  {
   "cell_type": "markdown",
   "metadata": {},
   "source": [
    "#### Overwritting functions\n",
    "**Note:** *It is necessary to implement get_neighbor. If not, the algorithm does not work.*\n",
    "- **get_neighbor:** Return only one solution which is a *random* variation of current solution."
   ]
  },
  {
   "cell_type": "code",
   "execution_count": 7,
   "metadata": {},
   "outputs": [],
   "source": [
    "class TravellingSalesman_solver(SimulatedAnnealing):\n",
    "\n",
    "    @checkargs\n",
    "    def __init__(self, f_ : function_type , constraints_: list):\n",
    "        super().__init__(f_,constraints_)\n",
    "        \n",
    "    @checkargs\n",
    "    def get_neighbor(self, x : np.ndarray) -> np.ndarray: \n",
    "        \n",
    "        x_ = x.copy()\n",
    "        N = len(x_)\n",
    "        index1 = random.randint(1, N-1)\n",
    "        index2 = random.randint(1, N-1)\n",
    "    \n",
    "        while index2 ==index1:\n",
    "            index2 = random.randint(1, N-1)\n",
    "    \n",
    "        v = x[index1]\n",
    "        x_ = list(x_[v != x_])\n",
    "        x_ = x_[:index2] + [v] + x_[index2:]\n",
    "        return np.array(x_)\n",
    "\n"
   ]
  },
  {
   "cell_type": "markdown",
   "metadata": {},
   "source": [
    "Finally, we have finished the necessary steps for build our solver.\n",
    "Now, we create a solver instance. We have to call optimize function, which finds the best solution with the following parameters:\n",
    "- Init: Numpy array, represent the initial solution or function which generates a random initial solution (this solution should be a numpy array).\n",
    "- IniTemperature:  Floating value, it define how much allow worse solutions.\n",
    "- Epsilon: it means what's the final temperature."
   ]
  },
  {
   "cell_type": "code",
   "execution_count": 8,
   "metadata": {},
   "outputs": [
    {
     "name": "stdout",
     "output_type": "stream",
     "text": [
      "Initialize search with this initial point [0 5 3 8 9 6 2 7 1 4]\n"
     ]
    }
   ],
   "source": [
    "TravellingSalesman = TravellingSalesman_solver( f_salesman, constraints_list)\n",
    "init_path1 = getInitialSolutionTS(dist_matrix, num_cities)\n",
    "print(\"Initialize search with this initial point {}\".format(init_path1))\n"
   ]
  },
  {
   "cell_type": "code",
   "execution_count": 9,
   "metadata": {},
   "outputs": [
    {
     "name": "stdout",
     "output_type": "stream",
     "text": [
      "Simulated Annealing: \n",
      " f(X) = 269.0 \n",
      " X = [0 5 1 4 3 8 9 6 7 2] \n",
      " \n"
     ]
    }
   ],
   "source": [
    "TravellingSalesman.optimize(init_path1, 10000.0 , 0.1)\n",
    "print(TravellingSalesman)"
   ]
  },
  {
   "cell_type": "markdown",
   "metadata": {},
   "source": [
    "## Results\n",
    "Now, we will check the algorithm's behavior, for this is necessary to evaluate the results for a specific number of runs. The Optimpy library has a function called **get_stats** (it is in **utils.helpers**), which returns a dictionary with some statistics of the runs. The parameters are:\n",
    "* The solver.\n",
    "* The number of iterations to evaluate model.\n",
    "* The arguments, this should be a tuple."
   ]
  },
  {
   "cell_type": "code",
   "execution_count": 10,
   "metadata": {},
   "outputs": [],
   "source": [
    "args = (init_path1, 1000.0, 0.01)\n",
    "statistics = get_stats(TravellingSalesman, 30, args)"
   ]
  },
  {
   "cell_type": "code",
   "execution_count": 11,
   "metadata": {},
   "outputs": [
    {
     "name": "stdout",
     "output_type": "stream",
     "text": [
      "{'Best solution': {'f': 248.0, 'x': array([0, 5, 3, 8, 9, 6, 2, 7, 4, 1])},\n",
      " 'Mean': 261.6666666666667,\n",
      " 'Standard deviation': 11.169402649898316,\n",
      " 'Worst solution': {'f': 271.0, 'x': array([0, 5, 3, 8, 9, 6, 2, 7, 1, 4])}}\n"
     ]
    }
   ],
   "source": [
    "pprint(statistics)"
   ]
  },
  {
   "cell_type": "markdown",
   "metadata": {},
   "source": [
    "## 0/1 Knapsack problem\n",
    "\n",
    "\\begin{equation}\n",
    "  \\label{eq:KP}\n",
    "  \\begin{array}{rll}\n",
    "  \\text{maximize:} & f(\\vec{x}) = \\sum_{i=1}^{n} p_i \\cdot x_{i} &  \\\\\n",
    "  \\text{where: } & g_1(\\vec{x}) = \\sum_{i=1}^{n} w_i \\cdot x_{i}  \\leq c &  \\\\\n",
    "          &  x_i \\in \\{0,1\\} & i\\in\\{1,\\ldots,n\\}\\\\\n",
    "  \\end{array}\n",
    "\\end{equation}\n",
    "\n",
    "Consider this input:\n",
    "- $n = 5$\n",
    "- $p = \\{5, 14, 7, 2, 23\\}$\n",
    "- $w = \\{2, 3, 7, 5, 10\\}$\n",
    "- $c = 15$\n",
    "\n",
    "Where the best solution is:\n",
    "$x = [1, 1, 0, 0, 1]$ , $f(x) = 42$ and $g_{1}(x) \\leq 15$\n",
    "\n",
    "For more information about this problem check [here](https://en.wikipedia.org/wiki/Knapsack_problem).\n",
    "\n",
    "The steps to follow are:\n",
    "- Define our objective function.\n",
    "- Include the constraints list.\n",
    "- Define the initial solution.\n",
    "- Create our solver.\n",
    "- Optimize the function.\n"
   ]
  },
  {
   "cell_type": "markdown",
   "metadata": {},
   "source": [
    "## Objective function\n",
    "In this case, we use global variables for calculating the objective function and the constraint."
   ]
  },
  {
   "cell_type": "code",
   "execution_count": 12,
   "metadata": {},
   "outputs": [],
   "source": [
    "#Define global input.\n",
    "n = 50\n",
    "p = [60, 52, 90, 57, 45, 64, 60, 45, 63, 94, 44, 90, 66, 64, 32, 39, 91, 40, 73, 61, 82, 94, 39, 68, 94, 98, 80, 79, 73, 99, 49, 56, 69, 49, 82, 99, 65, 34, 31, 85, 67, 62, 56, 38, 54, 81, 98, 63, 48, 83]\n",
    "w = [38, 20, 21, 21, 37, 28, 32, 30, 33, 35, 29, 32, 35, 24, 28, 29, 22, 34, 31, 36, 36, 28, 38, 25, 38, 37, 20, 23, 39, 31, 27, 20, 38, 38, 36, 28, 39, 22, 23, 22, 21, 24, 23, 33, 31, 30, 32, 30, 22, 37]\n",
    "c = 870"
   ]
  },
  {
   "cell_type": "code",
   "execution_count": 13,
   "metadata": {},
   "outputs": [],
   "source": [
    "@checkargs\n",
    "def f(x : np.ndarray) -> float:\n",
    "    global p\n",
    "    return -1.0* np.dot(x,p)\n"
   ]
  },
  {
   "cell_type": "markdown",
   "metadata": {},
   "source": [
    "## Constraints"
   ]
  },
  {
   "cell_type": "code",
   "execution_count": 14,
   "metadata": {},
   "outputs": [],
   "source": [
    "@checkargs \n",
    "def g1(x : np.ndarray) -> bool:\n",
    "    global w,c\n",
    "    result = np.dot(x,w)\n",
    "    g1.__doc__=\"{} <= {}\".format(result,c)\n",
    "    return result <= c\n",
    "\n",
    "constraints_list= [g1]"
   ]
  },
  {
   "cell_type": "markdown",
   "metadata": {},
   "source": [
    "### Initial solution\n",
    "In this case, we start taking random objects and we try to insert them in the backpack."
   ]
  },
  {
   "cell_type": "code",
   "execution_count": 15,
   "metadata": {},
   "outputs": [],
   "source": [
    "def getInitialSolution(NumObjects=15):\n",
    "    global n,p,w,c\n",
    "    #Empty backpack\n",
    "    x = [0 for i in range(n)]\n",
    "    weight_x = 0\n",
    "    \n",
    "    #Random order to insert objects.\n",
    "    objects = list(range(n))\n",
    "    np.random.shuffle(objects)\n",
    "    \n",
    "    for o in  objects[:NumObjects]:\n",
    "        #Check the constraint about capacity.\n",
    "        if weight_x + w[o] <= c:\n",
    "            x[o] = 1\n",
    "            weight_x += w[o]\n",
    "            \n",
    "    return np.array(x)\n"
   ]
  },
  {
   "cell_type": "markdown",
   "metadata": {},
   "source": [
    "## defining solver instance\n"
   ]
  },
  {
   "cell_type": "code",
   "execution_count": 16,
   "metadata": {},
   "outputs": [],
   "source": [
    "class Knapsack_solver(SimulatedAnnealing):\n",
    "\n",
    "    @checkargs\n",
    "    def __init__(self, f_ : function_type , constraints_: list):\n",
    "        super().__init__(f_,constraints_)\n",
    "        \n",
    "    @checkargs\n",
    "    def get_neighbor(self, x : np.ndarray) -> np.ndarray: \n",
    "        \n",
    "        x_ = x.copy()\n",
    "        N = len(x_)\n",
    "        while(True):\n",
    "            ind = random.randint(0, N-1)\n",
    "            x_[ind] ^= 1\n",
    "            \n",
    "            if(self.is_valid(x_)):\n",
    "                break\n",
    "            \n",
    "            x_[ind] ^= 1\n",
    "        \n",
    "        return np.array(x_)"
   ]
  },
  {
   "cell_type": "markdown",
   "metadata": {},
   "source": [
    "In get_neighbor we are explicit about the random solution generated  have to be validated."
   ]
  },
  {
   "cell_type": "code",
   "execution_count": 17,
   "metadata": {},
   "outputs": [],
   "source": [
    "Knapsack_ = Knapsack_solver(f, [g1])"
   ]
  },
  {
   "cell_type": "code",
   "execution_count": 18,
   "metadata": {},
   "outputs": [
    {
     "name": "stdout",
     "output_type": "stream",
     "text": [
      "Simulated Annealing: \n",
      " f(X) = -2075.0 \n",
      " X = [1 0 1 0 1 1 0 0 0 1 1 1 1 0 1 1 1 0 1 1 1 1 1 1 1 1 0 1 0 1 0 0 0 0 1 1 0\n",
      " 1 0 1 1 1 0 0 0 1 0 1 0 0] \n",
      " Constraints: \n",
      " 870 <= 870 \n",
      "\n"
     ]
    }
   ],
   "source": [
    "Knapsack_.optimize(getInitialSolution,10000.0,0.1)\n",
    "print(Knapsack_)"
   ]
  },
  {
   "cell_type": "markdown",
   "metadata": {},
   "source": [
    "## Model confidence "
   ]
  },
  {
   "cell_type": "code",
   "execution_count": 19,
   "metadata": {},
   "outputs": [],
   "source": [
    "args = (getInitialSolution,1000.0,0.01)\n",
    "statistics = get_stats(Knapsack_, 30, args)"
   ]
  },
  {
   "cell_type": "code",
   "execution_count": 20,
   "metadata": {},
   "outputs": [
    {
     "name": "stdout",
     "output_type": "stream",
     "text": [
      "{'Best solution': {'f': -2239.0,\n",
      "                   'x': array([0, 1, 1, 1, 0, 1, 1, 0, 1, 1, 0, 1, 1, 0, 1, 0, 1, 0, 1, 1, 1, 1,\n",
      "       0, 0, 1, 1, 1, 1, 0, 1, 1, 1, 0, 0, 0, 1, 0, 1, 0, 1, 1, 1, 1, 0,\n",
      "       0, 1, 0, 0, 1, 1])},\n",
      " 'Mean': -2128.5666666666666,\n",
      " 'Standard deviation': 54.19082538175218,\n",
      " 'Worst solution': {'f': -2040.0,\n",
      "                    'x': array([0, 1, 0, 0, 1, 0, 1, 1, 1, 0, 0, 1, 1, 0, 1, 0, 1, 0, 1, 1, 0, 1,\n",
      "       0, 1, 1, 0, 1, 0, 1, 1, 0, 1, 1, 1, 0, 1, 0, 0, 0, 1, 1, 0, 1, 0,\n",
      "       0, 1, 1, 1, 1, 1])}}\n"
     ]
    }
   ],
   "source": [
    "pprint(statistics)"
   ]
  },
  {
   "cell_type": "markdown",
   "metadata": {},
   "source": [
    "### Improving current model\n",
    "The current model has huge problems to find the best solution.\n",
    "\n",
    "In this case we will try to:\n",
    "* Generate the initial solution in other form.\n",
    "* Create a new strategy for generate neighbors.\n"
   ]
  },
  {
   "cell_type": "markdown",
   "metadata": {},
   "source": [
    "#### Initial solution\n"
   ]
  },
  {
   "cell_type": "code",
   "execution_count": 21,
   "metadata": {},
   "outputs": [],
   "source": [
    "\n",
    "def Init_GISP():\n",
    "    global n,p,w,c\n",
    "    Arr_=[]\n",
    "    for i in range(n):\n",
    "        Arr_.append((p[i]/w[i],i))\n",
    "    \n",
    "    Arr_.sort(reverse=True)\n",
    "    return Arr_\n",
    "GISP_Arr = Init_GISP()\n",
    "\n",
    "def getInitialSolution2():\n",
    "    global n,p,w,c, GISP_Arr\n",
    "    X = [0 for i in range(n)]\n",
    "    current_weight = 0\n",
    "    for i in range(n):\n",
    "        ind = GISP_Arr[i][1]\n",
    "        if current_weight+ w[ind] <= c:\n",
    "            current_weight+=w[ind]\n",
    "            X[ind] = 1\n",
    "    return np.array(X)\n"
   ]
  },
  {
   "cell_type": "code",
   "execution_count": 28,
   "metadata": {},
   "outputs": [],
   "source": [
    "class Knapsack_solver2(SimulatedAnnealing):\n",
    "\n",
    "    @checkargs\n",
    "    def __init__(self, f_ : function_type , constraints_: list):\n",
    "        super().__init__(f_,constraints_)\n",
    "        \n",
    "        \n",
    "    def generate_neighbor(self, x: np.ndarray) -> np.ndarray:\n",
    "        x_ = x.copy()\n",
    "        N = len(x_)\n",
    "        ind = random.randint(0, N-1)\n",
    "        x_[ind] ^= 1\n",
    "        \n",
    "        return x_\n",
    "    \n",
    "    def repair_neighbor(self, x: np.ndarray) -> np.ndarray:\n",
    "        global GISP_Arr,w,c,n\n",
    "        \n",
    "        #Get the total weight\n",
    "        total_weight=0\n",
    "        for i in range(n):\n",
    "            if x[i]:\n",
    "                total_weight += w[i]\n",
    "        \n",
    "        for i in range(n):\n",
    "            ind = GISP_Arr[n - (1+i)][1] #Lowest\n",
    "            \n",
    "            if x[ind]:\n",
    "                total_weight -= w[ind]\n",
    "                x[ind] = 0\n",
    "            \n",
    "            if total_weight <= c:\n",
    "                break\n",
    "                \n",
    "    def improve_neighbor(self, x: np.ndarray) -> np.ndarray:\n",
    "        global GISP_Arr,w,c,n\n",
    "        \n",
    "        #Get the total weight\n",
    "        total_weight=0\n",
    "        for i in range(n):\n",
    "            if x[i]:\n",
    "                total_weight += w[i]\n",
    "                \n",
    "        for i in range(n):\n",
    "            ind = GISP_Arr[i][1]\n",
    "            if total_weight + w[ind] > c:\n",
    "                continue\n",
    "                \n",
    "            if x[ind] == 0 :\n",
    "                total_weight += w[ind]\n",
    "                x[ind] = 1\n",
    "            \n",
    "    @checkargs\n",
    "    def get_neighbor(self, x : np.ndarray) -> np.ndarray: \n",
    "        \n",
    "        neighbor_ = self.generate_neighbor(x)\n",
    "            \n",
    "        if(self.is_valid(neighbor_)):\n",
    "            return neighbor_\n",
    "        \n",
    "        #RI strategy\n",
    "        self.repair_neighbor(neighbor_)\n",
    "        self.improve_neighbor(neighbor_)\n",
    "        \n",
    "        return neighbor_"
   ]
  },
  {
   "cell_type": "code",
   "execution_count": 29,
   "metadata": {},
   "outputs": [],
   "source": [
    "Knapsack_2 = Knapsack_solver2(f, [g1])"
   ]
  },
  {
   "cell_type": "code",
   "execution_count": 54,
   "metadata": {},
   "outputs": [
    {
     "name": "stdout",
     "output_type": "stream",
     "text": [
      "Simulated Annealing: \n",
      " f(X) = -2378.0 \n",
      " X = [0 1 1 1 0 1 0 0 1 1 0 1 1 1 0 0 1 0 1 0 1 1 0 1 1 1 1 1 0 1 0 1 0 0 1 1 0\n",
      " 0 0 1 1 1 1 0 0 1 1 1 1 1] \n",
      " Constraints: \n",
      " 865 <= 870 \n",
      "\n"
     ]
    }
   ],
   "source": [
    "Knapsack_2.optimize(getInitialSolution2,10000.0,0.1)\n",
    "print(Knapsack_2)"
   ]
  },
  {
   "cell_type": "code",
   "execution_count": 37,
   "metadata": {},
   "outputs": [],
   "source": [
    "args = (getInitialSolution2,1000.0,0.1)\n",
    "statistics = get_stats(Knapsack_, 30, args)"
   ]
  },
  {
   "cell_type": "code",
   "execution_count": 38,
   "metadata": {},
   "outputs": [
    {
     "name": "stdout",
     "output_type": "stream",
     "text": [
      "{'Best solution': {'f': -2378.0,\n",
      "                   'x': array([0, 1, 1, 1, 0, 1, 0, 0, 1, 1, 0, 1, 1, 1, 0, 0, 1, 0, 1, 0, 1, 1,\n",
      "       0, 1, 1, 1, 1, 1, 0, 1, 0, 1, 0, 0, 1, 1, 0, 0, 0, 1, 1, 1, 1, 0,\n",
      "       0, 1, 1, 1, 1, 1])},\n",
      " 'Mean': -2378.0,\n",
      " 'Standard deviation': 0.0,\n",
      " 'Worst solution': {'f': -2378.0,\n",
      "                    'x': array([0, 1, 1, 1, 0, 1, 0, 0, 1, 1, 0, 1, 1, 1, 0, 0, 1, 0, 1, 0, 1, 1,\n",
      "       0, 1, 1, 1, 1, 1, 0, 1, 0, 1, 0, 0, 1, 1, 0, 0, 0, 1, 1, 1, 1, 0,\n",
      "       0, 1, 1, 1, 1, 1])}}\n"
     ]
    }
   ],
   "source": [
    "pprint(statistics)"
   ]
  },
  {
   "cell_type": "code",
   "execution_count": null,
   "metadata": {},
   "outputs": [],
   "source": []
  }
 ],
 "metadata": {
  "kernelspec": {
   "display_name": "Python 3",
   "language": "python",
   "name": "python3"
  },
  "language_info": {
   "codemirror_mode": {
    "name": "ipython",
    "version": 3
   },
   "file_extension": ".py",
   "mimetype": "text/x-python",
   "name": "python",
   "nbconvert_exporter": "python",
   "pygments_lexer": "ipython3",
   "version": "3.7.1"
  }
 },
 "nbformat": 4,
 "nbformat_minor": 2
}
