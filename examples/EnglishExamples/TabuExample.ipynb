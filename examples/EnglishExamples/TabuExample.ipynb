{
 "cells": [
  {
   "cell_type": "markdown",
   "metadata": {},
   "source": [
    "# Tabu search\n",
    "\n",
    "In this document, we use two examples to show how we can use the class TabuSearch, which is in the Optimpy library. By convention, we created every algorithm to find the solution where has gotten minimum value.\n",
    "\n",
    "For this, it is necessary:\n",
    "\n",
    "To overwrite the following functions\n",
    "* get_neighbors (Required)\n",
    "* encode_change (Required)\n",
    "* custom the tabu list (optional)\n",
    "\n",
    "\n",
    "And, to define\n",
    "* the objective function $f$\n",
    "* the constraints list\n",
    "\n",
    "We will explain every step which is necessary to start to build the first search model.\n"
   ]
  },
  {
   "cell_type": "markdown",
   "metadata": {},
   "source": [
    "### Imports"
   ]
  },
  {
   "cell_type": "code",
   "execution_count": 3,
   "metadata": {},
   "outputs": [],
   "source": [
    "\n",
    "import sys\n",
    "import os\n",
    "\n",
    "#library_path is the path where the Optimpy library is located.\n",
    "#library_path = \"/home/dell/Documentos/Git_proejcts/optimizacion-con-metaheuristicas/\"\n",
    "library_path = \"/Users/adrianamenchacamendez/Documentos/enes_morelia/papime/optimizacion-con-metaheuristicas/\"\n",
    "sys.path.append(os.path.abspath(library_path))\n"
   ]
  },
  {
   "cell_type": "code",
   "execution_count": 4,
   "metadata": {},
   "outputs": [],
   "source": [
    "from optimpy.heuristic.Tabu_search import TabuSearch\n",
    "from optimpy.utils.helpers import *\n",
    "from pprint import pprint\n",
    "import numpy as np \n",
    "import copy "
   ]
  },
  {
   "cell_type": "markdown",
   "metadata": {},
   "source": [
    "## 0/1 Knapsack problem\n",
    "\n",
    "\\begin{equation}\n",
    "  \\label{eq:KP}\n",
    "  \\begin{array}{rll}\n",
    "  \\text{maximize:} & f(\\vec{x}) = \\sum_{i=1}^{n} p_i \\cdot x_{i} &  \\\\\n",
    "  \\text{where: } & g_1(\\vec{x}) = \\sum_{i=1}^{n} w_i \\cdot x_{i}  \\leq c &  \\\\\n",
    "          &  x_i \\in \\{0,1\\} & i\\in\\{1,\\ldots,n\\}\\\\\n",
    "  \\end{array}\n",
    "\\end{equation}\n",
    "\n",
    "Consider this input:\n",
    "- $n = 5$\n",
    "- $p = \\{5, 14, 7, 2, 23\\}$\n",
    "- $w = \\{2, 3, 7, 5, 10\\}$\n",
    "- $c = 15$\n",
    "\n",
    "Where the best solution is:\n",
    "$x = [1, 1, 0, 0, 1]$ , $f(x) = 42$ and $g_{1}(x) \\leq 15$\n",
    "\n",
    "For more information about this problem, you can check our handbook.\n"
   ]
  },
  {
   "cell_type": "markdown",
   "metadata": {},
   "source": [
    "### Objective function"
   ]
  },
  {
   "cell_type": "code",
   "execution_count": 5,
   "metadata": {},
   "outputs": [],
   "source": [
    "@checkargs\n",
    "def f(x : np.ndarray) -> float:\n",
    "    p = np.array([5,14,7,2,23])\n",
    "    return -1* np.dot(x,p)"
   ]
  },
  {
   "cell_type": "markdown",
   "metadata": {},
   "source": [
    "Before starting in the next steps, we have to change the problem that we want to solve. Remember that we assume that it as a minimization problem. (That is the reason of  multiply by -1) "
   ]
  },
  {
   "cell_type": "markdown",
   "metadata": {},
   "source": [
    "### Constraints "
   ]
  },
  {
   "cell_type": "code",
   "execution_count": 6,
   "metadata": {},
   "outputs": [],
   "source": [
    "@checkargs \n",
    "def g1(x : np.ndarray) -> bool:\n",
    "    w = [2,3,7,5,10]\n",
    "    return np.dot(x,w) <= 15\n",
    "\n",
    "constraints_list= [g1]"
   ]
  },
  {
   "cell_type": "markdown",
   "metadata": {},
   "source": [
    "### Overwriting functions\n",
    "**Note:** *It is necessary to implement get_neighbors and encode_change. If not, the algorithm does not work.* \n"
   ]
  },
  {
   "cell_type": "code",
   "execution_count": 7,
   "metadata": {},
   "outputs": [],
   "source": [
    "class Knapsack_solver(TabuSearch):\n",
    "    @checkargs\n",
    "    def __init__(self, f_ : function_type , constraints_: list):\n",
    "        super().__init__(f_,constraints_)\n",
    "        \n",
    "    @checkargs\n",
    "    def get_neighbors(self, x : np.ndarray) -> list:   \n",
    "        neighbors_list = []\n",
    "\n",
    "        for i in range(len(x)):\n",
    "            x[i] ^= 1 #1\n",
    "            neighbors_list+=[copy.deepcopy(x)]\n",
    "            x[i] ^= 1 \n",
    "            \n",
    "        return neighbors_list\n",
    "        \n",
    "    @checkargs\n",
    "    def encode_change(self, neighbor : (list,np.ndarray), x : (list,np.ndarray)) -> list: #2\n",
    "        \n",
    "        x_ = [None,None]\n",
    "        \n",
    "        for i in range(len(x)):\n",
    "            if x[i] != neighbor[i]:\n",
    "                return [i,neighbor[i]]\n",
    "            \n",
    "        return x_"
   ]
  },
  {
   "cell_type": "markdown",
   "metadata": {},
   "source": [
    "* Let $x$ be a solution, where $x =[1,0,0,0,1]$, and neighbor is another solution where we flip a position of our initial solution ($x$).\n",
    "\n",
    "\n",
    "```python \n",
    "neighborhood = get_neighbors(x)\n",
    "print(neighborhood)\n",
    "\n",
    "#Return a list of lists.\n",
    "# [ [0,0,0,0,1],[1,1,0,0,1],[1,0,1,0,1],[1,0,0,1,1],[1,0,0,0,0] ]\n",
    "```\n",
    "\n",
    "\n",
    "```python\n",
    "neighbor = neighborhood[0]\n",
    "x = [1,0,0,0,1] \n",
    "\n",
    "result = encode_change(neighbor,x)\n",
    "print(result)\n",
    "#The result is a list, where the first element is the position of the changed bit, and the second one is the value before changing it.\n",
    "#Output [0, 0]\n",
    "```"
   ]
  },
  {
   "cell_type": "code",
   "execution_count": 8,
   "metadata": {},
   "outputs": [
    {
     "name": "stderr",
     "output_type": "stream",
     "text": [
      "100%|██████████| 30/30 [00:00<00:00, 981.29it/s]"
     ]
    },
    {
     "name": "stdout",
     "output_type": "stream",
     "text": [
      "Tabu search: \n",
      " f(X) = -42 \n",
      " X = [1 1 0 0 1] \n",
      " \n"
     ]
    },
    {
     "name": "stderr",
     "output_type": "stream",
     "text": [
      "\n"
     ]
    }
   ],
   "source": [
    "Knapsack = Knapsack_solver(f, [g1])\n",
    "\n",
    "init_backpack_solution = np.zeros(5,dtype=int)\n",
    "'''Parameters:\n",
    "    Initial solution\n",
    "    Number of iterations\n",
    "    Tabu time\n",
    "'''\n",
    "Knapsack.optimize(init_backpack_solution,30,3)\n",
    "print(Knapsack)"
   ]
  },
  {
   "cell_type": "markdown",
   "metadata": {},
   "source": [
    "In the last example, we used a small instance. Now, we will use a bigger instance.\n",
    "\n",
    "\n",
    "**Note:** We recommend to use different names to avoid overlapping name problems.\n"
   ]
  },
  {
   "cell_type": "code",
   "execution_count": 9,
   "metadata": {},
   "outputs": [],
   "source": [
    "n = 50\n",
    "p = [60, 52, 90, 57, 45, 64, 60, 45, 63, 94, 44, 90, 66, 64, 32, 39, 91, 40, 73, 61, 82, 94, 39, 68, 94, 98, 80, 79, 73, 99, 49, 56, 69, 49, 82, 99, 65, 34, 31, 85, 67, 62, 56, 38, 54, 81, 98, 63, 48, 83]\n",
    "w = [38, 20, 21, 21, 37, 28, 32, 30, 33, 35, 29, 32, 35, 24, 28, 29, 22, 34, 31, 36, 36, 28, 38, 25, 38, 37, 20, 23, 39, 31, 27, 20, 38, 38, 36, 28, 39, 22, 23, 22, 21, 24, 23, 33, 31, 30, 32, 30, 22, 37]\n",
    "c = 870"
   ]
  },
  {
   "cell_type": "code",
   "execution_count": 10,
   "metadata": {},
   "outputs": [],
   "source": [
    "@checkargs\n",
    "def f(x : np.ndarray) -> float:\n",
    "    global p\n",
    "    return -1* np.dot(x,p)\n",
    "\n",
    "@checkargs \n",
    "def g1(x : np.ndarray) -> bool:\n",
    "    global w,c\n",
    "    result = np.dot(x,w)\n",
    "    g1.__doc__=\"{} <= {}\".format(result,c)\n",
    "    return result <= c\n",
    "\n",
    "constraints_list= [g1]"
   ]
  },
  {
   "cell_type": "markdown",
   "metadata": {},
   "source": [
    "In this case, we use global variables for calculating the objective function and the constraint.\n",
    "\n",
    "### Initial solution\n",
    "In this case, we start taking random objects and we try to insert them in the backpack."
   ]
  },
  {
   "cell_type": "code",
   "execution_count": 11,
   "metadata": {},
   "outputs": [],
   "source": [
    "def getInitialSolution(NumObjects=5):\n",
    "    global n,p,w,c\n",
    "    #Empty backpack\n",
    "    x = [0 for i in range(n)]\n",
    "    weight_x = 0\n",
    "    \n",
    "    #Random order to insert objects.\n",
    "    objects = list(range(n))\n",
    "    np.random.shuffle(objects)\n",
    "    \n",
    "    for o in  objects[:NumObjects]:\n",
    "        #Check the constraint about capacity.\n",
    "        if weight_x + w[o] <= c:\n",
    "            x[o] = 1\n",
    "            weight_x += w[o]\n",
    "            \n",
    "    return np.array(x)"
   ]
  },
  {
   "cell_type": "markdown",
   "metadata": {},
   "source": [
    "When we create a solver instance, we have to call optimize function, which finds the best solution with the following parameters:\n",
    "* The initial solution.\n",
    "* The number of iterations.\n",
    "* The time where we avoid to do a change  in a position (Tabu time)."
   ]
  },
  {
   "cell_type": "code",
   "execution_count": 12,
   "metadata": {},
   "outputs": [],
   "source": [
    "Knapsack_2 = Knapsack_solver(f, [g1])"
   ]
  },
  {
   "cell_type": "code",
   "execution_count": 13,
   "metadata": {},
   "outputs": [
    {
     "name": "stderr",
     "output_type": "stream",
     "text": [
      "100%|██████████| 100/100 [00:00<00:00, 141.20it/s]"
     ]
    },
    {
     "name": "stdout",
     "output_type": "stream",
     "text": [
      "Tabu search: \n",
      " f(X) = -2197 \n",
      " X = [0 0 1 0 0 1 0 0 0 1 0 1 1 0 0 0 1 0 1 0 1 1 1 1 1 1 1 1 1 1 0 0 1 0 1 1 1\n",
      " 0 0 1 1 0 1 1 0 1 1 0 0 1] \n",
      " Constraints: \n",
      " 858 <= 870 \n",
      "\n"
     ]
    },
    {
     "name": "stderr",
     "output_type": "stream",
     "text": [
      "\n"
     ]
    }
   ],
   "source": [
    "Knapsack_2.optimize(getInitialSolution,100,n//2)\n",
    "print(Knapsack_2)"
   ]
  },
  {
   "cell_type": "markdown",
   "metadata": {},
   "source": [
    "Now, we will check the algorithm's behavior, for this is necessary to evaluate the results for a specific number of runs. The Optimpy library has a function called **get_stats** (it is in **utils.helpers**), which returns a dictionary with some statistics of the runs. The parameters are:\n",
    "* The solver.\n",
    "* The number of iterations to evaluate model.\n",
    "* The arguments, this should be a tuple."
   ]
  },
  {
   "cell_type": "code",
   "execution_count": 14,
   "metadata": {},
   "outputs": [
    {
     "name": "stderr",
     "output_type": "stream",
     "text": [
      "100%|██████████| 500/500 [00:02<00:00, 174.42it/s]\n",
      "100%|██████████| 500/500 [00:02<00:00, 176.01it/s]\n",
      "100%|██████████| 500/500 [00:02<00:00, 179.36it/s]\n",
      "100%|██████████| 500/500 [00:02<00:00, 177.94it/s]\n",
      "100%|██████████| 500/500 [00:02<00:00, 180.95it/s]\n",
      "100%|██████████| 500/500 [00:02<00:00, 179.86it/s]\n",
      "100%|██████████| 500/500 [00:02<00:00, 181.75it/s]\n",
      "100%|██████████| 500/500 [00:03<00:00, 162.99it/s]\n",
      "100%|██████████| 500/500 [00:03<00:00, 160.29it/s]\n",
      "100%|██████████| 500/500 [00:02<00:00, 180.41it/s]\n",
      "100%|██████████| 500/500 [00:02<00:00, 182.61it/s]\n",
      "100%|██████████| 500/500 [00:02<00:00, 179.51it/s]\n",
      "100%|██████████| 500/500 [00:02<00:00, 177.69it/s]\n",
      "100%|██████████| 500/500 [00:02<00:00, 183.49it/s]\n",
      "100%|██████████| 500/500 [00:02<00:00, 188.20it/s]\n",
      "100%|██████████| 500/500 [00:02<00:00, 176.58it/s]\n",
      "100%|██████████| 500/500 [00:02<00:00, 179.81it/s]\n",
      "100%|██████████| 500/500 [00:02<00:00, 180.92it/s]\n",
      "100%|██████████| 500/500 [00:02<00:00, 182.30it/s]\n",
      "100%|██████████| 500/500 [00:02<00:00, 179.51it/s]\n",
      "100%|██████████| 500/500 [00:02<00:00, 181.37it/s]\n"
     ]
    }
   ],
   "source": [
    "args = (getInitialSolution,500,n//2)\n",
    "statistics = get_stats(Knapsack_2, 21, args)"
   ]
  },
  {
   "cell_type": "code",
   "execution_count": 13,
   "metadata": {},
   "outputs": [
    {
     "name": "stdout",
     "output_type": "stream",
     "text": [
      "{'Best solution': {'f': -2301,\n",
      "                   'x': array([0, 0, 1, 0, 0, 1, 0, 0, 1, 1, 0, 1, 1, 1, 0, 0, 1, 0, 1, 0, 1, 1,\n",
      "       0, 1, 1, 1, 1, 1, 1, 1, 0, 0, 1, 0, 1, 1, 1, 0, 0, 1, 1, 1, 0, 0,\n",
      "       0, 1, 1, 0, 1, 1])},\n",
      " 'Mean': -2251.9523809523807,\n",
      " 'Standard deviation': 34.28935165890729,\n",
      " 'Worst solution': {'f': -2174,\n",
      "                    'x': array([0, 0, 1, 0, 0, 0, 0, 1, 0, 1, 0, 1, 1, 0, 0, 0, 1, 0, 1, 0, 1, 1,\n",
      "       0, 1, 1, 1, 1, 1, 1, 1, 1, 0, 1, 1, 1, 1, 1, 0, 1, 1, 1, 0, 0, 0,\n",
      "       0, 1, 1, 0, 0, 1])}}\n"
     ]
    }
   ],
   "source": [
    "pprint(statistics)"
   ]
  },
  {
   "cell_type": "markdown",
   "metadata": {},
   "source": [
    "## Travelling salesman problem\n",
    "\n",
    "\n",
    "\\begin{equation}\n",
    "    \\label{eq:TSP}\n",
    "    \\begin{array}{rll}\n",
    "    \\text{minimize:} & f(x) = d(x_n, x_1) + \\sum_{i=1}^{n-1} d(x_i, x_{i+1}) &  \\\\\n",
    "    \\text{such that: } & x_i \\in \\{1,2,\\cdots,n\\} & \\\\\n",
    "    \\end{array}\n",
    "\\end{equation}\n",
    "\n",
    "where $d(x_i, x_j)$ is the distance from city $x_i$ to city $x_j$, $n$ is the number of cities and $x$ is a permutation of $n$ cities."
   ]
  },
  {
   "cell_type": "code",
   "execution_count": 14,
   "metadata": {},
   "outputs": [],
   "source": [
    "import random "
   ]
  },
  {
   "cell_type": "code",
   "execution_count": 15,
   "metadata": {},
   "outputs": [],
   "source": [
    "num_cities = 10\n",
    "iterations = 100\n",
    "dist_matrix = \\\n",
    "[\\\n",
    "[0,49,30,53,72,19,76,87,45,48],\\\n",
    "[49,0,19,38,32,31,75,69,61,25],\\\n",
    "[30,19,0,41,98,56,6,6,45,53],\\\n",
    "[53,38,41,0,52,29,46,90,23,98],\\\n",
    "[72,32,98,52,0,63,90,69,50,82],\\\n",
    "[19,31,56,29,63,0,60,88,41,95],\\\n",
    "[76,75,6,46,90,60,0,61,92,10],\\\n",
    "[87,69,6,90,69,88,61,0,82,73],\\\n",
    "[45,61,45,23,50,41,92,82,0,5],\\\n",
    "[48,25,53,98,82,95,10,73,5,0],\\\n",
    "]\n"
   ]
  },
  {
   "cell_type": "code",
   "execution_count": 16,
   "metadata": {},
   "outputs": [],
   "source": [
    "@checkargs\n",
    "def f_salesman(x : np.ndarray) -> float:\n",
    "    global dist_matrix\n",
    "    total_dist = 0\n",
    "    for i in range(1,len(x)):\n",
    "        u,v = x[i], x[i-1]\n",
    "        total_dist+= dist_matrix[u][v]\n",
    "    total_dist += dist_matrix[x[-1]][0]\n",
    "    return total_dist"
   ]
  },
  {
   "cell_type": "code",
   "execution_count": 17,
   "metadata": {},
   "outputs": [],
   "source": [
    "@checkargs\n",
    "def g_salesman(x : np.ndarray) -> bool:\n",
    "    \"\"\"\n",
    "    Xi in {1,2, ... , N}\n",
    "    \"\"\"\n",
    "    size = len(x)\n",
    "    size_ = len(np.unique(x))\n",
    "    return size == size_"
   ]
  },
  {
   "cell_type": "markdown",
   "metadata": {},
   "source": [
    "Now, we will change the tabu list's structure. For this, it is necessary to implement a new class with the following functions:\n",
    "\n",
    "* reset\n",
    "* update\n",
    "* push_front\n",
    "* find \n",
    "\n",
    "### Description\n",
    "- **reset:** clear the current structure used to store the items.\n",
    "- **update:** remove the items where the timer is finished and update the timer for every item in the data structure.\n",
    "- **push_front:** add new items to the custom data structure.\n",
    "- **find:** search if the item is in the data structure."
   ]
  },
  {
   "cell_type": "code",
   "execution_count": 18,
   "metadata": {},
   "outputs": [],
   "source": [
    "class Tabu_Salesman_list:\n",
    "    def __init__(self,timer):\n",
    "        self.__TB = {}\n",
    "        self.timer = timer\n",
    "    \n",
    "    def reset(self,timer) -> None:\n",
    "        self.__TB = {}\n",
    "        self.timer = timer\n",
    "        \n",
    "    def update(self) -> None:\n",
    "        to_pop = []\n",
    "        for key in self.__TB:\n",
    "            if self.__TB[key]-1 == 0:\n",
    "                to_pop.append(key)\n",
    "            else:\n",
    "                self.__TB[key]-=1\n",
    "        for key in to_pop:\n",
    "            self.__TB.pop(key)\n",
    "        \n",
    "    @checkargs\n",
    "    #x has [p,v,step], we are only interested in v (value)\n",
    "    def push_front(self, x : list ) -> None:\n",
    "        self.__TB[x[1]] = self.timer\n",
    "        \n",
    "    @checkargs\n",
    "    def find(self, x : list) -> bool:\n",
    "        return x[1] in self.__TB\n",
    "        "
   ]
  },
  {
   "cell_type": "code",
   "execution_count": 19,
   "metadata": {},
   "outputs": [],
   "source": [
    "class TravellingSalesman_solver(TabuSearch):\n",
    "\n",
    "    def __init__(self, f_ : function_type , constraints_: list, TabuStorage):\n",
    "        super().__init__(f_,constraints_,TabuStorage)\n",
    "        \n",
    "    @checkargs\n",
    "    def get_neighbors(self, x : np.ndarray) -> list: \n",
    "        \n",
    "        neighbors_list = []\n",
    "        \n",
    "        ind = random.randint(1,len(x)-1)\n",
    "        while  self.TL.find([-1,x[ind]]):\n",
    "            ind = random.randint(1,len(x)-1)\n",
    "        v = x[ind]\n",
    "        x_tmp = list(x[v != x])\n",
    "        for i in range(1, len(x)):\n",
    "            if ind == i:\n",
    "                continue\n",
    "            neighbors_list += [ x_tmp[:i] + [v] + x_tmp[i:]]\n",
    "            \n",
    "        return neighbors_list\n",
    "\n",
    "        \n",
    "    @checkargs\n",
    "    def encode_change(self, neighbor : (list,np.ndarray), x : (list,np.ndarray)) -> list: #2\n",
    "        \n",
    "        x_p ={x[i] : i for i in range(len(x))}\n",
    "        n_p = {neighbor[i]: i for i in range(len(x))}\n",
    "        ind = -1\n",
    "        max_dist = -1\n",
    "        value = -1\n",
    "        for i in range(1, len(x)):\n",
    "            v = x[i]\n",
    "            dist = abs(x_p[v] - n_p[v])\n",
    "            if dist > max_dist:\n",
    "                ind = i\n",
    "                max_dist = dist\n",
    "                value = v\n",
    "       \n",
    "        return [ind , value]"
   ]
  },
  {
   "cell_type": "markdown",
   "metadata": {},
   "source": [
    "### Initial solution\n",
    "In this case, we create the initial solution using a greedy strategy."
   ]
  },
  {
   "cell_type": "code",
   "execution_count": 20,
   "metadata": {},
   "outputs": [],
   "source": [
    "def getInitialSolutionTS(distance_matrix, total_cities):\n",
    "    Solution = [0]\n",
    "    remaining_cities  = list(range(1,total_cities))\n",
    "    \n",
    "    while len(remaining_cities) != 0:\n",
    "        from_ =Solution[-1] \n",
    "        to_ = remaining_cities[0]\n",
    "        dist = distance_matrix[from_][to_]\n",
    "        \n",
    "        for i in range(1, len(remaining_cities)):\n",
    "            distance = distance_matrix[from_][remaining_cities[i]]\n",
    "            if distance < dist:\n",
    "                to_ = remaining_cities[i]\n",
    "                dist = distance\n",
    "        Solution.append(to_)\n",
    "        ind = remaining_cities.index(to_)\n",
    "        remaining_cities.pop(ind)\n",
    "    return Solution"
   ]
  },
  {
   "cell_type": "code",
   "execution_count": 21,
   "metadata": {},
   "outputs": [
    {
     "name": "stdout",
     "output_type": "stream",
     "text": [
      "Initialize search with this initial point [0 5 3 8 9 6 2 7 1 4] \n",
      " f(x) = 271\n"
     ]
    }
   ],
   "source": [
    "TravellingSalesman = TravellingSalesman_solver(f_salesman,[g_salesman],Tabu_Salesman_list(num_cities//2))\n",
    "init_path = np.array(getInitialSolutionTS(dist_matrix,num_cities))\n",
    "print(\"Initialize search with this initial point {} \\n f(x) = {}\".format(init_path, f_salesman(init_path)))\n",
    "\n",
    "\n"
   ]
  },
  {
   "cell_type": "code",
   "execution_count": 22,
   "metadata": {},
   "outputs": [
    {
     "name": "stderr",
     "output_type": "stream",
     "text": [
      "100%|██████████| 100/100 [00:00<00:00, 508.72it/s]"
     ]
    },
    {
     "name": "stdout",
     "output_type": "stream",
     "text": [
      "Tabu search: \n",
      " f(X) = 248 \n",
      " X = [0 5 3 8 9 6 2 7 4 1] \n",
      " Constraints: \n",
      " \n",
      "    Xi in {1,2, ... , N}\n",
      "     \n",
      "\n"
     ]
    },
    {
     "name": "stderr",
     "output_type": "stream",
     "text": [
      "\n"
     ]
    }
   ],
   "source": [
    "TravellingSalesman.optimize(init_path, iterations, num_cities//2)\n",
    "print(TravellingSalesman)"
   ]
  },
  {
   "cell_type": "code",
   "execution_count": 23,
   "metadata": {},
   "outputs": [
    {
     "name": "stderr",
     "output_type": "stream",
     "text": [
      "100%|██████████| 100/100 [00:00<00:00, 1036.87it/s]\n",
      "100%|██████████| 100/100 [00:00<00:00, 788.97it/s]\n",
      "100%|██████████| 100/100 [00:00<00:00, 508.37it/s]\n",
      "100%|██████████| 100/100 [00:00<00:00, 1090.43it/s]\n",
      "100%|██████████| 100/100 [00:00<00:00, 1008.13it/s]\n",
      "100%|██████████| 100/100 [00:00<00:00, 1019.61it/s]\n",
      "100%|██████████| 100/100 [00:00<00:00, 1101.73it/s]\n",
      "100%|██████████| 100/100 [00:00<00:00, 1088.33it/s]\n",
      "100%|██████████| 100/100 [00:00<00:00, 1079.23it/s]\n",
      "100%|██████████| 100/100 [00:00<00:00, 1054.12it/s]\n",
      "100%|██████████| 100/100 [00:00<00:00, 1063.56it/s]\n",
      "100%|██████████| 100/100 [00:00<00:00, 1090.50it/s]\n",
      "100%|██████████| 100/100 [00:00<00:00, 1038.75it/s]\n",
      "100%|██████████| 100/100 [00:00<00:00, 1083.35it/s]\n",
      "100%|██████████| 100/100 [00:00<00:00, 1074.38it/s]\n",
      "100%|██████████| 100/100 [00:00<00:00, 1104.47it/s]\n",
      "100%|██████████| 100/100 [00:00<00:00, 1097.81it/s]\n",
      "100%|██████████| 100/100 [00:00<00:00, 1077.11it/s]\n",
      "100%|██████████| 100/100 [00:00<00:00, 1106.92it/s]\n",
      "100%|██████████| 100/100 [00:00<00:00, 1074.11it/s]\n",
      "100%|██████████| 100/100 [00:00<00:00, 1061.84it/s]\n",
      "100%|██████████| 100/100 [00:00<00:00, 1066.31it/s]\n",
      "100%|██████████| 100/100 [00:00<00:00, 1077.83it/s]\n",
      "100%|██████████| 100/100 [00:00<00:00, 1053.41it/s]\n",
      "100%|██████████| 100/100 [00:00<00:00, 1043.49it/s]\n",
      "100%|██████████| 100/100 [00:00<00:00, 1117.00it/s]\n",
      "100%|██████████| 100/100 [00:00<00:00, 1005.90it/s]\n",
      "100%|██████████| 100/100 [00:00<00:00, 1045.98it/s]\n",
      "100%|██████████| 100/100 [00:00<00:00, 1002.57it/s]\n",
      "100%|██████████| 100/100 [00:00<00:00, 645.79it/s]\n"
     ]
    }
   ],
   "source": [
    "args = (init_path, iterations, num_cities//2)\n",
    "statistics = get_stats(TravellingSalesman, 30, args)\n"
   ]
  },
  {
   "cell_type": "code",
   "execution_count": 24,
   "metadata": {},
   "outputs": [
    {
     "name": "stdout",
     "output_type": "stream",
     "text": [
      "{'Best solution': {'f': 248, 'x': array([0, 5, 3, 8, 9, 6, 2, 7, 4, 1])},\n",
      " 'Mean': 248.0,\n",
      " 'Standard deviation': 0.0,\n",
      " 'Worst solution': {'f': 248, 'x': array([0, 5, 3, 8, 9, 6, 2, 7, 4, 1])}}\n"
     ]
    }
   ],
   "source": [
    "\n",
    "pprint(statistics)"
   ]
  },
  {
   "cell_type": "code",
   "execution_count": null,
   "metadata": {},
   "outputs": [],
   "source": []
  }
 ],
 "metadata": {
  "kernelspec": {
   "display_name": "Python 3",
   "language": "python",
   "name": "python3"
  },
  "language_info": {
   "codemirror_mode": {
    "name": "ipython",
    "version": 3
   },
   "file_extension": ".py",
   "mimetype": "text/x-python",
   "name": "python",
   "nbconvert_exporter": "python",
   "pygments_lexer": "ipython3",
   "version": "3.6.3"
  }
 },
 "nbformat": 4,
 "nbformat_minor": 2
}
