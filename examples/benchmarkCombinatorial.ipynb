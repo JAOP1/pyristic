{
 "cells": [
  {
   "cell_type": "code",
   "execution_count": 1,
   "id": "ca52e657",
   "metadata": {},
   "outputs": [],
   "source": [
    "import sys\n",
    "import os\n",
    "\n",
    "#library_path is the path where the Optimpy library is located.\n",
    "library_path = \"/home/dell/Documentos/Git_proejcts/pyristic/\"\n",
    "#library_path = \"/Users/adrianamenchacamendez/Documentos/enes_morelia/papime/optimizacion-con-metaheuristicas/\"\n",
    "sys.path.append(os.path.abspath(library_path))"
   ]
  },
  {
   "cell_type": "code",
   "execution_count": 2,
   "id": "e9062166",
   "metadata": {},
   "outputs": [],
   "source": [
    "from pyristic.heuristic.Tabu_search import TabuSearch as TS\n",
    "from pyristic.heuristic.SimulatedAnnealing_search import SimulatedAnnealing as SA\n",
    "from pyristic.heuristic.GeneticAlgorithm_search import Genetic as GA\n",
    "from pyristic.utils.helpers import *\n",
    "from pyristic.utils.operators import selection,mutation,crossover"
   ]
  },
  {
   "cell_type": "code",
   "execution_count": 3,
   "id": "5a4990fd",
   "metadata": {},
   "outputs": [],
   "source": [
    "from pprint import pprint\n",
    "import numpy as np \n",
    "import random \n",
    "import copy "
   ]
  },
  {
   "cell_type": "code",
   "execution_count": 4,
   "id": "eceefabf",
   "metadata": {},
   "outputs": [],
   "source": [
    "np.random.seed(10)"
   ]
  },
  {
   "cell_type": "markdown",
   "id": "e980c24f",
   "metadata": {},
   "source": [
    "## Problema de la mochila"
   ]
  },
  {
   "cell_type": "code",
   "execution_count": 5,
   "id": "12e83ded",
   "metadata": {},
   "outputs": [],
   "source": [
    "class knapsackFunction:\n",
    "    def __init__(self, benefits: (list, np.ndarray)):\n",
    "        self.benefits = np.array(benefits)\n",
    "        \n",
    "    def __call__(self,X: np.ndarray):\n",
    "        return -1 * np.dot(X,self.benefits)\n",
    "\n",
    "class knapsackAptitude:\n",
    "    def __init__(self, benefits: (list, np.ndarray)):\n",
    "        self.benefits = np.array(benefits)\n",
    "        \n",
    "    def __call__(self,X:np.ndarray):\n",
    "        return np.dot(X,self.benefits) \n",
    "\n",
    "           \n",
    "class knapsackConstraint:\n",
    "    \n",
    "    def __init__(self, weights: (list,np.ndarray), cappacity):\n",
    "        self.weights = np.array(weights)\n",
    "        self.cappacity = cappacity\n",
    "        \n",
    "    def __call__(self,X: np.ndarray):\n",
    "        result  = np.dot(X, self.weights)\n",
    "        self.__doc__=\"{} <= {}\".format(result,self.cappacity)\n",
    "        return result <= self.cappacity\n",
    "    \n"
   ]
  },
  {
   "cell_type": "markdown",
   "id": "13e10d68",
   "metadata": {},
   "source": [
    "#### Instancia 1"
   ]
  },
  {
   "cell_type": "code",
   "execution_count": 6,
   "id": "ba3ba1bd",
   "metadata": {},
   "outputs": [],
   "source": [
    "n1 = 50\n",
    "p1 = [60, 52, 90, 57, 45, 64, 60, 45, 63, 94, 44, 90, 66, 64, 32, 39, 91, 40, 73, 61, 82, 94, 39, 68, 94, 98, 80, 79, 73, 99, 49, 56, 69, 49, 82, 99, 65, 34, 31, 85, 67, 62, 56, 38, 54, 81, 98, 63, 48, 83]\n",
    "w1 = [38, 20, 21, 21, 37, 28, 32, 30, 33, 35, 29, 32, 35, 24, 28, 29, 22, 34, 31, 36, 36, 28, 38, 25, 38, 37, 20, 23, 39, 31, 27, 20, 38, 38, 36, 28, 39, 22, 23, 22, 21, 24, 23, 33, 31, 30, 32, 30, 22, 37]\n",
    "c1 = 500"
   ]
  },
  {
   "cell_type": "code",
   "execution_count": 7,
   "id": "30a6a28f",
   "metadata": {},
   "outputs": [],
   "source": [
    "f1 = knapsackFunction(p1)\n",
    "g1 = knapsackConstraint(w1,c1)"
   ]
  },
  {
   "cell_type": "markdown",
   "id": "bd50b16a",
   "metadata": {},
   "source": [
    "#### Instancia 2"
   ]
  },
  {
   "cell_type": "code",
   "execution_count": 8,
   "id": "b61f6f13",
   "metadata": {},
   "outputs": [],
   "source": [
    "n2 = 100\n",
    "p2 =  np.random.randint(10,100,n2)\n",
    "w2 =  np.random.randint(15,80,n2)\n",
    "c2 =  1000"
   ]
  },
  {
   "cell_type": "code",
   "execution_count": 9,
   "id": "005dd96b",
   "metadata": {},
   "outputs": [],
   "source": [
    "f2 = knapsackFunction(p2)\n",
    "g2 = knapsackConstraint(w2,c2)"
   ]
  },
  {
   "cell_type": "markdown",
   "id": "5e89e04d",
   "metadata": {},
   "source": [
    "\n",
    "#### Instancia 3"
   ]
  },
  {
   "cell_type": "code",
   "execution_count": 10,
   "id": "c9f8ab0b",
   "metadata": {},
   "outputs": [],
   "source": [
    "n3 = 150\n",
    "p3 =  np.random.randint(10,100,n3)\n",
    "w3 =  np.random.randint(15,80,n3)\n",
    "c3 =  1500"
   ]
  },
  {
   "cell_type": "code",
   "execution_count": 11,
   "id": "ee597bbb",
   "metadata": {},
   "outputs": [],
   "source": [
    "f3 = knapsackFunction(p3)\n",
    "g3 = knapsackConstraint(w3,c3)"
   ]
  },
  {
   "cell_type": "markdown",
   "id": "a086a9de",
   "metadata": {},
   "source": [
    "### Búsqueda tabú configuración"
   ]
  },
  {
   "cell_type": "markdown",
   "id": "502ebced",
   "metadata": {},
   "source": [
    "#### Solución inicial"
   ]
  },
  {
   "cell_type": "code",
   "execution_count": 12,
   "id": "e718087c",
   "metadata": {},
   "outputs": [],
   "source": [
    "def getInitialSolution(n,p,w,c):\n",
    "    #Empty backpack\n",
    "    x = [0 for i in range(n)]\n",
    "    weight_x = 0\n",
    "    \n",
    "    #Random order to insert objects.\n",
    "    objects = list(range(n))\n",
    "    np.random.shuffle(objects)\n",
    "    \n",
    "    for o in  objects:\n",
    "        #Check the constraint about capacity.\n",
    "        if weight_x + w[o] <= c:\n",
    "            x[o] = 1\n",
    "            weight_x += w[o]\n",
    "            \n",
    "    return np.array(x)"
   ]
  },
  {
   "cell_type": "markdown",
   "id": "f92ef5e8",
   "metadata": {},
   "source": [
    "#### Configuración metaheurística"
   ]
  },
  {
   "cell_type": "code",
   "execution_count": 13,
   "id": "35740704",
   "metadata": {},
   "outputs": [],
   "source": [
    "class knapsack_TS(TS):\n",
    "    \n",
    "    def __init__(self, f_ : function_type , constraints_: list):\n",
    "        super().__init__(f_,constraints_)\n",
    "        \n",
    "        \n",
    "    def get_neighbors(self, x : np.ndarray,**kwargs) -> list:   \n",
    "        neighbors_list = []\n",
    "\n",
    "        for i in range(len(x)):\n",
    "            x[i] ^= 1 #1\n",
    "            neighbors_list+=[copy.deepcopy(x)]\n",
    "            x[i] ^= 1 \n",
    "            \n",
    "        return neighbors_list\n",
    "        \n",
    "    def encode_change(self, neighbor : (list,np.ndarray), x : (list,np.ndarray),**kwargs) -> list: #2\n",
    "        \n",
    "        x_ = [None,None]\n",
    "        \n",
    "        for i in range(len(x)):\n",
    "            if x[i] != neighbor[i]:\n",
    "                return [i,neighbor[i]]\n",
    "            \n",
    "        return x_"
   ]
  },
  {
   "cell_type": "markdown",
   "id": "db430232",
   "metadata": {},
   "source": [
    "### Búsqueda recocido simulado"
   ]
  },
  {
   "cell_type": "markdown",
   "id": "bce22e65",
   "metadata": {},
   "source": [
    "#### Solución inicial"
   ]
  },
  {
   "cell_type": "code",
   "execution_count": 14,
   "id": "9dc99e87",
   "metadata": {},
   "outputs": [],
   "source": [
    "class initializer:\n",
    "\n",
    "    def __init__(self, n,p,w,c):\n",
    "        self.n = n\n",
    "        self.p = p\n",
    "        self.w = w\n",
    "        self.c = c\n",
    "        \n",
    "        self.initGISP()\n",
    "        self.getSolutionByGISP()\n",
    "    \n",
    "    def initGISP(self):\n",
    "        self.GISP_Arr=[]\n",
    "        for i in range(self.n):\n",
    "            self.GISP_Arr.append((self.p[i]/self.w[i],i))\n",
    "\n",
    "        self.GISP_Arr.sort(reverse=True)\n",
    "    \n",
    "    def getSolutionByGISP(self):\n",
    "        X = [0 for i in range(self.n)]\n",
    "        current_weight = 0\n",
    "        for i in range(self.n):\n",
    "            ind = self.GISP_Arr[i][1]\n",
    "            if current_weight+ self.w[ind] <= self.c:\n",
    "                current_weight+=self.w[ind]\n",
    "                X[ind] = 1\n",
    "        self.solution =  np.array(X)\n"
   ]
  },
  {
   "cell_type": "markdown",
   "id": "a82d2793",
   "metadata": {},
   "source": [
    "#### Configuración metaheurística"
   ]
  },
  {
   "cell_type": "code",
   "execution_count": 15,
   "id": "6d02c2a5",
   "metadata": {},
   "outputs": [],
   "source": [
    "class knapsack_SA(SA):\n",
    "\n",
    "    def __init__(self, f_ : function_type , constraints_: list, n,p,w,c, GISP_Arr):\n",
    "        super().__init__(f_,constraints_)\n",
    "        self.n = n\n",
    "        self.p = p\n",
    "        self.w = w\n",
    "        self.c = c\n",
    "        self.GISP_Arr = GISP_Arr\n",
    "        \n",
    "    def generate_neighbor(self, x: np.ndarray) -> np.ndarray:\n",
    "        x_ = x.copy()\n",
    "        N = len(x_)\n",
    "        ind = random.randint(0, N-1)\n",
    "        x_[ind] ^= 1\n",
    "        return x_\n",
    "    \n",
    "    def repair_neighbor(self, x: np.ndarray) -> np.ndarray:\n",
    "        #Get the total weight\n",
    "        total_weight=0\n",
    "        for i in range(self.n):\n",
    "            if x[i]:\n",
    "                total_weight += self.w[i]\n",
    "        \n",
    "        for i in range(self.n):\n",
    "            ind = self.GISP_Arr[self.n - (1+i)][1] #Lowest\n",
    "            \n",
    "            if x[ind]:\n",
    "                total_weight -= self.w[ind]\n",
    "                x[ind] = 0\n",
    "            \n",
    "            if total_weight <= self.c:\n",
    "                break\n",
    "                \n",
    "    def improve_neighbor(self, x: np.ndarray) -> np.ndarray:\n",
    "        \n",
    "        #Get the total weight\n",
    "        total_weight=0\n",
    "        for i in range(self.n):\n",
    "            if x[i]:\n",
    "                total_weight += self.w[i]\n",
    "                \n",
    "        for i in range(self.n):\n",
    "            ind = self.GISP_Arr[i][1]\n",
    "            if total_weight + self.w[ind] > self.c:\n",
    "                continue\n",
    "                \n",
    "            if x[ind] == 0 :\n",
    "                total_weight += self.w[ind]\n",
    "                x[ind] = 1\n",
    "                \n",
    "    def get_neighbor(self, x : np.ndarray) -> np.ndarray: \n",
    "        \n",
    "        neighbor_ = self.generate_neighbor(x)\n",
    "            \n",
    "        if(self.is_valid(neighbor_)):\n",
    "            return neighbor_\n",
    "        \n",
    "        #RI strategy\n",
    "        self.repair_neighbor(neighbor_)\n",
    "        self.improve_neighbor(neighbor_)\n",
    "        \n",
    "        return neighbor_"
   ]
  },
  {
   "cell_type": "markdown",
   "id": "61128764",
   "metadata": {},
   "source": [
    "### Búsqueda Algoritmos genéticos"
   ]
  },
  {
   "cell_type": "markdown",
   "id": "39ccbc27",
   "metadata": {},
   "source": [
    "#### Configuración de operadores"
   ]
  },
  {
   "cell_type": "code",
   "execution_count": 16,
   "id": "053aec4d",
   "metadata": {},
   "outputs": [],
   "source": [
    "configuration_knapsack = (GeneticConfig()\n",
    "                             .cross(crossover.n_point_crossover(2))\n",
    "                             .mutate(mutation.binary_mutator(.1))\n",
    "                             .survivor_selection(selection.merge_selector())\n",
    "                             .parent_selection(selection.tournament_sampler(chunks_=5,prob_=0.8))\n",
    "                             )"
   ]
  },
  {
   "cell_type": "markdown",
   "id": "2dbd7d77",
   "metadata": {},
   "source": [
    "#### Configuración de metaheurística"
   ]
  },
  {
   "cell_type": "code",
   "execution_count": 17,
   "id": "091ad354",
   "metadata": {},
   "outputs": [],
   "source": [
    "def fixer(individual,weights, cappacity):\n",
    "    indices = []\n",
    "    current_weight = 0\n",
    "    for index,item in enumerate(individual):\n",
    "        if item == 1:\n",
    "            indices.append(index)\n",
    "            current_weight += weights[index]\n",
    "\n",
    "    permutation_indices = np.random.permutation(indices)\n",
    "    new_solution = np.zeros(len(individual))\n",
    "    new_solution[indices] = 1\n",
    "\n",
    "    for i in permutation_indices:\n",
    "        if current_weight <= cappacity:\n",
    "            break\n",
    "        current_weight -= weights[i]\n",
    "        new_solution[i] = 0\n",
    "\n",
    "    return new_solution     \n",
    "    \n",
    "class knapsack_GA(GA):\n",
    "    def __init__(self,  function,\\\n",
    "                        decision_variables,\\\n",
    "                        constraints,\\\n",
    "                        config,\\\n",
    "                        n,\\\n",
    "                        p,\\\n",
    "                        w,\\\n",
    "                        c):\n",
    "        super().__init__(function, decision_variables, constraints, [], config)\n",
    "        self.n = n\n",
    "        self.p = p\n",
    "        self.w = w\n",
    "        self.c = c\n",
    "        \n",
    "    def initialize_population(self, **kwargs) -> np.ndarray:\n",
    "        individuals = []\n",
    "        \n",
    "        for i in range(self.logger['population_size']):\n",
    "            individual_ = np.random.randint(2, size= self.n)\n",
    "            if self.is_invalid(individual_):\n",
    "                individuals += [fixer(individual_, self.w, self.c)]\n",
    "            else:\n",
    "                individuals += [individual_]\n",
    "        return np.array(individuals)\n",
    " \n",
    "    def fixer(self, ind: int) -> np.ndarray:\n",
    "        return fixer(self.logger['offspring_population_x'][ind],self.w, self.c)"
   ]
  },
  {
   "cell_type": "markdown",
   "id": "ffb14164",
   "metadata": {},
   "source": [
    "### Resultados "
   ]
  },
  {
   "cell_type": "markdown",
   "id": "fd0ae175",
   "metadata": {},
   "source": [
    "#### Instancia 1"
   ]
  },
  {
   "cell_type": "code",
   "execution_count": 18,
   "id": "002cdf20",
   "metadata": {},
   "outputs": [],
   "source": [
    "AG_instancia1  = knapsack_GA(     \n",
    "                    function= knapsackAptitude(p1),\\\n",
    "                    decision_variables=n1,\\\n",
    "                    constraints= [g1],\\\n",
    "                    config=configuration_knapsack,\\\n",
    "                    n = n1,\\\n",
    "                    p = p1,\\\n",
    "                    w = w1,\\\n",
    "                    c = c1\n",
    "                )"
   ]
  },
  {
   "cell_type": "code",
   "execution_count": 19,
   "id": "9872f88b",
   "metadata": {},
   "outputs": [
    {
     "name": "stderr",
     "output_type": "stream",
     "text": [
      "/home/dell/Documentos/Git_proejcts/pyristic/pyristic/utils/operators/crossover.py:110: NumbaTypeSafetyWarning: unsafe cast from uint64 to int64. Precision may be lost.\n",
      "  new_population[2*row][start:final]    = X[parent_ind2[row]][start:final]\n"
     ]
    }
   ],
   "source": [
    "args = (300,150,0.9, False)\n",
    "statistics = get_stats(AG_instancia1, 30, args,{},showAll=False)\n",
    "\n"
   ]
  },
  {
   "cell_type": "code",
   "execution_count": 20,
   "id": "fb2f5c77",
   "metadata": {},
   "outputs": [
    {
     "name": "stdout",
     "output_type": "stream",
     "text": [
      "{'Best solution': {'f': 1521.0,\n",
      "                   'x': array([0., 1., 1., 1., 0., 0., 0., 0., 0., 1., 0., 0., 0., 1., 0., 0., 1.,\n",
      "       0., 1., 0., 0., 1., 0., 1., 1., 1., 1., 1., 0., 1., 0., 1., 0., 0.,\n",
      "       0., 1., 0., 0., 0., 1., 1., 0., 0., 0., 0., 1., 0., 0., 0., 0.])},\n",
      " 'Mean': 1526.8,\n",
      " 'Median': 1527.0,\n",
      " 'Standard deviation': 4.361956747454823,\n",
      " 'Worst solution': {'f': 1540.0,\n",
      "                    'x': array([0., 1., 1., 1., 0., 0., 0., 0., 0., 1., 0., 1., 0., 1., 0., 0., 1.,\n",
      "       0., 0., 0., 0., 1., 0., 1., 1., 0., 1., 1., 0., 1., 0., 1., 0., 0.,\n",
      "       0., 1., 0., 0., 0., 1., 1., 0., 0., 0., 0., 0., 1., 0., 0., 1.])}}\n"
     ]
    }
   ],
   "source": [
    "pprint(statistics)"
   ]
  },
  {
   "cell_type": "code",
   "execution_count": 21,
   "id": "0c78bffe",
   "metadata": {},
   "outputs": [],
   "source": [
    "initial_solution = getInitialSolution(n1,p1,w1,c1)\n",
    "TS_instancia1 = knapsack_TS(\n",
    "    f1,\n",
    "    [g1]\n",
    "    )"
   ]
  },
  {
   "cell_type": "code",
   "execution_count": 22,
   "id": "255eb339",
   "metadata": {},
   "outputs": [],
   "source": [
    "args = (initial_solution,500,n1//2,False)\n",
    "statistics = get_stats(TS_instancia1, 30, args,showAll=False)"
   ]
  },
  {
   "cell_type": "code",
   "execution_count": 23,
   "id": "c19d73a5",
   "metadata": {},
   "outputs": [
    {
     "name": "stdout",
     "output_type": "stream",
     "text": [
      "{'Best solution': {'f': -999,\n",
      "                   'x': array([1, 1, 0, 0, 1, 1, 1, 0, 0, 0, 0, 0, 0, 0, 0, 1, 0, 1, 0, 0, 0, 0,\n",
      "       0, 0, 1, 0, 0, 0, 1, 0, 0, 1, 0, 0, 0, 0, 1, 0, 1, 1, 0, 0, 0, 0,\n",
      "       1, 0, 1, 0, 0, 1])},\n",
      " 'Mean': -999.0,\n",
      " 'Median': -999.0,\n",
      " 'Standard deviation': 0.0,\n",
      " 'Worst solution': {'f': -999,\n",
      "                    'x': array([1, 1, 0, 0, 1, 1, 1, 0, 0, 0, 0, 0, 0, 0, 0, 1, 0, 1, 0, 0, 0, 0,\n",
      "       0, 0, 1, 0, 0, 0, 1, 0, 0, 1, 0, 0, 0, 0, 1, 0, 1, 1, 0, 0, 0, 0,\n",
      "       1, 0, 1, 0, 0, 1])}}\n"
     ]
    }
   ],
   "source": [
    "pprint(statistics)"
   ]
  },
  {
   "cell_type": "code",
   "execution_count": 24,
   "id": "16ccb661",
   "metadata": {},
   "outputs": [],
   "source": [
    "initial_solution = initializer(n1,p1,w1,c1)\n",
    "SA_instancia1 = knapsack_SA(f1, [g1],n1,p1,w1,c1,initial_solution.GISP_Arr)"
   ]
  },
  {
   "cell_type": "code",
   "execution_count": 25,
   "id": "7a96f423",
   "metadata": {},
   "outputs": [],
   "source": [
    "args = (initial_solution.solution,1000.0,0.01)\n",
    "statistics = get_stats(SA_instancia1, 30, args,showAll=False)"
   ]
  },
  {
   "cell_type": "code",
   "execution_count": 26,
   "id": "1987d000",
   "metadata": {},
   "outputs": [
    {
     "name": "stdout",
     "output_type": "stream",
     "text": [
      "{'Best solution': {'f': -1555,\n",
      "                   'x': array([0, 1, 1, 1, 0, 0, 0, 0, 0, 1, 0, 1, 0, 1, 0, 0, 1, 0, 0, 0, 0, 1,\n",
      "       0, 1, 1, 1, 1, 1, 0, 1, 0, 1, 0, 0, 0, 1, 0, 0, 0, 1, 1, 0, 0, 0,\n",
      "       0, 0, 1, 0, 0, 0])},\n",
      " 'Mean': -1549.0666666666666,\n",
      " 'Median': -1550.5,\n",
      " 'Standard deviation': 4.545571715661542,\n",
      " 'Worst solution': {'f': -1542,\n",
      "                    'x': array([0, 1, 1, 1, 0, 0, 0, 0, 0, 1, 0, 1, 0, 1, 0, 0, 1, 0, 0, 0, 0, 1,\n",
      "       0, 1, 0, 1, 1, 1, 0, 1, 0, 1, 0, 0, 0, 1, 0, 0, 0, 1, 1, 0, 0, 0,\n",
      "       0, 1, 1, 0, 0, 0])}}\n"
     ]
    }
   ],
   "source": [
    "pprint(statistics)"
   ]
  },
  {
   "cell_type": "markdown",
   "id": "622898a8",
   "metadata": {},
   "source": [
    "#### Instancia 2"
   ]
  },
  {
   "cell_type": "code",
   "execution_count": 27,
   "id": "f7f5092b",
   "metadata": {},
   "outputs": [],
   "source": [
    "AG_instancia2  = knapsack_GA(     \n",
    "                    function= knapsackAptitude(p2),\\\n",
    "                    decision_variables=n2,\\\n",
    "                    constraints= [g2],\\\n",
    "                    config=configuration_knapsack,\\\n",
    "                    n = n2,\\\n",
    "                    p = p2,\\\n",
    "                    w = w2,\\\n",
    "                    c = c2\n",
    "                )"
   ]
  },
  {
   "cell_type": "code",
   "execution_count": 28,
   "id": "0996cbde",
   "metadata": {},
   "outputs": [],
   "source": [
    "args = (300,150,0.9, False)\n",
    "statistics = get_stats(AG_instancia2, 30, args,{},showAll=False)"
   ]
  },
  {
   "cell_type": "code",
   "execution_count": 29,
   "id": "044943ac",
   "metadata": {},
   "outputs": [
    {
     "name": "stdout",
     "output_type": "stream",
     "text": [
      "{'Best solution': {'f': 2134.0,\n",
      "                   'x': array([1., 0., 0., 1., 0., 1., 0., 1., 0., 0., 0., 0., 0., 0., 0., 0., 0.,\n",
      "       0., 1., 0., 0., 0., 1., 0., 0., 0., 1., 0., 1., 0., 1., 0., 0., 1.,\n",
      "       0., 0., 0., 0., 1., 1., 0., 0., 0., 1., 1., 0., 0., 0., 1., 1., 1.,\n",
      "       0., 0., 0., 0., 0., 0., 0., 0., 0., 0., 0., 0., 0., 1., 1., 0., 0.,\n",
      "       0., 0., 1., 0., 0., 0., 1., 0., 0., 0., 1., 1., 1., 0., 0., 0., 0.,\n",
      "       1., 0., 1., 0., 0., 0., 0., 0., 0., 0., 1., 0., 1., 1., 1.])},\n",
      " 'Mean': 2148.366666666667,\n",
      " 'Median': 2144.0,\n",
      " 'Standard deviation': 12.177803122439158,\n",
      " 'Worst solution': {'f': 2173.0,\n",
      "                    'x': array([0., 0., 0., 0., 0., 0., 0., 0., 0., 0., 1., 0., 0., 1., 1., 0., 1.,\n",
      "       0., 1., 0., 0., 0., 1., 1., 0., 0., 0., 0., 1., 0., 1., 0., 0., 0.,\n",
      "       0., 0., 1., 0., 1., 0., 0., 0., 0., 1., 1., 0., 0., 0., 1., 0., 0.,\n",
      "       0., 0., 0., 0., 0., 0., 0., 1., 1., 0., 0., 0., 0., 1., 1., 0., 0.,\n",
      "       0., 0., 1., 0., 1., 0., 1., 0., 0., 0., 1., 1., 1., 0., 1., 0., 0.,\n",
      "       0., 1., 1., 0., 0., 0., 0., 0., 0., 0., 0., 0., 0., 1., 0.])}}\n"
     ]
    }
   ],
   "source": [
    "pprint(statistics)"
   ]
  },
  {
   "cell_type": "code",
   "execution_count": 30,
   "id": "14df4ca3",
   "metadata": {},
   "outputs": [],
   "source": [
    "initial_solution = getInitialSolution(n2,p2,w2,c2)\n",
    "TS_instancia2 = knapsack_TS(\n",
    "    f2,\n",
    "    [g2]\n",
    "    )"
   ]
  },
  {
   "cell_type": "code",
   "execution_count": 31,
   "id": "712dcf87",
   "metadata": {},
   "outputs": [],
   "source": [
    "args = (initial_solution,500,n2//2,False)\n",
    "statistics = get_stats(TS_instancia2, 30, args,showAll=False)"
   ]
  },
  {
   "cell_type": "code",
   "execution_count": 32,
   "id": "758f1e84",
   "metadata": {},
   "outputs": [
    {
     "name": "stdout",
     "output_type": "stream",
     "text": [
      "{'Best solution': {'f': -1098,\n",
      "                   'x': array([0, 1, 0, 0, 0, 0, 0, 0, 0, 0, 0, 0, 1, 0, 0, 0, 0, 0, 0, 0, 0, 0,\n",
      "       0, 1, 0, 0, 0, 0, 0, 1, 1, 0, 0, 0, 1, 1, 1, 1, 0, 0, 0, 0, 1, 1,\n",
      "       1, 0, 1, 1, 0, 0, 0, 0, 0, 1, 0, 0, 0, 0, 0, 0, 0, 1, 0, 1, 0, 0,\n",
      "       0, 0, 1, 1, 0, 0, 0, 0, 0, 0, 1, 0, 0, 0, 0, 0, 0, 1, 1, 0, 0, 0,\n",
      "       0, 0, 0, 0, 0, 0, 1, 0, 0, 0, 0, 0])},\n",
      " 'Mean': -1098.0,\n",
      " 'Median': -1098.0,\n",
      " 'Standard deviation': 0.0,\n",
      " 'Worst solution': {'f': -1098,\n",
      "                    'x': array([0, 1, 0, 0, 0, 0, 0, 0, 0, 0, 0, 0, 1, 0, 0, 0, 0, 0, 0, 0, 0, 0,\n",
      "       0, 1, 0, 0, 0, 0, 0, 1, 1, 0, 0, 0, 1, 1, 1, 1, 0, 0, 0, 0, 1, 1,\n",
      "       1, 0, 1, 1, 0, 0, 0, 0, 0, 1, 0, 0, 0, 0, 0, 0, 0, 1, 0, 1, 0, 0,\n",
      "       0, 0, 1, 1, 0, 0, 0, 0, 0, 0, 1, 0, 0, 0, 0, 0, 0, 1, 1, 0, 0, 0,\n",
      "       0, 0, 0, 0, 0, 0, 1, 0, 0, 0, 0, 0])}}\n"
     ]
    }
   ],
   "source": [
    "pprint(statistics)"
   ]
  },
  {
   "cell_type": "code",
   "execution_count": 33,
   "id": "38732132",
   "metadata": {},
   "outputs": [],
   "source": [
    "initial_solution = initializer(n2,p2,w2,c2)\n",
    "SA_instancia1 = knapsack_SA(f2, [g2],n2,p2,w2,c2,initial_solution.GISP_Arr)"
   ]
  },
  {
   "cell_type": "code",
   "execution_count": 34,
   "id": "55c757b8",
   "metadata": {},
   "outputs": [],
   "source": [
    "args = (initial_solution.solution,1000.0,0.01)\n",
    "statistics = get_stats(SA_instancia1, 30, args,showAll=False)"
   ]
  },
  {
   "cell_type": "code",
   "execution_count": 35,
   "id": "0f52f648",
   "metadata": {},
   "outputs": [
    {
     "name": "stdout",
     "output_type": "stream",
     "text": [
      "{'Best solution': {'f': -2417,\n",
      "                   'x': array([0, 0, 0, 0, 0, 0, 0, 0, 0, 0, 0, 0, 0, 0, 0, 0, 0, 0, 1, 0, 0, 0,\n",
      "       1, 1, 0, 0, 0, 1, 1, 0, 1, 0, 0, 0, 0, 0, 1, 0, 1, 0, 1, 0, 0, 1,\n",
      "       1, 0, 0, 0, 1, 1, 1, 0, 0, 0, 0, 0, 0, 0, 1, 1, 0, 0, 0, 0, 1, 1,\n",
      "       0, 1, 0, 0, 1, 0, 0, 0, 1, 0, 1, 0, 1, 1, 1, 0, 0, 0, 1, 1, 1, 1,\n",
      "       0, 0, 0, 0, 0, 0, 0, 0, 0, 0, 1, 1])},\n",
      " 'Mean': -2410.4666666666667,\n",
      " 'Median': -2410.0,\n",
      " 'Standard deviation': 5.064473209415653,\n",
      " 'Worst solution': {'f': -2401,\n",
      "                    'x': array([0, 0, 0, 0, 1, 0, 0, 0, 0, 0, 0, 0, 0, 0, 0, 0, 0, 0, 1, 0, 0, 0,\n",
      "       1, 1, 0, 0, 0, 1, 1, 0, 1, 0, 0, 0, 0, 0, 1, 0, 1, 0, 1, 0, 0, 1,\n",
      "       1, 0, 0, 0, 1, 1, 1, 0, 0, 0, 0, 0, 0, 0, 0, 1, 0, 0, 0, 0, 1, 1,\n",
      "       0, 1, 0, 0, 1, 0, 0, 0, 1, 0, 0, 0, 1, 1, 1, 0, 0, 0, 1, 1, 1, 1,\n",
      "       0, 0, 0, 0, 0, 0, 0, 0, 0, 0, 1, 1])}}\n"
     ]
    }
   ],
   "source": [
    "pprint(statistics)"
   ]
  },
  {
   "cell_type": "markdown",
   "id": "906ee2a9",
   "metadata": {},
   "source": [
    "#### Instancia 3"
   ]
  },
  {
   "cell_type": "code",
   "execution_count": 36,
   "id": "098571c7",
   "metadata": {},
   "outputs": [],
   "source": [
    "AG_instancia3  = knapsack_GA(     \n",
    "                    function= knapsackAptitude(p3),\\\n",
    "                    decision_variables=n3,\\\n",
    "                    constraints= [g3],\\\n",
    "                    config=configuration_knapsack,\\\n",
    "                    n = n3,\\\n",
    "                    p = p3,\\\n",
    "                    w = w3,\\\n",
    "                    c = c3\n",
    "                )"
   ]
  },
  {
   "cell_type": "code",
   "execution_count": 37,
   "id": "37fef018",
   "metadata": {},
   "outputs": [],
   "source": [
    "args = (300,150,0.9, False)\n",
    "statistics = get_stats(AG_instancia3, 30, args,{},showAll=False)"
   ]
  },
  {
   "cell_type": "code",
   "execution_count": 38,
   "id": "3026f189",
   "metadata": {},
   "outputs": [
    {
     "name": "stdout",
     "output_type": "stream",
     "text": [
      "{'Best solution': {'f': 3101.0,\n",
      "                   'x': array([1., 0., 1., 0., 1., 0., 0., 0., 0., 0., 0., 0., 1., 0., 0., 0., 1.,\n",
      "       1., 0., 0., 0., 1., 1., 0., 1., 0., 0., 0., 0., 0., 0., 0., 0., 1.,\n",
      "       0., 1., 1., 0., 0., 0., 1., 0., 0., 0., 0., 0., 0., 0., 1., 0., 1.,\n",
      "       0., 1., 0., 0., 1., 0., 0., 0., 1., 0., 0., 0., 0., 0., 1., 0., 0.,\n",
      "       0., 0., 0., 0., 0., 0., 1., 0., 0., 1., 1., 0., 1., 0., 0., 1., 1.,\n",
      "       1., 0., 0., 0., 0., 0., 0., 1., 1., 0., 0., 0., 0., 1., 1., 0., 0.,\n",
      "       0., 0., 1., 0., 0., 0., 0., 0., 0., 1., 0., 1., 1., 0., 0., 0., 1.,\n",
      "       0., 1., 0., 0., 1., 0., 1., 1., 1., 0., 0., 1., 0., 0., 1., 0., 0.,\n",
      "       0., 0., 0., 0., 0., 0., 0., 1., 1., 0., 0., 1., 0., 0.])},\n",
      " 'Mean': 3131.8,\n",
      " 'Median': 3133.0,\n",
      " 'Standard deviation': 15.990413794937684,\n",
      " 'Worst solution': {'f': 3168.0,\n",
      "                    'x': array([1., 0., 0., 0., 1., 0., 0., 0., 0., 1., 0., 0., 0., 0., 0., 0., 1.,\n",
      "       1., 0., 0., 0., 1., 1., 0., 0., 1., 0., 1., 0., 0., 0., 0., 0., 0.,\n",
      "       0., 1., 0., 0., 0., 0., 1., 0., 0., 1., 0., 0., 0., 0., 1., 0., 1.,\n",
      "       0., 0., 0., 0., 1., 1., 0., 0., 1., 0., 0., 1., 0., 1., 0., 0., 0.,\n",
      "       0., 0., 0., 0., 0., 0., 1., 0., 0., 1., 1., 0., 1., 1., 0., 0., 1.,\n",
      "       0., 0., 1., 0., 0., 0., 0., 0., 0., 0., 0., 0., 1., 1., 0., 0., 0.,\n",
      "       1., 0., 1., 1., 0., 1., 0., 0., 0., 0., 0., 1., 0., 0., 0., 1., 1.,\n",
      "       0., 1., 0., 0., 1., 1., 0., 0., 0., 0., 0., 1., 1., 0., 1., 0., 0.,\n",
      "       1., 0., 0., 0., 0., 0., 0., 1., 1., 0., 1., 1., 0., 0.])}}\n"
     ]
    }
   ],
   "source": [
    "pprint(statistics)"
   ]
  },
  {
   "cell_type": "code",
   "execution_count": 39,
   "id": "6a67699e",
   "metadata": {},
   "outputs": [],
   "source": [
    "initial_solution = getInitialSolution(n3,p3,w3,c3)\n",
    "TS_instancia3 = knapsack_TS(\n",
    "    f3,\n",
    "    [g3]\n",
    "    )"
   ]
  },
  {
   "cell_type": "code",
   "execution_count": 40,
   "id": "91a0d316",
   "metadata": {},
   "outputs": [],
   "source": [
    "args = (initial_solution,500,n3//2,False)\n",
    "statistics = get_stats(TS_instancia3, 30, args,showAll=False)"
   ]
  },
  {
   "cell_type": "code",
   "execution_count": 41,
   "id": "c62b109a",
   "metadata": {},
   "outputs": [
    {
     "name": "stdout",
     "output_type": "stream",
     "text": [
      "{'Best solution': {'f': -2167,\n",
      "                   'x': array([0, 0, 0, 0, 0, 0, 0, 0, 0, 1, 0, 0, 1, 0, 0, 0, 0, 1, 1, 1, 1, 0,\n",
      "       0, 1, 0, 0, 1, 0, 0, 0, 0, 0, 1, 0, 0, 0, 0, 0, 0, 0, 0, 0, 0, 0,\n",
      "       0, 0, 1, 0, 0, 0, 0, 0, 0, 0, 0, 0, 0, 1, 0, 1, 0, 0, 0, 0, 1, 0,\n",
      "       0, 1, 1, 0, 0, 0, 1, 0, 0, 0, 0, 0, 0, 0, 0, 1, 0, 0, 1, 0, 0, 0,\n",
      "       0, 0, 0, 0, 0, 0, 0, 0, 0, 0, 0, 1, 0, 1, 0, 1, 1, 0, 0, 1, 0, 1,\n",
      "       0, 0, 0, 0, 1, 0, 0, 0, 1, 1, 1, 0, 0, 1, 0, 0, 0, 0, 0, 0, 0, 1,\n",
      "       0, 0, 0, 0, 0, 0, 0, 1, 0, 0, 0, 0, 1, 0, 0, 0, 0, 0])},\n",
      " 'Mean': -2167.0,\n",
      " 'Median': -2167.0,\n",
      " 'Standard deviation': 0.0,\n",
      " 'Worst solution': {'f': -2167,\n",
      "                    'x': array([0, 0, 0, 0, 0, 0, 0, 0, 0, 1, 0, 0, 1, 0, 0, 0, 0, 1, 1, 1, 1, 0,\n",
      "       0, 1, 0, 0, 1, 0, 0, 0, 0, 0, 1, 0, 0, 0, 0, 0, 0, 0, 0, 0, 0, 0,\n",
      "       0, 0, 1, 0, 0, 0, 0, 0, 0, 0, 0, 0, 0, 1, 0, 1, 0, 0, 0, 0, 1, 0,\n",
      "       0, 1, 1, 0, 0, 0, 1, 0, 0, 0, 0, 0, 0, 0, 0, 1, 0, 0, 1, 0, 0, 0,\n",
      "       0, 0, 0, 0, 0, 0, 0, 0, 0, 0, 0, 1, 0, 1, 0, 1, 1, 0, 0, 1, 0, 1,\n",
      "       0, 0, 0, 0, 1, 0, 0, 0, 1, 1, 1, 0, 0, 1, 0, 0, 0, 0, 0, 0, 0, 1,\n",
      "       0, 0, 0, 0, 0, 0, 0, 1, 0, 0, 0, 0, 1, 0, 0, 0, 0, 0])}}\n"
     ]
    }
   ],
   "source": [
    "pprint(statistics)"
   ]
  },
  {
   "cell_type": "code",
   "execution_count": 42,
   "id": "625a63f2",
   "metadata": {},
   "outputs": [],
   "source": [
    "initial_solution = initializer(n3,p3,w3,c3)\n",
    "SA_instancia3 = knapsack_SA(f3, [g3],n3,p3,w3,c3,initial_solution.GISP_Arr)"
   ]
  },
  {
   "cell_type": "code",
   "execution_count": 43,
   "id": "d4c0ab8b",
   "metadata": {},
   "outputs": [],
   "source": [
    "args = (initial_solution.solution,1000.0,0.01)\n",
    "statistics = get_stats(SA_instancia3, 30, args,showAll=False)"
   ]
  },
  {
   "cell_type": "code",
   "execution_count": 44,
   "id": "9d778601",
   "metadata": {},
   "outputs": [
    {
     "name": "stdout",
     "output_type": "stream",
     "text": [
      "{'Best solution': {'f': -3777,\n",
      "                   'x': array([1, 1, 0, 0, 1, 0, 0, 0, 0, 0, 0, 0, 0, 0, 0, 0, 1, 1, 0, 0, 0, 1,\n",
      "       1, 1, 0, 0, 1, 1, 0, 0, 0, 0, 0, 1, 0, 1, 0, 0, 0, 0, 0, 1, 0, 0,\n",
      "       0, 0, 0, 0, 0, 1, 1, 0, 1, 0, 0, 1, 1, 0, 0, 1, 0, 0, 0, 0, 0, 1,\n",
      "       0, 0, 0, 0, 1, 0, 0, 0, 1, 0, 0, 1, 1, 1, 1, 1, 0, 0, 1, 1, 0, 1,\n",
      "       0, 0, 0, 1, 1, 0, 1, 0, 0, 1, 1, 0, 0, 0, 0, 0, 1, 1, 0, 0, 0, 0,\n",
      "       0, 1, 0, 1, 0, 0, 0, 1, 1, 0, 1, 0, 1, 1, 0, 0, 1, 1, 0, 1, 0, 0,\n",
      "       0, 1, 0, 0, 0, 0, 0, 0, 0, 0, 0, 1, 1, 1, 0, 1, 0, 0])},\n",
      " 'Mean': -3769.9333333333334,\n",
      " 'Median': -3768.0,\n",
      " 'Standard deviation': 2.8158282775923835,\n",
      " 'Worst solution': {'f': -3768,\n",
      "                    'x': array([1, 1, 0, 0, 1, 0, 0, 0, 0, 0, 0, 0, 0, 0, 0, 0, 1, 1, 0, 0, 0, 1,\n",
      "       1, 1, 0, 0, 1, 1, 0, 0, 0, 0, 0, 1, 0, 1, 0, 0, 0, 0, 0, 0, 1, 0,\n",
      "       0, 0, 0, 0, 0, 1, 1, 0, 1, 0, 0, 1, 1, 0, 0, 1, 0, 0, 0, 0, 0, 1,\n",
      "       0, 0, 0, 0, 1, 0, 0, 0, 1, 0, 0, 1, 1, 1, 1, 1, 0, 0, 1, 1, 0, 1,\n",
      "       0, 0, 0, 1, 1, 0, 1, 0, 0, 1, 1, 0, 0, 0, 0, 0, 1, 1, 0, 0, 0, 0,\n",
      "       0, 1, 0, 1, 0, 0, 0, 1, 1, 0, 1, 0, 1, 1, 0, 0, 1, 1, 0, 1, 0, 0,\n",
      "       0, 1, 0, 0, 0, 0, 0, 0, 0, 0, 0, 1, 1, 0, 0, 1, 0, 0])}}\n"
     ]
    }
   ],
   "source": [
    "pprint(statistics)"
   ]
  },
  {
   "cell_type": "markdown",
   "id": "bbc60e2e",
   "metadata": {},
   "source": [
    "## Problema del agente viajero"
   ]
  },
  {
   "cell_type": "code",
   "execution_count": 45,
   "id": "0ea0ae96",
   "metadata": {},
   "outputs": [],
   "source": [
    "class TSPFunction:\n",
    "    def __init__(self, distanceMatrix: (list, np.ndarray)):\n",
    "        self.distance = np.array(distanceMatrix)\n",
    "        \n",
    "    def __call__(self,x: np.ndarray):\n",
    "        total_dist = self.distance[int(x[-1])][0] + self.distance[0][int(x[0])]\n",
    "        for i in range(1,len(x)):\n",
    "            u,v = int(x[i]), int(x[i-1])\n",
    "            total_dist+= self.distance[u][v]\n",
    "\n",
    "        return float(total_dist)\n",
    "\n",
    "class TSPAptitude:\n",
    "    def __init__(self,  distanceMatrix: (list, np.ndarray)):\n",
    "        self.f = TSPFunction(distanceMatrix)\n",
    "        \n",
    "    def __call__(self,X:np.ndarray):\n",
    "        return -1 * self.f(X) \n",
    "\n",
    "  "
   ]
  },
  {
   "cell_type": "code",
   "execution_count": 46,
   "id": "9387fd43",
   "metadata": {},
   "outputs": [],
   "source": [
    "def create_travel_matrix(n, low_bound, high_bound):\n",
    "    matrix = np.zeros((n,n))\n",
    "    for i in range(1,n):\n",
    "        for j in range(i):\n",
    "            value =  np.random.randint(low_bound, high_bound)\n",
    "            matrix[i][j] = value\n",
    "            matrix[j][i] = value \n",
    "    return matrix"
   ]
  },
  {
   "cell_type": "markdown",
   "id": "ffc008ad",
   "metadata": {},
   "source": [
    "### Instancia 1"
   ]
  },
  {
   "cell_type": "code",
   "execution_count": 47,
   "id": "3a1dd107",
   "metadata": {},
   "outputs": [],
   "source": [
    "matrix1 = create_travel_matrix(10,10,100)\n",
    "n1 = 10\n",
    "f1 = TSPFunction(matrix1)"
   ]
  },
  {
   "cell_type": "markdown",
   "id": "92fb1bda",
   "metadata": {},
   "source": [
    "### Instancia 2\n"
   ]
  },
  {
   "cell_type": "code",
   "execution_count": 48,
   "id": "c6afb117",
   "metadata": {},
   "outputs": [],
   "source": [
    "matrix2 = create_travel_matrix(15,10,100)\n",
    "n2 = 15\n",
    "f2 = TSPFunction(matrix2)"
   ]
  },
  {
   "cell_type": "markdown",
   "id": "ec978680",
   "metadata": {},
   "source": [
    "### Instancia 3"
   ]
  },
  {
   "cell_type": "code",
   "execution_count": 49,
   "id": "cb345bc8",
   "metadata": {},
   "outputs": [],
   "source": [
    "matrix3 = create_travel_matrix(20,10,100)\n",
    "n3 = 20\n",
    "f3 = TSPFunction(matrix3)"
   ]
  },
  {
   "cell_type": "markdown",
   "id": "54ce82c5",
   "metadata": {},
   "source": [
    "## Búsqueda Tabú"
   ]
  },
  {
   "cell_type": "markdown",
   "id": "a1c9bd81",
   "metadata": {},
   "source": [
    "#### Solución inicial"
   ]
  },
  {
   "cell_type": "code",
   "execution_count": 50,
   "id": "8bc74894",
   "metadata": {},
   "outputs": [],
   "source": [
    "def getInitialSolution(distance_matrix, total_cities):\n",
    "    Solution = [0]\n",
    "    remaining_cities  = list(range(1,total_cities))\n",
    "    \n",
    "    while len(remaining_cities) != 0:\n",
    "        from_ =Solution[-1] \n",
    "        to_ = remaining_cities[0]\n",
    "        dist = distance_matrix[from_][to_]\n",
    "        \n",
    "        for i in range(1, len(remaining_cities)):\n",
    "            distance = distance_matrix[from_][remaining_cities[i]]\n",
    "            if distance < dist:\n",
    "                to_ = remaining_cities[i]\n",
    "                dist = distance\n",
    "        Solution.append(to_)\n",
    "        ind = remaining_cities.index(to_)\n",
    "        remaining_cities.pop(ind)\n",
    "    return Solution"
   ]
  },
  {
   "cell_type": "markdown",
   "id": "6be14cdb",
   "metadata": {},
   "source": [
    "#### Configuración de metaheuristica"
   ]
  },
  {
   "cell_type": "code",
   "execution_count": 51,
   "id": "4db2be14",
   "metadata": {},
   "outputs": [],
   "source": [
    "class Tabu_Salesman_list:\n",
    "    def __init__(self,timer):\n",
    "        self.__TB = {}\n",
    "        self.timer = timer\n",
    "    \n",
    "    def reset(self,timer) -> None:\n",
    "        self.__TB = {}\n",
    "        self.timer = timer\n",
    "        \n",
    "    def update(self) -> None:\n",
    "        to_pop = []\n",
    "        for key in self.__TB:\n",
    "            if self.__TB[key]-1 == 0:\n",
    "                to_pop.append(key)\n",
    "            else:\n",
    "                self.__TB[key]-=1\n",
    "        for key in to_pop:\n",
    "            self.__TB.pop(key)\n",
    "        \n",
    "    #x has [p,v,step], we are only interested in v (value)\n",
    "    def push(self, x : list ) -> None:\n",
    "        self.__TB[x[1]] = self.timer\n",
    "        \n",
    "\n",
    "    def find(self, x : list) -> bool:\n",
    "        return x[1] in self.__TB\n",
    "        "
   ]
  },
  {
   "cell_type": "code",
   "execution_count": 52,
   "id": "14a14686",
   "metadata": {},
   "outputs": [],
   "source": [
    "class TSP_TS(TS):\n",
    "\n",
    "    def __init__(self, f_ : function_type , TabuStorage):\n",
    "        super().__init__(f_,[],TabuStorage)\n",
    "        \n",
    "\n",
    "    def get_neighbors(self, x : np.ndarray,**kwargs) -> list: \n",
    "        \n",
    "        neighbors_list = []\n",
    "        \n",
    "        ind = random.randint(1,len(x)-1)\n",
    "        while  self.TL.find([-1,x[ind]]):\n",
    "            ind = random.randint(1,len(x)-1)\n",
    "        v = x[ind]\n",
    "        x_tmp = list(x[v != x])\n",
    "        for i in range(1, len(x)):\n",
    "            if ind == i:\n",
    "                continue\n",
    "            neighbors_list += [ x_tmp[:i] + [v] + x_tmp[i:]]\n",
    "            \n",
    "        return neighbors_list\n",
    "\n",
    "\n",
    "    def encode_change(self, neighbor : (list,np.ndarray), x : (list,np.ndarray),**kwargs) -> list: #2\n",
    "        \n",
    "        x_p ={x[i] : i for i in range(len(x))}\n",
    "        n_p = {neighbor[i]: i for i in range(len(x))}\n",
    "        ind = -1\n",
    "        max_dist = -1\n",
    "        value = -1\n",
    "        for i in range(1, len(x)):\n",
    "            v = x[i]\n",
    "            dist = abs(x_p[v] - n_p[v])\n",
    "            if dist > max_dist:\n",
    "                ind = i\n",
    "                max_dist = dist\n",
    "                value = v\n",
    "       \n",
    "        return [ind , value]"
   ]
  },
  {
   "cell_type": "markdown",
   "id": "c32a0643",
   "metadata": {},
   "source": [
    "## Búsqueda Recocido simulado"
   ]
  },
  {
   "cell_type": "markdown",
   "id": "836d6138",
   "metadata": {},
   "source": [
    "#### Configuración metaheurística"
   ]
  },
  {
   "cell_type": "code",
   "execution_count": 53,
   "id": "e652282a",
   "metadata": {},
   "outputs": [],
   "source": [
    "class TSP_SA(SA):\n",
    "\n",
    "    def __init__(self, f_ : function_type ):\n",
    "        super().__init__(f_,[])\n",
    "\n",
    "    def get_neighbor(self, x : np.ndarray) -> np.ndarray: \n",
    "        \n",
    "        x_ = x.copy()\n",
    "        N = len(x_)\n",
    "        index1 = random.randint(1, N-1)\n",
    "        index2 = random.randint(1, N-1)\n",
    "    \n",
    "        while index2 == index1:\n",
    "            index2 = random.randint(1, N-1)\n",
    "    \n",
    "        v = x[index1]\n",
    "        x_ = list(x_[v != x_])\n",
    "        x_ = x_[:index2] + [v] + x_[index2:]\n",
    "        return np.array(x_)\n"
   ]
  },
  {
   "cell_type": "markdown",
   "id": "d382d8cc",
   "metadata": {},
   "source": [
    "## Búsqueda Algoritmos genéticos"
   ]
  },
  {
   "cell_type": "markdown",
   "id": "22238ede",
   "metadata": {},
   "source": [
    "#### Configuración de operadores"
   ]
  },
  {
   "cell_type": "code",
   "execution_count": 54,
   "id": "a7d12908",
   "metadata": {},
   "outputs": [],
   "source": [
    "configuration_TSP = (GeneticConfig()\n",
    "                         .cross(crossover.permutation_order_crossover())\n",
    "                         .mutate(mutation.insertion_mutator(1))\n",
    "                         .survivor_selection(selection.merge_selector())\n",
    "                         .parent_selection(selection.tournament_sampler(chunks_=5,prob_=0.8))\n",
    "                         .fixer_invalide_solutions(NoneFixer()))\n"
   ]
  },
  {
   "cell_type": "markdown",
   "id": "035640bb",
   "metadata": {},
   "source": [
    "#### Configuración de metaheurística"
   ]
  },
  {
   "cell_type": "code",
   "execution_count": 55,
   "id": "b122d872",
   "metadata": {},
   "outputs": [],
   "source": [
    "class TSP_GA(GA):\n",
    "    def __init__(self,  function,\\\n",
    "                        decision_variables:int,\\\n",
    "                        config = None):\n",
    "        super().__init__(function, decision_variables, [],[], config)\n",
    "    \n",
    "    def initialize_population(self, **kwargs) -> np.ndarray:\n",
    "        individuals = []\n",
    "        \n",
    "        for i in range(self.logger['population_size']):\n",
    "            individuals += [np.random.permutation(range(1,self.Decision_variables))]\n",
    "            \n",
    "        return np.array(individuals)"
   ]
  },
  {
   "cell_type": "markdown",
   "id": "07cafaef",
   "metadata": {},
   "source": [
    "### Resultados"
   ]
  },
  {
   "cell_type": "markdown",
   "id": "75a697b6",
   "metadata": {},
   "source": [
    "#### Instancia 1"
   ]
  },
  {
   "cell_type": "code",
   "execution_count": 56,
   "id": "3b30e4f4",
   "metadata": {},
   "outputs": [],
   "source": [
    "TS_instancia1 = TSP_TS(f1,Tabu_Salesman_list(n1//2))\n",
    "init_path = np.array(getInitialSolution(matrix1,n1))"
   ]
  },
  {
   "cell_type": "code",
   "execution_count": 57,
   "id": "14a98908",
   "metadata": {},
   "outputs": [
    {
     "name": "stdout",
     "output_type": "stream",
     "text": [
      "{'Best solution': {'f': 249.0, 'x': array([0, 9, 1, 5, 4, 8, 6, 7, 2, 3])},\n",
      " 'Mean': 249.0,\n",
      " 'Median': 249.0,\n",
      " 'Standard deviation': 0.0,\n",
      " 'Worst solution': {'f': 249.0, 'x': array([0, 9, 1, 5, 4, 8, 6, 7, 2, 3])}}\n"
     ]
    }
   ],
   "source": [
    "args = (init_path, 100, n1//2, False)\n",
    "statistics = get_stats(TS_instancia1, 30, args, showAll=False)\n",
    "pprint(statistics)"
   ]
  },
  {
   "cell_type": "code",
   "execution_count": 58,
   "id": "ef945730",
   "metadata": {},
   "outputs": [],
   "source": [
    "SA_instancia1 = TSP_SA(f1)"
   ]
  },
  {
   "cell_type": "code",
   "execution_count": 59,
   "id": "21b25bf5",
   "metadata": {},
   "outputs": [
    {
     "name": "stdout",
     "output_type": "stream",
     "text": [
      "{'Best solution': {'f': 228.0, 'x': array([0, 7, 2, 3, 6, 8, 4, 5, 1, 9])},\n",
      " 'Mean': 243.7,\n",
      " 'Median': 249.0,\n",
      " 'Standard deviation': 8.149233092751736,\n",
      " 'Worst solution': {'f': 249.0, 'x': array([0, 9, 1, 5, 4, 8, 6, 7, 2, 3])}}\n"
     ]
    }
   ],
   "source": [
    "args = (init_path, 1000.0, 0.01)\n",
    "statistics = get_stats(SA_instancia1, 30, args, showAll=False)\n",
    "pprint(statistics)"
   ]
  },
  {
   "cell_type": "code",
   "execution_count": 60,
   "id": "edd4d68f",
   "metadata": {},
   "outputs": [],
   "source": [
    "GA_instancia1 = TSP_GA(TSPAptitude(matrix1),n1,configuration_TSP)"
   ]
  },
  {
   "cell_type": "code",
   "execution_count": 61,
   "id": "3e874512",
   "metadata": {},
   "outputs": [
    {
     "name": "stderr",
     "output_type": "stream",
     "text": [
      "/home/dell/Documentos/Git_proejcts/pyristic/pyristic/utils/operators/crossover.py:175: NumbaWarning: \n",
      "Compilation is falling back to object mode WITH looplifting enabled because Function \"permutation_order_cross\" failed type inference due to: Invalid use of type(CPUDispatcher(<function create_child at 0x7fd353b46b80>)) with parameters (array(int64, 1d, C), array(int64, 1d, C))\n",
      "\n",
      "During: resolving callee type: type(CPUDispatcher(<function create_child at 0x7fd353b46b80>))\n",
      "During: typing of call at /home/dell/Documentos/Git_proejcts/pyristic/pyristic/utils/operators/crossover.py (199)\n",
      "\n",
      "\n",
      "File \"pyristic/pyristic/utils/operators/crossover.py\", line 199:\n",
      "def permutation_order_cross(X : np.ndarray , parent_ind1:np.ndarray,\\\n",
      "    <source elided>\n",
      "    for i in prange(num_individuals):\n",
      "        new_population[2*i]  = create_child(X[parent_ind1[i]], X[parent_ind2[i]])\n",
      "        ^\n",
      "\n",
      "  @jit(nopython=False, parallel=True)\n",
      "/home/dell/Documentos/Git_proejcts/pyristic/pyristic/utils/operators/crossover.py:175: NumbaWarning: \n",
      "Compilation is falling back to object mode WITHOUT looplifting enabled because Function \"permutation_order_cross\" failed type inference due to: cannot determine Numba type of <class 'numba.core.dispatcher.LiftedLoop'>\n",
      "\n",
      "File \"pyristic/pyristic/utils/operators/crossover.py\", line 198:\n",
      "def permutation_order_cross(X : np.ndarray , parent_ind1:np.ndarray,\\\n",
      "    <source elided>\n",
      "\n",
      "    for i in prange(num_individuals):\n",
      "    ^\n",
      "\n",
      "  @jit(nopython=False, parallel=True)\n",
      "/home/dell/anaconda3/envs/pyristicEnv/lib/python3.8/site-packages/numba/core/object_mode_passes.py:177: NumbaWarning: Function \"permutation_order_cross\" was compiled in object mode without forceobj=True, but has lifted loops.\n",
      "\n",
      "File \"pyristic/pyristic/utils/operators/crossover.py\", line 194:\n",
      "def permutation_order_cross(X : np.ndarray , parent_ind1:np.ndarray,\\\n",
      "    <source elided>\n",
      "\n",
      "    num_individuals = len(parent_ind1)\n",
      "    ^\n",
      "\n",
      "  warnings.warn(errors.NumbaWarning(warn_msg,\n",
      "/home/dell/anaconda3/envs/pyristicEnv/lib/python3.8/site-packages/numba/core/object_mode_passes.py:187: NumbaDeprecationWarning: \n",
      "Fall-back from the nopython compilation path to the object mode compilation path has been detected, this is deprecated behaviour.\n",
      "\n",
      "For more information visit https://numba.pydata.org/numba-doc/latest/reference/deprecation.html#deprecation-of-object-mode-fall-back-behaviour-when-using-jit\n",
      "\n",
      "File \"pyristic/pyristic/utils/operators/crossover.py\", line 194:\n",
      "def permutation_order_cross(X : np.ndarray , parent_ind1:np.ndarray,\\\n",
      "    <source elided>\n",
      "\n",
      "    num_individuals = len(parent_ind1)\n",
      "    ^\n",
      "\n",
      "  warnings.warn(errors.NumbaDeprecationWarning(msg,\n",
      "/home/dell/Documentos/Git_proejcts/pyristic/pyristic/utils/operators/crossover.py:175: NumbaWarning: \n",
      "Compilation is falling back to object mode WITHOUT looplifting enabled because Function \"permutation_order_cross\" failed type inference due to: non-precise type pyobject\n",
      "During: typing of argument at /home/dell/Documentos/Git_proejcts/pyristic/pyristic/utils/operators/crossover.py (198)\n",
      "\n",
      "File \"pyristic/pyristic/utils/operators/crossover.py\", line 198:\n",
      "def permutation_order_cross(X : np.ndarray , parent_ind1:np.ndarray,\\\n",
      "    <source elided>\n",
      "\n",
      "    for i in prange(num_individuals):\n",
      "    ^\n",
      "\n",
      "  @jit(nopython=False, parallel=True)\n",
      "/home/dell/anaconda3/envs/pyristicEnv/lib/python3.8/site-packages/numba/core/object_mode_passes.py:177: NumbaWarning: Function \"permutation_order_cross\" was compiled in object mode without forceobj=True.\n",
      "\n",
      "File \"pyristic/pyristic/utils/operators/crossover.py\", line 198:\n",
      "def permutation_order_cross(X : np.ndarray , parent_ind1:np.ndarray,\\\n",
      "    <source elided>\n",
      "\n",
      "    for i in prange(num_individuals):\n",
      "    ^\n",
      "\n",
      "  warnings.warn(errors.NumbaWarning(warn_msg,\n",
      "/home/dell/anaconda3/envs/pyristicEnv/lib/python3.8/site-packages/numba/core/object_mode_passes.py:187: NumbaDeprecationWarning: \n",
      "Fall-back from the nopython compilation path to the object mode compilation path has been detected, this is deprecated behaviour.\n",
      "\n",
      "For more information visit https://numba.pydata.org/numba-doc/latest/reference/deprecation.html#deprecation-of-object-mode-fall-back-behaviour-when-using-jit\n",
      "\n",
      "File \"pyristic/pyristic/utils/operators/crossover.py\", line 198:\n",
      "def permutation_order_cross(X : np.ndarray , parent_ind1:np.ndarray,\\\n",
      "    <source elided>\n",
      "\n",
      "    for i in prange(num_individuals):\n",
      "    ^\n",
      "\n",
      "  warnings.warn(errors.NumbaDeprecationWarning(msg,\n",
      "/home/dell/Documentos/Git_proejcts/pyristic/pyristic/utils/operators/crossover.py:153: NumbaWarning: \n",
      "Compilation is falling back to object mode WITHOUT looplifting enabled because Function \"create_child\" failed type inference due to: non-precise type pyobject\n",
      "During: typing of argument at /home/dell/Documentos/Git_proejcts/pyristic/pyristic/utils/operators/crossover.py (168)\n",
      "\n",
      "File \"pyristic/pyristic/utils/operators/crossover.py\", line 168:\n",
      "def create_child(parent1: np.ndarray , parent2: np.ndarray) -> np.ndarray:\n",
      "    <source elided>\n",
      "    remainder = []\n",
      "    for x in parent2:\n",
      "    ^\n",
      "\n",
      "  @jit(nopython=False, parallel=True)\n",
      "/home/dell/anaconda3/envs/pyristicEnv/lib/python3.8/site-packages/numba/core/object_mode_passes.py:177: NumbaWarning: Function \"create_child\" was compiled in object mode without forceobj=True.\n",
      "\n",
      "File \"pyristic/pyristic/utils/operators/crossover.py\", line 168:\n",
      "def create_child(parent1: np.ndarray , parent2: np.ndarray) -> np.ndarray:\n",
      "    <source elided>\n",
      "    remainder = []\n",
      "    for x in parent2:\n",
      "    ^\n",
      "\n",
      "  warnings.warn(errors.NumbaWarning(warn_msg,\n",
      "/home/dell/anaconda3/envs/pyristicEnv/lib/python3.8/site-packages/numba/core/object_mode_passes.py:187: NumbaDeprecationWarning: \n",
      "Fall-back from the nopython compilation path to the object mode compilation path has been detected, this is deprecated behaviour.\n",
      "\n",
      "For more information visit https://numba.pydata.org/numba-doc/latest/reference/deprecation.html#deprecation-of-object-mode-fall-back-behaviour-when-using-jit\n",
      "\n",
      "File \"pyristic/pyristic/utils/operators/crossover.py\", line 168:\n",
      "def create_child(parent1: np.ndarray , parent2: np.ndarray) -> np.ndarray:\n",
      "    <source elided>\n",
      "    remainder = []\n",
      "    for x in parent2:\n",
      "    ^\n",
      "\n",
      "  warnings.warn(errors.NumbaDeprecationWarning(msg,\n",
      "/home/dell/Documentos/Git_proejcts/pyristic/pyristic/utils/operators/crossover.py:175: NumbaWarning: \n",
      "Compilation is falling back to object mode WITH looplifting enabled because Function \"permutation_order_cross\" failed type inference due to: Invalid use of type(CPUDispatcher(<function create_child at 0x7fd353b46b80>)) with parameters (array(float64, 1d, C), array(float64, 1d, C))\n",
      "\n",
      "During: resolving callee type: type(CPUDispatcher(<function create_child at 0x7fd353b46b80>))\n",
      "During: typing of call at /home/dell/Documentos/Git_proejcts/pyristic/pyristic/utils/operators/crossover.py (199)\n",
      "\n",
      "\n",
      "File \"pyristic/pyristic/utils/operators/crossover.py\", line 199:\n",
      "def permutation_order_cross(X : np.ndarray , parent_ind1:np.ndarray,\\\n",
      "    <source elided>\n",
      "    for i in prange(num_individuals):\n",
      "        new_population[2*i]  = create_child(X[parent_ind1[i]], X[parent_ind2[i]])\n",
      "        ^\n",
      "\n",
      "  @jit(nopython=False, parallel=True)\n",
      "/home/dell/Documentos/Git_proejcts/pyristic/pyristic/utils/operators/crossover.py:175: NumbaWarning: \n",
      "Compilation is falling back to object mode WITHOUT looplifting enabled because Function \"permutation_order_cross\" failed type inference due to: cannot determine Numba type of <class 'numba.core.dispatcher.LiftedLoop'>\n",
      "\n",
      "File \"pyristic/pyristic/utils/operators/crossover.py\", line 198:\n",
      "def permutation_order_cross(X : np.ndarray , parent_ind1:np.ndarray,\\\n",
      "    <source elided>\n",
      "\n",
      "    for i in prange(num_individuals):\n",
      "    ^\n",
      "\n",
      "  @jit(nopython=False, parallel=True)\n",
      "/home/dell/anaconda3/envs/pyristicEnv/lib/python3.8/site-packages/numba/core/object_mode_passes.py:177: NumbaWarning: Function \"permutation_order_cross\" was compiled in object mode without forceobj=True, but has lifted loops.\n",
      "\n",
      "File \"pyristic/pyristic/utils/operators/crossover.py\", line 194:\n",
      "def permutation_order_cross(X : np.ndarray , parent_ind1:np.ndarray,\\\n",
      "    <source elided>\n",
      "\n",
      "    num_individuals = len(parent_ind1)\n",
      "    ^\n",
      "\n",
      "  warnings.warn(errors.NumbaWarning(warn_msg,\n",
      "/home/dell/anaconda3/envs/pyristicEnv/lib/python3.8/site-packages/numba/core/object_mode_passes.py:187: NumbaDeprecationWarning: \n",
      "Fall-back from the nopython compilation path to the object mode compilation path has been detected, this is deprecated behaviour.\n",
      "\n",
      "For more information visit https://numba.pydata.org/numba-doc/latest/reference/deprecation.html#deprecation-of-object-mode-fall-back-behaviour-when-using-jit\n",
      "\n",
      "File \"pyristic/pyristic/utils/operators/crossover.py\", line 194:\n",
      "def permutation_order_cross(X : np.ndarray , parent_ind1:np.ndarray,\\\n",
      "    <source elided>\n",
      "\n",
      "    num_individuals = len(parent_ind1)\n",
      "    ^\n",
      "\n",
      "  warnings.warn(errors.NumbaDeprecationWarning(msg,\n",
      "/home/dell/Documentos/Git_proejcts/pyristic/pyristic/utils/operators/crossover.py:175: NumbaWarning: \n",
      "Compilation is falling back to object mode WITHOUT looplifting enabled because Function \"permutation_order_cross\" failed type inference due to: non-precise type pyobject\n",
      "During: typing of argument at /home/dell/Documentos/Git_proejcts/pyristic/pyristic/utils/operators/crossover.py (198)\n",
      "\n",
      "File \"pyristic/pyristic/utils/operators/crossover.py\", line 198:\n",
      "def permutation_order_cross(X : np.ndarray , parent_ind1:np.ndarray,\\\n",
      "    <source elided>\n",
      "\n",
      "    for i in prange(num_individuals):\n",
      "    ^\n",
      "\n",
      "  @jit(nopython=False, parallel=True)\n"
     ]
    },
    {
     "name": "stderr",
     "output_type": "stream",
     "text": [
      "/home/dell/anaconda3/envs/pyristicEnv/lib/python3.8/site-packages/numba/core/object_mode_passes.py:177: NumbaWarning: Function \"permutation_order_cross\" was compiled in object mode without forceobj=True.\n",
      "\n",
      "File \"pyristic/pyristic/utils/operators/crossover.py\", line 198:\n",
      "def permutation_order_cross(X : np.ndarray , parent_ind1:np.ndarray,\\\n",
      "    <source elided>\n",
      "\n",
      "    for i in prange(num_individuals):\n",
      "    ^\n",
      "\n",
      "  warnings.warn(errors.NumbaWarning(warn_msg,\n",
      "/home/dell/anaconda3/envs/pyristicEnv/lib/python3.8/site-packages/numba/core/object_mode_passes.py:187: NumbaDeprecationWarning: \n",
      "Fall-back from the nopython compilation path to the object mode compilation path has been detected, this is deprecated behaviour.\n",
      "\n",
      "For more information visit https://numba.pydata.org/numba-doc/latest/reference/deprecation.html#deprecation-of-object-mode-fall-back-behaviour-when-using-jit\n",
      "\n",
      "File \"pyristic/pyristic/utils/operators/crossover.py\", line 198:\n",
      "def permutation_order_cross(X : np.ndarray , parent_ind1:np.ndarray,\\\n",
      "    <source elided>\n",
      "\n",
      "    for i in prange(num_individuals):\n",
      "    ^\n",
      "\n",
      "  warnings.warn(errors.NumbaDeprecationWarning(msg,\n",
      "/home/dell/Documentos/Git_proejcts/pyristic/pyristic/utils/operators/crossover.py:153: NumbaWarning: \n",
      "Compilation is falling back to object mode WITHOUT looplifting enabled because Function \"create_child\" failed type inference due to: non-precise type pyobject\n",
      "During: typing of argument at /home/dell/Documentos/Git_proejcts/pyristic/pyristic/utils/operators/crossover.py (168)\n",
      "\n",
      "File \"pyristic/pyristic/utils/operators/crossover.py\", line 168:\n",
      "def create_child(parent1: np.ndarray , parent2: np.ndarray) -> np.ndarray:\n",
      "    <source elided>\n",
      "    remainder = []\n",
      "    for x in parent2:\n",
      "    ^\n",
      "\n",
      "  @jit(nopython=False, parallel=True)\n",
      "/home/dell/anaconda3/envs/pyristicEnv/lib/python3.8/site-packages/numba/core/object_mode_passes.py:177: NumbaWarning: Function \"create_child\" was compiled in object mode without forceobj=True.\n",
      "\n",
      "File \"pyristic/pyristic/utils/operators/crossover.py\", line 168:\n",
      "def create_child(parent1: np.ndarray , parent2: np.ndarray) -> np.ndarray:\n",
      "    <source elided>\n",
      "    remainder = []\n",
      "    for x in parent2:\n",
      "    ^\n",
      "\n",
      "  warnings.warn(errors.NumbaWarning(warn_msg,\n",
      "/home/dell/anaconda3/envs/pyristicEnv/lib/python3.8/site-packages/numba/core/object_mode_passes.py:187: NumbaDeprecationWarning: \n",
      "Fall-back from the nopython compilation path to the object mode compilation path has been detected, this is deprecated behaviour.\n",
      "\n",
      "For more information visit https://numba.pydata.org/numba-doc/latest/reference/deprecation.html#deprecation-of-object-mode-fall-back-behaviour-when-using-jit\n",
      "\n",
      "File \"pyristic/pyristic/utils/operators/crossover.py\", line 168:\n",
      "def create_child(parent1: np.ndarray , parent2: np.ndarray) -> np.ndarray:\n",
      "    <source elided>\n",
      "    remainder = []\n",
      "    for x in parent2:\n",
      "    ^\n",
      "\n",
      "  warnings.warn(errors.NumbaDeprecationWarning(msg,\n"
     ]
    },
    {
     "name": "stdout",
     "output_type": "stream",
     "text": [
      "{'Best solution': {'f': 228.0,\n",
      "                   'x': array([9., 1., 5., 4., 8., 6., 3., 2., 7.])},\n",
      " 'Mean': 228.03333333333333,\n",
      " 'Median': 228.0,\n",
      " 'Standard deviation': 0.17950549357115012,\n",
      " 'Worst solution': {'f': 229.0,\n",
      "                    'x': array([7., 6., 8., 4., 5., 3., 2., 1., 9.])}}\n"
     ]
    }
   ],
   "source": [
    "args = (200, 100,0.9,False)\n",
    "statistics = get_stats(GA_instancia1, 30, args, transformer=f1, showAll=False)\n",
    "pprint(statistics)"
   ]
  },
  {
   "cell_type": "markdown",
   "id": "c0f379ed",
   "metadata": {},
   "source": [
    "#### Instancia 2"
   ]
  },
  {
   "cell_type": "code",
   "execution_count": 62,
   "id": "5fe6e0bc",
   "metadata": {},
   "outputs": [],
   "source": [
    "TS_instancia2 = TSP_TS(f2,Tabu_Salesman_list(n2//2))\n",
    "init_path = np.array(getInitialSolution(matrix2,n2))"
   ]
  },
  {
   "cell_type": "code",
   "execution_count": 63,
   "id": "25d05408",
   "metadata": {},
   "outputs": [
    {
     "name": "stdout",
     "output_type": "stream",
     "text": [
      "{'Best solution': {'f': 331.0,\n",
      "                   'x': array([ 0,  5, 10,  3,  1,  7,  2,  9, 14, 12,  4,  8,  6, 11, 13])},\n",
      " 'Mean': 359.26666666666665,\n",
      " 'Median': 367.0,\n",
      " 'Standard deviation': 13.248731595473165,\n",
      " 'Worst solution': {'f': 385.0,\n",
      "                    'x': array([ 0,  5, 10, 12,  7,  2,  9, 13, 11,  6,  8,  4,  1,  3, 14])}}\n"
     ]
    }
   ],
   "source": [
    "args = (init_path, 100, n2//2, False)\n",
    "statistics = get_stats(TS_instancia2, 30, args, showAll=False)\n",
    "pprint(statistics)"
   ]
  },
  {
   "cell_type": "code",
   "execution_count": 64,
   "id": "2f16de49",
   "metadata": {},
   "outputs": [],
   "source": [
    "SA_instancia2 = TSP_SA(f2)"
   ]
  },
  {
   "cell_type": "code",
   "execution_count": 65,
   "id": "d01e683a",
   "metadata": {},
   "outputs": [
    {
     "name": "stdout",
     "output_type": "stream",
     "text": [
      "{'Best solution': {'f': 297.0,\n",
      "                   'x': array([ 0,  4, 12,  3,  1,  7,  2,  9, 13, 11, 14,  8,  6, 10,  5])},\n",
      " 'Mean': 362.3666666666667,\n",
      " 'Median': 365.0,\n",
      " 'Standard deviation': 28.99595757266098,\n",
      " 'Worst solution': {'f': 414.0,\n",
      "                    'x': array([ 0, 14,  7,  2,  9,  1,  8,  6,  5, 10,  3, 12,  4, 11, 13])}}\n"
     ]
    }
   ],
   "source": [
    "args = (init_path, 1000.0, 0.01)\n",
    "statistics = get_stats(SA_instancia2, 30, args, showAll=False)\n",
    "pprint(statistics)"
   ]
  },
  {
   "cell_type": "code",
   "execution_count": 66,
   "id": "b015a072",
   "metadata": {},
   "outputs": [],
   "source": [
    "GA_instancia2 = TSP_GA(TSPAptitude(matrix2),n2,configuration_TSP)"
   ]
  },
  {
   "cell_type": "code",
   "execution_count": 67,
   "id": "12450cda",
   "metadata": {},
   "outputs": [
    {
     "name": "stdout",
     "output_type": "stream",
     "text": [
      "{'Best solution': {'f': 280.0,\n",
      "                   'x': array([ 5., 10.,  6.,  8.,  4., 12.,  3.,  1.,  7.,  2.,  9., 14., 11.,\n",
      "       13.])},\n",
      " 'Mean': 318.06666666666666,\n",
      " 'Median': 321.0,\n",
      " 'Standard deviation': 15.541199724888967,\n",
      " 'Worst solution': {'f': 344.0,\n",
      "                    'x': array([ 7.,  1.,  3., 12.,  4.,  8.,  9.,  2.,  5., 10.,  6., 14., 11.,\n",
      "       13.])}}\n"
     ]
    }
   ],
   "source": [
    "args = (200, 100,0.9,False)\n",
    "statistics = get_stats(GA_instancia2, 30, args, transformer=f2, showAll=False)\n",
    "pprint(statistics)"
   ]
  },
  {
   "cell_type": "markdown",
   "id": "1e9c637d",
   "metadata": {},
   "source": [
    "#### Instancia 3"
   ]
  },
  {
   "cell_type": "code",
   "execution_count": 68,
   "id": "6ab31c5b",
   "metadata": {},
   "outputs": [],
   "source": [
    "TS_instancia3 = TSP_TS(f3,Tabu_Salesman_list(n3//2))\n",
    "init_path = np.array(getInitialSolution(matrix3,n3))"
   ]
  },
  {
   "cell_type": "code",
   "execution_count": 69,
   "id": "7cfef8eb",
   "metadata": {},
   "outputs": [
    {
     "name": "stdout",
     "output_type": "stream",
     "text": [
      "{'Best solution': {'f': 456.0,\n",
      "                   'x': array([ 0, 14, 19, 18,  7,  6, 15, 10,  5,  2,  1, 11,  4,  8, 13,  9, 16,\n",
      "        3, 12, 17])},\n",
      " 'Mean': 462.23333333333335,\n",
      " 'Median': 467.0,\n",
      " 'Standard deviation': 5.4508918740167855,\n",
      " 'Worst solution': {'f': 467.0,\n",
      "                    'x': array([ 0, 14, 19, 18,  7,  6, 15, 10,  5,  2,  1, 11,  8,  4, 17, 13,  9,\n",
      "       16,  3, 12])}}\n"
     ]
    }
   ],
   "source": [
    "args = (init_path, 100, n3//2, False)\n",
    "statistics = get_stats(TS_instancia3, 30, args, showAll=False)\n",
    "pprint(statistics)"
   ]
  },
  {
   "cell_type": "code",
   "execution_count": 70,
   "id": "c410397a",
   "metadata": {},
   "outputs": [],
   "source": [
    "SA_instancia3 = TSP_SA(f3)"
   ]
  },
  {
   "cell_type": "code",
   "execution_count": 71,
   "id": "475d59fd",
   "metadata": {},
   "outputs": [
    {
     "name": "stdout",
     "output_type": "stream",
     "text": [
      "{'Best solution': {'f': 447.0,\n",
      "                   'x': array([ 0, 17,  4,  8,  6,  7,  9, 16,  3, 14, 13,  5,  2,  1, 11, 15, 10,\n",
      "       18, 19, 12])},\n",
      " 'Mean': 488.96666666666664,\n",
      " 'Median': 497.0,\n",
      " 'Standard deviation': 12.942136179506413,\n",
      " 'Worst solution': {'f': 497.0,\n",
      "                    'x': array([ 0, 14, 19, 18,  7,  6, 15, 10,  5,  2,  1, 11,  4,  8, 12, 17, 13,\n",
      "        9, 16,  3])}}\n"
     ]
    }
   ],
   "source": [
    "args = (init_path, 1000.0, 0.01)\n",
    "statistics = get_stats(SA_instancia3, 30, args, showAll=False)\n",
    "pprint(statistics)"
   ]
  },
  {
   "cell_type": "code",
   "execution_count": 72,
   "id": "4fe2cc1a",
   "metadata": {},
   "outputs": [],
   "source": [
    "GA_instancia3 = TSP_GA(TSPAptitude(matrix3),n3,configuration_TSP)"
   ]
  },
  {
   "cell_type": "code",
   "execution_count": 73,
   "id": "5ef2e031",
   "metadata": {},
   "outputs": [
    {
     "name": "stdout",
     "output_type": "stream",
     "text": [
      "{'Best solution': {'f': 430.0,\n",
      "                   'x': array([16.,  3.,  6., 15., 10., 18., 19.,  9., 13., 14.,  5.,  7.,  2.,\n",
      "        1., 11.,  8.,  4., 17., 12.])},\n",
      " 'Mean': 497.5,\n",
      " 'Median': 500.0,\n",
      " 'Standard deviation': 28.13272116237603,\n",
      " 'Worst solution': {'f': 538.0,\n",
      "                    'x': array([ 5., 15., 10., 17.,  4., 11.,  1.,  2.,  8., 12.,  3.,  6.,  7.,\n",
      "       13., 16.,  9., 19., 18., 14.])}}\n"
     ]
    }
   ],
   "source": [
    "args = (200, 100,1.0,False)\n",
    "statistics = get_stats(GA_instancia3, 30, args, transformer=f3, showAll=False)\n",
    "pprint(statistics)"
   ]
  },
  {
   "cell_type": "code",
   "execution_count": null,
   "id": "c8b57a98",
   "metadata": {},
   "outputs": [],
   "source": []
  }
 ],
 "metadata": {
  "kernelspec": {
   "display_name": "Python 3 (ipykernel)",
   "language": "python",
   "name": "python3"
  },
  "language_info": {
   "codemirror_mode": {
    "name": "ipython",
    "version": 3
   },
   "file_extension": ".py",
   "mimetype": "text/x-python",
   "name": "python",
   "nbconvert_exporter": "python",
   "pygments_lexer": "ipython3",
   "version": "3.8.12"
  }
 },
 "nbformat": 4,
 "nbformat_minor": 5
}
