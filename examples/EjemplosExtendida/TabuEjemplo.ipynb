{
 "cells": [
  {
   "cell_type": "markdown",
   "metadata": {},
   "source": [
    "# Búsqueda Tabú\n",
    "\n",
    "La librería **Pyristic** incluye una clase llamada `TabuSearch` que facilita la implementación de una metaheurística basada en Búsqueda Tabú para resolver problemas de minimización. Para poder utilizar esta clase es necesario:\n",
    "\n",
    "1. Definir:\n",
    "    * La función objetivo $f$.\n",
    "    * La lista de restricciones.\n",
    "    * Estructura de datos (opcional).\n",
    "\n",
    "2. Crear una clase que herede de `TabuSearch`.\n",
    "\n",
    "\n",
    "3. Sobreescribir las siguientes funciones de la clase `TabuSearch`:\n",
    "    * get_neighbors (requerido)\n",
    "    * encode_change (requerido)\n",
    "\n",
    "A continuación se muestran las librerías y elementos que se deben importar. Posteriormente, se resolverán dos problemas de optimización combinatoria usando la clase `TabuSearch`."
   ]
  },
  {
   "cell_type": "code",
   "execution_count": 1,
   "metadata": {},
   "outputs": [],
   "source": [
    "from pyristic.heuristic.Tabu_search import TabuSearch\n",
    "from pyristic.utils.helpers import *\n",
    "from pprint import pprint\n",
    "import numpy as np \n",
    "import copy "
   ]
  },
  {
   "cell_type": "markdown",
   "metadata": {},
   "source": [
    "## Clase `TabuSearch`\n",
    "\n",
    "#### Variables\n",
    "* *__logger.__* Diccionario con información relacionada a la búsqueda con las siguientes llaves:\n",
    "  * `best_individual.` Mejor individuo encontrado.\n",
    "  * `best_f.` El valor obtenido de la función objetivo de `individual`.\n",
    "  * `current_iter.` Iteración actual de la búsqueda.\n",
    "  * `total_iter.` Número total de iteraciones.\n",
    "* *__TL.__* Estructura de datos auxiliar que mantendrá memoria de las soluciones encontradas durante el tiempo especificado en `optimize`, por defecto utiliza `TabuList`.\n",
    "* *__f.__* Función objetivo.\n",
    "* *__Constraints.__* Lista de restricciones del problema. Las restricciones deben ser funciones que retornan True o False, indicando si cumple dicha restricción.\n",
    "\n",
    "#### Métodos\n",
    "\n",
    "* *__\\_\\_init\\_\\_.__* Constructor de la clase.\n",
    "\n",
    " Argumentos:\n",
    "  * `function.` Función objetivo.\n",
    "  * `constraints.` Lista con las restricciones del problema.\n",
    "  * `TabuStruct.` Estructura de datos que almacena información de variaciones que mejoran la solución.\n",
    " \n",
    " Valor de retorno:\n",
    "   * Ninguno.\n",
    "\n",
    "\n",
    "* *__optimize.__* método principal, realiza la ejecución empleando la metaheurística llamada `TabuSearch`.\n",
    "\n",
    " Argumentos:\n",
    "  * `Init.` Solución inicial, se admite un arreglo de *numpy* o una función que retorne un arreglo de *numpy*.\n",
    "  * `iterations.` Número de iteraciones.\n",
    "  * `memory_time.` Tiempo que permanecerá una solución en nuestra estructura llamada `TabuList`.\n",
    "  * `verbose.` Valor booleano que indica si muestra la iteración en la que se encuentra la búsqueda, por defecto es true.\n",
    "  * `**kwargs.` Parámetros externos a la búsqueda.\n",
    "  \n",
    "  Valor de retorno:\n",
    "   * Ninguno\n",
    "\n",
    "\n",
    "* *__get_neighbors.__* Función que genera el vecindario de soluciones de la solución $x$.\n",
    "\n",
    " Argumentos:\n",
    "  * `x.` Arreglo de *numpy* representando a la solución actual.\n",
    "  * `**kwargs` Parámetros externos a la búsqueda.\n",
    " \n",
    " Valor de retorno:\n",
    "  * Arreglo bidimensional de *numpy* representando a todas las soluciones generadas desde la solución $x$.\n",
    " \n",
    "\n",
    "* *__encode_change.__* Revisa nuestra solución actual $x$ y la solución generada para indicar en dónde sucedió la pequeña variación. \n",
    "\n",
    " Argumentos:\n",
    "  * `neighbor.` Arreglo de *numpy* representando una variación de nuestra solución actual $x$.\n",
    "  * `x.` Arreglo de *numpy* representando nuestra solución actual.\n",
    "  * `**kwargs.` Parámetros externos a la búsqueda.\n",
    "  \n",
    " Valor de retorno:\n",
    "  * Lista con dos elementos, donde, la primera componente será la posición $i$ donde sucedió la variación y la segunda componente es el elemento en la componente $i$ de `neighbor`."
   ]
  },
  {
   "cell_type": "markdown",
   "metadata": {},
   "source": [
    "### Clase `TabuList`\n",
    "\n",
    "Clase auxiliar que almacenará las soluciones encontradas en la búsqueda, las soluciones permanecerá en la estructura de datos por un tiempo especificado en la función `optimize` de `TabuSearch`.\n",
    "\n",
    "#### Variables\n",
    "* *__\\_TB.__* Lista de listas que representarán las posiciones que fueron modificadas con un contador de tiempo.\n",
    "* *__timer.__* El tiempo que durará cada solución en la lista.\n",
    "\n",
    "#### Métodos\n",
    "\n",
    "* *__push.__* Introduce los cambios que proporcionaron una mejora en la búsqueda.\n",
    " \n",
    " Argumentos:\n",
    "   * `x.` Arreglo con la siguiente información: \n",
    "     * Primera componente: posición (indice) donde se encontró una mejora en la función objetivo.\n",
    "     * Segunda componente: valor por el cual mejoró nuestra solución.\n",
    "     * Tercera componente: iteración en la que se realizó la mejora.\n",
    "  \n",
    " Valor de retorno:\n",
    "  * Ninguno.\n",
    "  \n",
    "  \n",
    "* *__find.__*  Revisa si la nueva solución sea una de las modificaciones hechas en iteraciones previas almacenadas en `_TB`. \n",
    " \n",
    " Argumentos:\n",
    "  * `x.` Arreglo de *numpy* que representa el cambio realizado en la solución actual de la búsqueda, es decir, recibe el arreglo que retorna la función `encode_change(neighbor,x)`.  \n",
    "  \n",
    " Valor de retorno:\n",
    "  * Valor booleano que indica si la modificación en dicha solución ya se encontraba en nuestra lista tabú. \n",
    "  \n",
    "  \n",
    "* *__reset.__* Borra toda la información almacenada en nuestro contenedor `_TB` y actualiza la variable `timer`.\n",
    "\n",
    " Argumentos:\n",
    "  * `timer.` Número que representa el tiempo que durarán ahora las soluciones en nuestra lista tabú.\n",
    " \n",
    " Valor de retorno:\n",
    "  * Ninguno.\n",
    " \n",
    " \n",
    "* *__update.__* Realiza la actualización en el contendor `_TB` modificando el tiempo de cada uno de los individuos almacenados y elimina aquellos individuos que ya expiró su tiempo. \n",
    "\n",
    " Argumentos:\n",
    "  * Ninguno.\n",
    " \n",
    " Valor de retorno:\n",
    "  * Ninguno.\n",
    " \n",
    " \n",
    "* *__pop\\_back.__*  Elimina el último elemento del contenedor `_TB`.\n",
    "\n",
    " Argumentos:\n",
    "  * Ninguno.\n",
    " \n",
    " Valor de retorno:\n",
    "  * Ninguno.\n",
    "  \n",
    "  \n",
    "* *__get\\_back.__* Regresa el último elemento del contenedor `_TB`.\n",
    "\n",
    " Argumentos:\n",
    "  * Ninguno.\n",
    "  \n",
    " Valor de retorno:\n",
    "  * Elemento del contendor `_TB`."
   ]
  },
  {
   "cell_type": "markdown",
   "metadata": {},
   "source": [
    "## Problema de la mochila\n",
    "\n",
    "\\begin{equation}\n",
    "  \\label{eq:KP}\n",
    "  \\begin{array}{rll}\n",
    "  \\text{maximizar:} & f(\\vec{x}) = \\sum_{i=1}^{n} p_i \\cdot x_{i} &  \\\\\n",
    "  \\text{donde: } & g_1(\\vec{x}) = \\sum_{i=1}^{n} w_i \\cdot x_{i}  \\leq c &  \\\\\n",
    "          &  x_i \\in \\{0,1\\} & i\\in\\{1,\\ldots,n\\}\\\\\n",
    "  \\end{array}\n",
    "\\end{equation}\n",
    "\n",
    "Consideremos la siguiente entrada:\n",
    "- $n = 5$\n",
    "- $p = \\{5, 14, 7, 2, 23\\}$\n",
    "- $w = \\{2, 3, 7, 5, 10\\}$\n",
    "- $c = 15$\n",
    "\n",
    "Donde la mejor solución es:\n",
    "$x = [1, 1, 0, 0, 1]$ , $f(x) = 42$ y $g_{1}(x) = 15$\n"
   ]
  },
  {
   "cell_type": "markdown",
   "metadata": {},
   "source": [
    "### Función objetivo"
   ]
  },
  {
   "cell_type": "markdown",
   "metadata": {},
   "source": [
    "Dado que la clase `TabuSearch` considera problemas de minimización, es necesario convertir el problema de la mochila a un problema de minimización. Para esto se multiplica el valor de la función objetivo por -1."
   ]
  },
  {
   "cell_type": "code",
   "execution_count": 2,
   "metadata": {},
   "outputs": [],
   "source": [
    "def f(x : np.ndarray) -> float:\n",
    "    p = np.array([5,14,7,2,23])\n",
    "    return -1*np.dot(x,p)"
   ]
  },
  {
   "cell_type": "markdown",
   "metadata": {},
   "source": [
    "### Restricciones"
   ]
  },
  {
   "cell_type": "markdown",
   "metadata": {},
   "source": [
    "Las restricciones se definen en funciones diferentes y se agregan a una lista. "
   ]
  },
  {
   "cell_type": "code",
   "execution_count": 3,
   "metadata": {},
   "outputs": [],
   "source": [
    "def g1(x : np.ndarray) -> bool:\n",
    "    w = [2,3,7,5,10]\n",
    "    return np.dot(x,w) <= 15\n",
    "\n",
    "constraints_list= [g1]"
   ]
  },
  {
   "cell_type": "markdown",
   "metadata": {},
   "source": [
    "En el problema de la mochila unicamente queremos revisar que no se exceda el peso."
   ]
  },
  {
   "cell_type": "markdown",
   "metadata": {},
   "source": [
    "### Uso de `TabuSearch`\n",
    "\n",
    "Para poder hacer uso de la metaheurística de búsqueda tabú implementada en la librería **Pyristic**, es necesario crear una clase que herede de la clase `TabuSearch`.\n"
   ]
  },
  {
   "cell_type": "code",
   "execution_count": 5,
   "metadata": {},
   "outputs": [],
   "source": [
    "class Knapsack_solver(TabuSearch):\n",
    "    \n",
    "    def __init__(self, f_ : function_type , constraints_: list):\n",
    "        super().__init__(f_,constraints_)\n",
    "        \n",
    "        \n",
    "    def get_neighbors(self, x : np.ndarray,**kwargs) -> list:   \n",
    "        neighbors_list = []\n",
    "\n",
    "        for i in range(len(x)):\n",
    "            x[i] ^= 1 #1\n",
    "            neighbors_list+=[copy.deepcopy(x)]\n",
    "            x[i] ^= 1 \n",
    "            \n",
    "        return neighbors_list\n",
    "        \n",
    "    def encode_change(self, neighbor : (list,np.ndarray), x : (list,np.ndarray),**kwargs) -> list: #2\n",
    "        \n",
    "        x_ = [None,None]\n",
    "        \n",
    "        for i in range(len(x)):\n",
    "            if x[i] != neighbor[i]:\n",
    "                return [i,neighbor[i]]\n",
    "            \n",
    "        return x_"
   ]
  },
  {
   "cell_type": "markdown",
   "metadata": {},
   "source": [
    "La nueva clase es llamada *Knapsack_solver*, donde, se han sobrescrito las funciones `get_neighbors` y `encode_change`. Si no implementamos las funciones mencionadas el algoritmo no va a funcionar."
   ]
  },
  {
   "cell_type": "markdown",
   "metadata": {},
   "source": [
    "### Ejecución de la metaheurística \n",
    "\n",
    "Una vez definida la clase *Knapsack_solver*, se crea un objeto de tipo *Knapsack_solver* indicando en los parámetros la función objetivo y las restricciones del problema. En este caso llamamos *Knapsack* al objeto creado."
   ]
  },
  {
   "cell_type": "code",
   "execution_count": 6,
   "metadata": {},
   "outputs": [],
   "source": [
    "Knapsack = Knapsack_solver(f, [g1])"
   ]
  },
  {
   "cell_type": "markdown",
   "metadata": {},
   "source": [
    "Finalmente, se llama a la función `optimize`. Esta función recibe tres parámetros:\n",
    "\n",
    "* Solución inicial o función generadora de soluciones iniciales.\n",
    "* El número de iteraciones.\n",
    "* El tiempo donde evitaremos hacer un cambio en cierta posición (tiempo tabú).\n",
    "\n",
    "Para este ejemplo usamos una mochila vacía ($x_0 = [0,0,0,0,0]$), $30$ iteraciones y un tiempo tabú igual a $3$."
   ]
  },
  {
   "cell_type": "code",
   "execution_count": 7,
   "metadata": {},
   "outputs": [
    {
     "name": "stdout",
     "output_type": "stream",
     "text": [
      "Tabu search: \n",
      " f(X) = -42 \n",
      " X = [1 1 0 0 1] \n",
      " \n"
     ]
    }
   ],
   "source": [
    "init_backpack_solution = np.zeros(5,dtype=int)\n",
    "'''Parameters:\n",
    "    Initial solution\n",
    "    Number of iterations\n",
    "    Tabu time\n",
    "'''\n",
    "Knapsack.optimize(init_backpack_solution,30,3)\n",
    "print(Knapsack)"
   ]
  },
  {
   "cell_type": "markdown",
   "metadata": {},
   "source": [
    "A continuación resolveremos el mismo problema para una instancia más grande."
   ]
  },
  {
   "cell_type": "markdown",
   "metadata": {},
   "source": [
    "Tenemos que definir nuevamente la función objetivo y la restricción para emplearlo para cualquier instancia del problema.\n",
    "\n",
    "Definiremos las siguientes variables como variables globales:\n",
    "* n es un número que indicará el tamaño de nuestra instancia.\n",
    "* p es un arreglo que se refiere al beneficio que proporciona cada uno de los objetos.\n",
    "* w es un arreglo con el peso de cada uno de los objetos.\n",
    "* c es el peso máximo que puede tener nuestra mochila."
   ]
  },
  {
   "cell_type": "code",
   "execution_count": 8,
   "metadata": {},
   "outputs": [],
   "source": [
    "n = 50\n",
    "p = [60, 52, 90, 57, 45, 64, 60, 45, 63, 94, 44, 90, 66, 64, 32, 39, 91, 40, 73, 61, 82, 94, 39, 68, 94, 98, 80, 79, 73, 99, 49, 56, 69, 49, 82, 99, 65, 34, 31, 85, 67, 62, 56, 38, 54, 81, 98, 63, 48, 83]\n",
    "w = [38, 20, 21, 21, 37, 28, 32, 30, 33, 35, 29, 32, 35, 24, 28, 29, 22, 34, 31, 36, 36, 28, 38, 25, 38, 37, 20, 23, 39, 31, 27, 20, 38, 38, 36, 28, 39, 22, 23, 22, 21, 24, 23, 33, 31, 30, 32, 30, 22, 37]\n",
    "c = 870"
   ]
  },
  {
   "cell_type": "code",
   "execution_count": 9,
   "metadata": {},
   "outputs": [],
   "source": [
    "def f(x : np.ndarray) -> float:\n",
    "    global p\n",
    "    return -1* np.dot(x,p)\n",
    "\n",
    "def g1(x : np.ndarray) -> bool:\n",
    "    global w,c\n",
    "    result = np.dot(x,w)\n",
    "    g1.__doc__=\"{} <= {}\".format(result,c)\n",
    "    return result <= c\n",
    "\n",
    "constraints_list= [g1]"
   ]
  },
  {
   "cell_type": "markdown",
   "metadata": {},
   "source": [
    "### Solución inicial\n",
    "\n",
    "En el ejemplo anterior, la solución inicial fue una mochila vacía. Ahora crearemos una mochila que introduce objetos de manera aleatoria, mientras no se exceda el peso de la mochila."
   ]
  },
  {
   "cell_type": "code",
   "execution_count": 10,
   "metadata": {},
   "outputs": [],
   "source": [
    "def getInitialSolution(NumObjects=5):\n",
    "    global n,p,w,c\n",
    "    #Empty backpack\n",
    "    x = [0 for i in range(n)]\n",
    "    weight_x = 0\n",
    "    \n",
    "    #Random order to insert objects.\n",
    "    objects = list(range(n))\n",
    "    np.random.shuffle(objects)\n",
    "    \n",
    "    for o in  objects[:NumObjects]:\n",
    "        #Check the constraint about capacity.\n",
    "        if weight_x + w[o] <= c:\n",
    "            x[o] = 1\n",
    "            weight_x += w[o]\n",
    "            \n",
    "    return np.array(x)"
   ]
  },
  {
   "cell_type": "markdown",
   "metadata": {},
   "source": [
    "Definiremos nuestro objeto del tipo *Knapsack_solver* y llamaremos el método `optimize`con los siguientes parámetros:\n",
    "\n",
    "* La función que crea la solución inicial.\n",
    "* $100$ iteraciones.\n",
    "* El tiempo tabú será $\\frac{n}{2}$."
   ]
  },
  {
   "cell_type": "code",
   "execution_count": 12,
   "metadata": {},
   "outputs": [
    {
     "name": "stdout",
     "output_type": "stream",
     "text": [
      "Tabu search: \n",
      " f(X) = -2207 \n",
      " X = [0 0 1 0 0 1 0 0 0 1 0 1 1 0 0 0 1 1 1 0 1 1 0 1 1 1 1 1 1 1 1 0 1 0 1 1 1\n",
      " 0 0 1 1 0 0 0 1 1 1 0 0 1] \n",
      " Constraints: \n",
      " 856 <= 870 \n",
      "\n"
     ]
    }
   ],
   "source": [
    "Knapsack_2 = Knapsack_solver(f, [g1])\n",
    "Knapsack_2.optimize(getInitialSolution,100,n//2)\n",
    "print(Knapsack_2)"
   ]
  },
  {
   "cell_type": "markdown",
   "metadata": {},
   "source": [
    "Para revisar el comportamiento de la metaheurística en determinado problema, la librería **Pyristic** cuenta con una función llamada `get_stats`. Esta función se encuentra en **utils.helpers** y recibe como parámetros:\n",
    "\n",
    "* El objeto creado para ejecutar la metaheurística.\n",
    "* El número de veces que se quiere ejecutar la metaheurística.\n",
    "* Los argumentos que recibe la función `optimize` (debe ser una tupla).\n",
    "\n",
    "La función `get_stats` retorna un diccionario con algunas estadísticas de las ejecuciones. "
   ]
  },
  {
   "cell_type": "code",
   "execution_count": 13,
   "metadata": {},
   "outputs": [],
   "source": [
    "args = (getInitialSolution,500,n//2)\n",
    "statistics = get_stats(Knapsack_2, 21, args)"
   ]
  },
  {
   "cell_type": "code",
   "execution_count": 14,
   "metadata": {},
   "outputs": [
    {
     "name": "stdout",
     "output_type": "stream",
     "text": [
      "{'Best solution': {'f': -2310,\n",
      "                   'x': array([0, 0, 1, 1, 0, 1, 0, 0, 1, 1, 0, 1, 1, 1, 0, 0, 1, 0, 1, 0, 1, 1,\n",
      "       0, 1, 1, 1, 1, 1, 1, 1, 0, 0, 1, 0, 1, 1, 1, 0, 0, 1, 1, 1, 0, 0,\n",
      "       0, 1, 1, 0, 0, 1])},\n",
      " 'Mean': -2261.714285714286,\n",
      " 'Median': -2270.0,\n",
      " 'Standard deviation': 37.13186650579367,\n",
      " 'Worst solution': {'f': -2193,\n",
      "                    'x': array([0, 1, 1, 0, 0, 0, 0, 0, 0, 1, 0, 1, 1, 0, 0, 0, 1, 1, 1, 0, 1, 1,\n",
      "       1, 1, 1, 1, 1, 1, 1, 1, 0, 0, 1, 0, 1, 1, 1, 0, 0, 1, 1, 1, 0, 0,\n",
      "       0, 1, 1, 0, 0, 1])}}\n"
     ]
    }
   ],
   "source": [
    "pprint(statistics)"
   ]
  },
  {
   "cell_type": "markdown",
   "metadata": {},
   "source": [
    "## Problema del agente viajero\n",
    "\n",
    "\n",
    "\\begin{equation}\n",
    "    \\label{eq:TSP}\n",
    "    \\begin{array}{rll}\n",
    "    \\text{minimizar:} & f(x) = d(x_n, x_1) + \\sum_{i=1}^{n-1} d(x_i, x_{i+1}) &  \\\\\n",
    "    \\text{tal que: } & x_i \\in \\{1,2,\\cdots,n\\} & \\\\\n",
    "    \\end{array}\n",
    "\\end{equation}\n",
    "\n",
    "Donde:\n",
    "* $d(x_i,x_j)$ es la distancia desde la ciudad $x_i$ a la ciudad $x_j$.\n",
    "* $n$ es el número de ciudades.\n",
    "* $x$ es una permutación de las $n$ ciudades."
   ]
  },
  {
   "cell_type": "code",
   "execution_count": 15,
   "metadata": {},
   "outputs": [],
   "source": [
    "import random "
   ]
  },
  {
   "cell_type": "code",
   "execution_count": 16,
   "metadata": {},
   "outputs": [],
   "source": [
    "num_cities = 10\n",
    "iterations = 100\n",
    "dist_matrix = \\\n",
    "[\\\n",
    "[0,49,30,53,72,19,76,87,45,48],\\\n",
    "[49,0,19,38,32,31,75,69,61,25],\\\n",
    "[30,19,0,41,98,56,6,6,45,53],\\\n",
    "[53,38,41,0,52,29,46,90,23,98],\\\n",
    "[72,32,98,52,0,63,90,69,50,82],\\\n",
    "[19,31,56,29,63,0,60,88,41,95],\\\n",
    "[76,75,6,46,90,60,0,61,92,10],\\\n",
    "[87,69,6,90,69,88,61,0,82,73],\\\n",
    "[45,61,45,23,50,41,92,82,0,5],\\\n",
    "[48,25,53,98,82,95,10,73,5,0],\\\n",
    "]\n"
   ]
  },
  {
   "cell_type": "code",
   "execution_count": 17,
   "metadata": {},
   "outputs": [],
   "source": [
    "def f_salesman(x : np.ndarray) -> float:\n",
    "    global dist_matrix\n",
    "    total_dist = 0\n",
    "    for i in range(1,len(x)):\n",
    "        u,v = x[i], x[i-1]\n",
    "        total_dist+= dist_matrix[u][v]\n",
    "    total_dist += dist_matrix[x[-1]][0]\n",
    "    return total_dist"
   ]
  },
  {
   "cell_type": "code",
   "execution_count": 18,
   "metadata": {},
   "outputs": [],
   "source": [
    "def g_salesman(x : np.ndarray) -> bool:\n",
    "    \"\"\"\n",
    "    Xi in {1,2, ... , N}\n",
    "    \"\"\"\n",
    "    size = len(x)\n",
    "    size_ = len(np.unique(x))\n",
    "    return size == size_"
   ]
  },
  {
   "cell_type": "markdown",
   "metadata": {},
   "source": [
    "En este ejemplo mostraremos la forma de definir nuestra lista tabú para el problema del agente viajero para emplearla en nuestra búsqueda `TabuSearch`. Es necesario que nuestra lista tabú contenga los siguientes métodos:\n",
    "- `reset`\n",
    "- `update`\n",
    "- `push`\n",
    "- `find` \n"
   ]
  },
  {
   "cell_type": "code",
   "execution_count": 19,
   "metadata": {},
   "outputs": [],
   "source": [
    "class Tabu_Salesman_list:\n",
    "    def __init__(self,timer):\n",
    "        self.__TB = {}\n",
    "        self.timer = timer\n",
    "    \n",
    "    def reset(self,timer) -> None:\n",
    "        self.__TB = {}\n",
    "        self.timer = timer\n",
    "        \n",
    "    def update(self) -> None:\n",
    "        to_pop = []\n",
    "        for key in self.__TB:\n",
    "            if self.__TB[key]-1 == 0:\n",
    "                to_pop.append(key)\n",
    "            else:\n",
    "                self.__TB[key]-=1\n",
    "        for key in to_pop:\n",
    "            self.__TB.pop(key)\n",
    "        \n",
    "    @checkargs\n",
    "    #x has [p,v,step], we are only interested in v (value)\n",
    "    def push(self, x : list ) -> None:\n",
    "        self.__TB[x[1]] = self.timer\n",
    "        \n",
    "    @checkargs\n",
    "    def find(self, x : list) -> bool:\n",
    "        return x[1] in self.__TB\n",
    "        "
   ]
  },
  {
   "cell_type": "code",
   "execution_count": 20,
   "metadata": {},
   "outputs": [],
   "source": [
    "class TravellingSalesman_solver(TabuSearch):\n",
    "\n",
    "    def __init__(self, f_ : function_type , constraints_: list, TabuStorage):\n",
    "        super().__init__(f_,constraints_,TabuStorage)\n",
    "        \n",
    "    @checkargs\n",
    "    def get_neighbors(self, x : np.ndarray,**kwargs) -> list: \n",
    "        \n",
    "        neighbors_list = []\n",
    "        \n",
    "        ind = random.randint(1,len(x)-1)\n",
    "        while  self.TL.find([-1,x[ind]]):\n",
    "            ind = random.randint(1,len(x)-1)\n",
    "        v = x[ind]\n",
    "        x_tmp = list(x[v != x])\n",
    "        for i in range(1, len(x)):\n",
    "            if ind == i:\n",
    "                continue\n",
    "            neighbors_list += [ x_tmp[:i] + [v] + x_tmp[i:]]\n",
    "            \n",
    "        return neighbors_list\n",
    "\n",
    "        \n",
    "    @checkargs\n",
    "    def encode_change(self, neighbor : (list,np.ndarray), x : (list,np.ndarray),**kwargs) -> list: #2\n",
    "        \n",
    "        x_p ={x[i] : i for i in range(len(x))}\n",
    "        n_p = {neighbor[i]: i for i in range(len(x))}\n",
    "        ind = -1\n",
    "        max_dist = -1\n",
    "        value = -1\n",
    "        for i in range(1, len(x)):\n",
    "            v = x[i]\n",
    "            dist = abs(x_p[v] - n_p[v])\n",
    "            if dist > max_dist:\n",
    "                ind = i\n",
    "                max_dist = dist\n",
    "                value = v\n",
    "       \n",
    "        return [ind , value]"
   ]
  },
  {
   "cell_type": "markdown",
   "metadata": {},
   "source": [
    "### Solución inicial\n",
    "En este caso, creamos la solución inicial utilizando una estrategia voraz."
   ]
  },
  {
   "cell_type": "code",
   "execution_count": 21,
   "metadata": {},
   "outputs": [],
   "source": [
    "def getInitialSolutionTS(distance_matrix, total_cities):\n",
    "    Solution = [0]\n",
    "    remaining_cities  = list(range(1,total_cities))\n",
    "    \n",
    "    while len(remaining_cities) != 0:\n",
    "        from_ =Solution[-1] \n",
    "        to_ = remaining_cities[0]\n",
    "        dist = distance_matrix[from_][to_]\n",
    "        \n",
    "        for i in range(1, len(remaining_cities)):\n",
    "            distance = distance_matrix[from_][remaining_cities[i]]\n",
    "            if distance < dist:\n",
    "                to_ = remaining_cities[i]\n",
    "                dist = distance\n",
    "        Solution.append(to_)\n",
    "        ind = remaining_cities.index(to_)\n",
    "        remaining_cities.pop(ind)\n",
    "    return Solution"
   ]
  },
  {
   "cell_type": "code",
   "execution_count": 22,
   "metadata": {},
   "outputs": [
    {
     "name": "stdout",
     "output_type": "stream",
     "text": [
      "Initialize search with this initial point [0 5 3 8 9 6 2 7 1 4] \n",
      " f(x) = 271\n"
     ]
    }
   ],
   "source": [
    "TravellingSalesman = TravellingSalesman_solver(f_salesman,[g_salesman],Tabu_Salesman_list(num_cities//2))\n",
    "init_path = np.array(getInitialSolutionTS(dist_matrix,num_cities))\n",
    "print(\"Initialize search with this initial point {} \\n f(x) = {}\".format(init_path, f_salesman(init_path)))"
   ]
  },
  {
   "cell_type": "code",
   "execution_count": 23,
   "metadata": {},
   "outputs": [
    {
     "name": "stdout",
     "output_type": "stream",
     "text": [
      "Tabu search: \n",
      " f(X) = 248 \n",
      " X = [0 5 3 8 9 6 2 7 4 1] \n",
      " Constraints: \n",
      " \n",
      "    Xi in {1,2, ... , N}\n",
      "     \n",
      "\n"
     ]
    }
   ],
   "source": [
    "TravellingSalesman.optimize(init_path, iterations, num_cities//2)\n",
    "print(TravellingSalesman)"
   ]
  },
  {
   "cell_type": "code",
   "execution_count": 24,
   "metadata": {},
   "outputs": [],
   "source": [
    "args = (init_path, iterations, num_cities//2)\n",
    "statistics = get_stats(TravellingSalesman, 30, args)\n"
   ]
  },
  {
   "cell_type": "code",
   "execution_count": 25,
   "metadata": {},
   "outputs": [
    {
     "name": "stdout",
     "output_type": "stream",
     "text": [
      "{'Best solution': {'f': 248, 'x': array([0, 5, 3, 8, 9, 6, 2, 7, 4, 1])},\n",
      " 'Mean': 248.0,\n",
      " 'Median': 248.0,\n",
      " 'Standard deviation': 0.0,\n",
      " 'Worst solution': {'f': 248, 'x': array([0, 5, 3, 8, 9, 6, 2, 7, 4, 1])}}\n"
     ]
    }
   ],
   "source": [
    "pprint(statistics)"
   ]
  }
 ],
 "metadata": {
  "kernelspec": {
   "display_name": "Python 3",
   "language": "python",
   "name": "python3"
  },
  "language_info": {
   "codemirror_mode": {
    "name": "ipython",
    "version": 3
   },
   "file_extension": ".py",
   "mimetype": "text/x-python",
   "name": "python",
   "nbconvert_exporter": "python",
   "pygments_lexer": "ipython3",
   "version": "3.7.1"
  }
 },
 "nbformat": 4,
 "nbformat_minor": 2
}
