{
 "cells": [
  {
   "cell_type": "markdown",
   "metadata": {},
   "source": [
    "## Comparativa de rendimiento con Numba \n",
    "A continuación vamos a presentar una pequeña evaluación sobre los operados en la librería y sus tiempos de ejecución si presentan una diferencia significativa."
   ]
  },
  {
   "cell_type": "code",
   "execution_count": 2,
   "metadata": {},
   "outputs": [],
   "source": [
    "import sys\n",
    "import os\n",
    "\n",
    "#library_path is the path where the Optimpy library is located.\n",
    "library_path = \"/home/dell/Documentos/Git_proejcts/optimizacion-con-metaheuristicas/\"\n",
    "#library_path = \"/Users/adrianamenchacamendez/Documentos/enes_morelia/papime/optimizacion-con-metaheuristicas/\"\n",
    "sys.path.append(os.path.abspath(library_path))\n"
   ]
  },
  {
   "cell_type": "code",
   "execution_count": 3,
   "metadata": {},
   "outputs": [],
   "source": [
    "from optimpy.utils.operators import *\n",
    "import time"
   ]
  },
  {
   "cell_type": "markdown",
   "metadata": {},
   "source": [
    "En el caso de nuestras implementaciones tratamos de procurar que las partes donde presentar un mayor costo computacional puedan ser paralelizadas. \n",
    "\n",
    "En este caso vamos a ver los resultados en dos operadores de cruza utilizados en Estrategias evolutivas:\n",
    "\n",
    "1. Cruza discreta.\n",
    "2. Cruza intermedia.\n",
    "\n",
    "También, vamos a revisar si hay un cambio considerable entre el uso de los operadores de mutación.\n",
    "\n",
    "**Nota:** es importante destacar que la primera vez en ejecución tiene un costo adicional por el tiempo en que transforma el código a un código *no pythonico.*"
   ]
  },
  {
   "cell_type": "markdown",
   "metadata": {},
   "source": [
    "Vamos a crear nuestra instancia de prueba para ver los resultados de nuestros dos operadores con tamaños de \n",
    "* $50 \\times 10$ a 350.\n",
    "* $100 \\times 10$ a 700.\n",
    "* $300 \\times 10$ a 2100.\n",
    "\n",
    "El primera será el operador de cruza sin ninguna modificación y el otro será utilizando numba."
   ]
  },
  {
   "cell_type": "code",
   "execution_count": 7,
   "metadata": {},
   "outputs": [],
   "source": [
    "#Test 1\n",
    "X1 = np.random.uniform(-30,30,size=(50,10))\n",
    "parents11 = np.random.randint(50,size=(300,))\n",
    "parents12 = np.random.randint(50,size=(300,))\n",
    "S1 = np.random.uniform(-30,30,size=(50,10))\n",
    "\n",
    "#Test 2\n",
    "X2 = np.random.uniform(-30,30,size=(100,10))\n",
    "parents21 = np.random.randint(100,size=(700,))\n",
    "parents22 = np.random.randint(100,size=(700,))\n",
    "S2 = np.random.uniform(-30,30,size=(100,10))\n",
    "\n",
    "#Test 3\n",
    "X3 = np.random.uniform(-30,30,size=(300,10))\n",
    "parents31 = np.random.randint(300,size=(2100,))\n",
    "parents32 = np.random.randint(300,size=(2100,))\n",
    "S3 = np.random.uniform(-30,30,size=(300,10))"
   ]
  },
  {
   "cell_type": "code",
   "execution_count": 5,
   "metadata": {},
   "outputs": [],
   "source": [
    "def evaluate_time(function, args):\n",
    "    \n",
    "    # DO NOT REPORT THIS... COMPILATION TIME IS INCLUDED IN THE EXECUTION TIME!\n",
    "    start = time.time()\n",
    "    function(*args)\n",
    "    end = time.time()\n",
    "    print(\"Elapsed (with compilation) = %s\" % (end - start))\n",
    "\n",
    "    # NOW THE FUNCTION IS COMPILED, RE-TIME IT EXECUTING FROM CACHE\n",
    "    start = time.time()\n",
    "    function(*args)\n",
    "    end = time.time()\n",
    "    print(\"Elapsed (after compilation) = %s\" % (end - start))"
   ]
  },
  {
   "cell_type": "markdown",
   "metadata": {},
   "source": [
    "### Cruza discreta"
   ]
  },
  {
   "cell_type": "markdown",
   "metadata": {},
   "source": [
    "Tiempo de ejecución para el operador de cruza sin uso de numba."
   ]
  },
  {
   "cell_type": "code",
   "execution_count": 11,
   "metadata": {},
   "outputs": [
    {
     "name": "stdout",
     "output_type": "stream",
     "text": [
      "Evaluación con el test 1:\n",
      "Elapsed (with compilation) = 0.0033233165740966797\n",
      "Elapsed (after compilation) = 0.0014803409576416016\n",
      "Evaluación con el test 2: \n",
      "Elapsed (with compilation) = 0.0024306774139404297\n",
      "Elapsed (after compilation) = 0.001220703125\n",
      "Evaluación con el test 3:\n",
      "Elapsed (with compilation) = 0.0030660629272460938\n",
      "Elapsed (after compilation) = 0.0012590885162353516\n"
     ]
    }
   ],
   "source": [
    "print(\"Evaluación con el test 1:\")\n",
    "evaluate_time(discrete_crossover, (X1, parents11, parents12))\n",
    "\n",
    "print(\"Evaluación con el test 2: \")\n",
    "evaluate_time(discrete_crossover, (X2, parents21, parents22))\n",
    "\n",
    "print(\"Evaluación con el test 3:\")\n",
    "evaluate_time(discrete_crossover, (X3, parents31, parents32))"
   ]
  },
  {
   "cell_type": "markdown",
   "metadata": {},
   "source": [
    "Tiempo de ejecución para el operador de cruza con uso de numba."
   ]
  },
  {
   "cell_type": "code",
   "execution_count": 15,
   "metadata": {},
   "outputs": [
    {
     "name": "stdout",
     "output_type": "stream",
     "text": [
      "Evaluación con el test 1:\n",
      "Elapsed (with compilation) = 0.0011043548583984375\n",
      "Elapsed (after compilation) = 0.0006387233734130859\n",
      "Evaluación con el test 2: \n",
      "Elapsed (with compilation) = 0.0006611347198486328\n",
      "Elapsed (after compilation) = 0.0005407333374023438\n",
      "Evaluación con el test 3:\n",
      "Elapsed (with compilation) = 0.001047372817993164\n",
      "Elapsed (after compilation) = 0.0010924339294433594\n"
     ]
    }
   ],
   "source": [
    "print(\"Evaluación con el test 1:\")\n",
    "evaluate_time(discrete_crossover_parallel, (X1, parents11, parents12))\n",
    "\n",
    "print(\"Evaluación con el test 2: \")\n",
    "evaluate_time(discrete_crossover_parallel, (X2, parents21, parents22))\n",
    "\n",
    "print(\"Evaluación con el test 3:\")\n",
    "evaluate_time(discrete_crossover_parallel, (X3, parents31, parents32))"
   ]
  },
  {
   "cell_type": "markdown",
   "metadata": {},
   "source": [
    "### Cruza intermedia\n"
   ]
  },
  {
   "cell_type": "markdown",
   "metadata": {},
   "source": [
    "Tiempo de ejecución para el operador de cruza sin uso de numba."
   ]
  },
  {
   "cell_type": "code",
   "execution_count": 13,
   "metadata": {},
   "outputs": [
    {
     "name": "stdout",
     "output_type": "stream",
     "text": [
      "Evaluación con el test 1:\n",
      "Elapsed (with compilation) = 0.0004241466522216797\n",
      "Elapsed (after compilation) = 0.0006284713745117188\n",
      "Evaluación con el test 2: \n",
      "Elapsed (with compilation) = 0.001489400863647461\n",
      "Elapsed (after compilation) = 0.0013799667358398438\n",
      "Evaluación con el test 3:\n",
      "Elapsed (with compilation) = 0.0008111000061035156\n",
      "Elapsed (after compilation) = 0.0010640621185302734\n"
     ]
    }
   ],
   "source": [
    "print(\"Evaluación con el test 1:\")\n",
    "evaluate_time(intermediate_crossover, (X1, parents11, parents12))\n",
    "\n",
    "print(\"Evaluación con el test 2: \")\n",
    "evaluate_time(intermediate_crossover, (X2, parents21, parents22))\n",
    "\n",
    "print(\"Evaluación con el test 3:\")\n",
    "evaluate_time(intermediate_crossover, (X3, parents31, parents32))"
   ]
  },
  {
   "cell_type": "markdown",
   "metadata": {},
   "source": [
    "Tiempo de ejecución para el operador de cruza con uso de numba."
   ]
  },
  {
   "cell_type": "code",
   "execution_count": 16,
   "metadata": {},
   "outputs": [
    {
     "name": "stdout",
     "output_type": "stream",
     "text": [
      "Evaluación con el test 1:\n",
      "Elapsed (with compilation) = 0.49767017364501953\n",
      "Elapsed (after compilation) = 2.5272369384765625e-05\n",
      "Evaluación con el test 2: \n",
      "Elapsed (with compilation) = 4.7206878662109375e-05\n",
      "Elapsed (after compilation) = 3.1948089599609375e-05\n",
      "Evaluación con el test 3:\n",
      "Elapsed (with compilation) = 0.00044345855712890625\n",
      "Elapsed (after compilation) = 0.00022482872009277344\n"
     ]
    }
   ],
   "source": [
    "print(\"Evaluación con el test 1:\")\n",
    "evaluate_time(intermediate_crossover_parallel, (X1, parents11, parents12))\n",
    "\n",
    "print(\"Evaluación con el test 2: \")\n",
    "evaluate_time(intermediate_crossover_parallel, (X2, parents21, parents22))\n",
    "\n",
    "print(\"Evaluación con el test 3:\")\n",
    "evaluate_time(intermediate_crossover_parallel, (X3, parents31, parents32))"
   ]
  },
  {
   "cell_type": "markdown",
   "metadata": {},
   "source": [
    "### Mutación"
   ]
  },
  {
   "cell_type": "markdown",
   "metadata": {},
   "source": [
    "Tiempo de ejecución  para el operador de mutación sin uso de numba."
   ]
  },
  {
   "cell_type": "code",
   "execution_count": 8,
   "metadata": {},
   "outputs": [
    {
     "name": "stdout",
     "output_type": "stream",
     "text": [
      "Evaluación con el test 1:\n",
      "Elapsed (with compilation) = 0.0003483295440673828\n",
      "Elapsed (after compilation) = 0.00016498565673828125\n",
      "Evaluación con el test 2: \n",
      "Elapsed (with compilation) = 0.0005154609680175781\n",
      "Elapsed (after compilation) = 0.0008065700531005859\n",
      "Evaluación con el test 3:\n",
      "Elapsed (with compilation) = 0.0014944076538085938\n",
      "Elapsed (after compilation) = 0.001455545425415039\n"
     ]
    }
   ],
   "source": [
    "print(\"Evaluación con el test 1:\")\n",
    "evaluate_time(mutate, (X1, S1))\n",
    "\n",
    "print(\"Evaluación con el test 2: \")\n",
    "evaluate_time(mutate, (X2, S2))\n",
    "\n",
    "print(\"Evaluación con el test 3:\")\n",
    "evaluate_time(mutate, (X3, S3))"
   ]
  },
  {
   "cell_type": "markdown",
   "metadata": {},
   "source": [
    "Tiempo de ejecución para el operador de mutación con uso de numba."
   ]
  },
  {
   "cell_type": "code",
   "execution_count": 9,
   "metadata": {},
   "outputs": [
    {
     "name": "stdout",
     "output_type": "stream",
     "text": [
      "Evaluación con el test 1:\n",
      "Elapsed (with compilation) = 1.806459903717041\n",
      "Elapsed (after compilation) = 0.0002574920654296875\n",
      "Evaluación con el test 2: \n",
      "Elapsed (with compilation) = 0.00022792816162109375\n",
      "Elapsed (after compilation) = 0.00012159347534179688\n",
      "Evaluación con el test 3:\n",
      "Elapsed (with compilation) = 0.00024628639221191406\n",
      "Elapsed (after compilation) = 0.00010132789611816406\n"
     ]
    }
   ],
   "source": [
    "print(\"Evaluación con el test 1:\")\n",
    "evaluate_time(mutate_parallel, (X1, S1))\n",
    "\n",
    "print(\"Evaluación con el test 2: \")\n",
    "evaluate_time(mutate_parallel, (X2, S2))\n",
    "\n",
    "print(\"Evaluación con el test 3:\")\n",
    "evaluate_time(mutate_parallel, (X3, S3))"
   ]
  },
  {
   "cell_type": "markdown",
   "metadata": {},
   "source": [
    "### Sigma mult adaptive\n",
    "Los número seleccionados fueron de manera aleatoria."
   ]
  },
  {
   "cell_type": "markdown",
   "metadata": {},
   "source": [
    "Tiempo de ejecución sin uso de numba."
   ]
  },
  {
   "cell_type": "code",
   "execution_count": 10,
   "metadata": {},
   "outputs": [
    {
     "name": "stdout",
     "output_type": "stream",
     "text": [
      "Evaluación con el test 1:\n",
      "Elapsed (with compilation) = 0.00032973289489746094\n",
      "Elapsed (after compilation) = 0.00044989585876464844\n",
      "Evaluación con el test 2: \n",
      "Elapsed (with compilation) = 0.0007386207580566406\n",
      "Elapsed (after compilation) = 0.00061798095703125\n",
      "Evaluación con el test 3:\n",
      "Elapsed (with compilation) = 0.001027822494506836\n",
      "Elapsed (after compilation) = 0.0008141994476318359\n"
     ]
    }
   ],
   "source": [
    "print(\"Evaluación con el test 1:\")\n",
    "evaluate_time(sigma_mult_adaptive, (S1, 0.3,0.4))\n",
    "\n",
    "print(\"Evaluación con el test 2: \")\n",
    "evaluate_time(sigma_mult_adaptive, (S2,0.3,0.4))\n",
    "\n",
    "print(\"Evaluación con el test 3:\")\n",
    "evaluate_time(sigma_mult_adaptive, (S3,0.3,0.4))"
   ]
  },
  {
   "cell_type": "markdown",
   "metadata": {},
   "source": [
    "Tiempo de ejecución con numba."
   ]
  },
  {
   "cell_type": "code",
   "execution_count": 11,
   "metadata": {},
   "outputs": [
    {
     "name": "stdout",
     "output_type": "stream",
     "text": [
      "Evaluación con el test 1:\n",
      "Elapsed (with compilation) = 0.5647294521331787\n",
      "Elapsed (after compilation) = 5.6743621826171875e-05\n",
      "Evaluación con el test 2: \n",
      "Elapsed (with compilation) = 9.107589721679688e-05\n",
      "Elapsed (after compilation) = 8.988380432128906e-05\n",
      "Evaluación con el test 3:\n",
      "Elapsed (with compilation) = 0.00021982192993164062\n",
      "Elapsed (after compilation) = 0.0002219676971435547\n"
     ]
    }
   ],
   "source": [
    "print(\"Evaluación con el test 1:\")\n",
    "evaluate_time(sigma_mult_adaptive_parallel, (S1, 0.3,0.4))\n",
    "\n",
    "print(\"Evaluación con el test 2: \")\n",
    "evaluate_time(sigma_mult_adaptive_parallel, (S2,0.3,0.4))\n",
    "\n",
    "print(\"Evaluación con el test 3:\")\n",
    "evaluate_time(sigma_mult_adaptive_parallel, (S3,0.3,0.4))"
   ]
  },
  {
   "cell_type": "code",
   "execution_count": null,
   "metadata": {},
   "outputs": [],
   "source": []
  }
 ],
 "metadata": {
  "kernelspec": {
   "display_name": "Python 3",
   "language": "python",
   "name": "python3"
  },
  "language_info": {
   "codemirror_mode": {
    "name": "ipython",
    "version": 3
   },
   "file_extension": ".py",
   "mimetype": "text/x-python",
   "name": "python",
   "nbconvert_exporter": "python",
   "pygments_lexer": "ipython3",
   "version": "3.7.1"
  }
 },
 "nbformat": 4,
 "nbformat_minor": 2
}
