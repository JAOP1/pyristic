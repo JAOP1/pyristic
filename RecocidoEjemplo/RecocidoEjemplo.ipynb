{
 "cells": [
  {
   "cell_type": "markdown",
   "metadata": {},
   "source": [
    "# Recocido Simulado\n",
    "\n",
    "La librería **Pyristic** incluye una clase llamada *SimulatedAnnealing* que facilita la implementación de la metaheurística basada en *Recocido Simulado*. Para poder utilizar esta clase, se debe realizar lo siguiente:\n",
    "\n",
    "1. Definir:\n",
    "    * La función objetivo $f$.\n",
    "    * La lista de restricciones.\n",
    "    \n",
    "    \n",
    "2. Crear una clase que herede de *SimulatedAnnealing*.\n",
    "\n",
    "\n",
    "3. Sobreescribir las siguientes funciones de la clase SimulatedAnnealing:\n",
    "    * get_neighbor (requerido)\n",
    "    * update_temperature (opcional)\n",
    "    \n",
    "A continuación se muestran los elementos que se deben importar. Posteriormente, se resolverán dos problemas de optimización combinatoria usando la clase *SimulatedAnnealing*."
   ]
  },
  {
   "cell_type": "code",
   "execution_count": 1,
   "metadata": {},
   "outputs": [],
   "source": [
    "import sys\n",
    "import os\n",
    "\n",
    "#library_path is the path where the Optimpy library is located.\n",
    "library_path = \"/home/dell/Documentos/Git_proejcts/pyristic/\"\n",
    "#library_path = \"/Users/adrianamenchacamendez/Documentos/enes_morelia/papime/optimizacion-con-metaheuristicas/\"\n",
    "sys.path.append(os.path.abspath(library_path))"
   ]
  },
  {
   "cell_type": "code",
   "execution_count": 2,
   "metadata": {},
   "outputs": [],
   "source": [
    "from pyristic.heuristic.SimulatedAnnealing_search import SimulatedAnnealing\n",
    "from pyristic.utils.helpers import *\n",
    "from pprint import pprint\n",
    "import numpy as np \n",
    "import copy "
   ]
  },
  {
   "cell_type": "markdown",
   "metadata": {},
   "source": [
    "## Problema del agente viajero\n",
    "\n",
    "\n",
    "\\begin{equation}\n",
    "    \\label{eq:TSP}\n",
    "    \\begin{array}{rll}\n",
    "    \\text{minimizar:} & f(x) = d(x_n, x_1) + \\sum_{i=1}^{n-1} d(x_i, x_{i+1}) &  \\\\\n",
    "    \\text{tal que: } & x_i \\in \\{1,2,\\cdots,n\\} & \\\\\n",
    "    \\end{array}\n",
    "\\end{equation}\n",
    "\n",
    "Donde:\n",
    "* $d(x_i,x_j)$ es la distancia de la ciudad $x_i$ a la ciudad $x_j$.\n",
    "* $n$ es el número de ciudades.\n",
    "* $x$ es una permutación de las $n$ ciudades.\n",
    "\n",
    "A continuación vamos a definir una instancia de este problema utilizando 10 ciudades."
   ]
  },
  {
   "cell_type": "code",
   "execution_count": 3,
   "metadata": {},
   "outputs": [],
   "source": [
    "import random \n",
    "import math\n",
    "\n",
    "num_cities = 10\n",
    "dist_matrix = \\\n",
    "[\\\n",
    "[0,49,30,53,72,19,76,87,45,48],\\\n",
    "[49,0,19,38,32,31,75,69,61,25],\\\n",
    "[30,19,0,41,98,56,6,6,45,53],\\\n",
    "[53,38,41,0,52,29,46,90,23,98],\\\n",
    "[72,32,98,52,0,63,90,69,50,82],\\\n",
    "[19,31,56,29,63,0,60,88,41,95],\\\n",
    "[76,75,6,46,90,60,0,61,92,10],\\\n",
    "[87,69,6,90,69,88,61,0,82,73],\\\n",
    "[45,61,45,23,50,41,92,82,0,5],\\\n",
    "[48,25,53,98,82,95,10,73,5,0],\\\n",
    "]\n"
   ]
  },
  {
   "cell_type": "markdown",
   "metadata": {},
   "source": [
    "### Función objetivo"
   ]
  },
  {
   "cell_type": "code",
   "execution_count": 4,
   "metadata": {},
   "outputs": [],
   "source": [
    "def f_salesman(x : (list,np.ndarray)) -> float:\n",
    "    global dist_matrix\n",
    "    total_dist = dist_matrix[x[-1]][0]\n",
    "    for i in range(1,len(x)):\n",
    "        u,v = x[i], x[i-1]\n",
    "        total_dist+= dist_matrix[u][v]\n",
    "\n",
    "    return float(total_dist)"
   ]
  },
  {
   "cell_type": "markdown",
   "metadata": {},
   "source": [
    "### Restricciones\n",
    "Las restricciones se definen como una lista de funciones que retornan valores *booleanos*. Estos valores permitirán verificar si una solución es factible o no. \n",
    "\n",
    "En el caso del problema del agente viajero queremos comprobar que estamos visitando todas las ciudades exactamente una vez."
   ]
  },
  {
   "cell_type": "code",
   "execution_count": 5,
   "metadata": {},
   "outputs": [],
   "source": [
    "def g_salesman(x : np.ndarray) -> bool:\n",
    "\n",
    "    size = len(x)\n",
    "    size_ = len(np.unique(x))\n",
    "    return size == size_\n",
    "\n",
    "constraints_list= [g_salesman]"
   ]
  },
  {
   "cell_type": "markdown",
   "metadata": {},
   "source": [
    "### Solución inicial\n",
    "\n",
    "La estrategia utilizada para generar la solución inicial es la siguiente:\n",
    "\n",
    "1. Introducir la ciudad $1$ en la primera posición de nuestra permutación y crear un arreglo con las ciudades restantes.\n",
    "\n",
    "2. Seleccionar la ciudad más cercana desde nuestra ubicación actual.\n",
    "\n",
    "3. Retirar del arreglo la ciudad seleccionada y asignar la como nuestra ubicación actual; Posterior, repetir el punto 2."
   ]
  },
  {
   "cell_type": "code",
   "execution_count": 6,
   "metadata": {},
   "outputs": [],
   "source": [
    "def getInitialSolutionTS(distance_matrix, total_cities) -> np.ndarray:\n",
    "    Solution = [0]\n",
    "    remaining_cities  = list(range(1,total_cities))\n",
    "    \n",
    "    while len(remaining_cities) != 0:\n",
    "        from_ = Solution[-1]\n",
    "        to_ = remaining_cities[0]\n",
    "        dist = distance_matrix[from_][to_]\n",
    "        \n",
    "        for i in range(1, len(remaining_cities)):\n",
    "            distance = distance_matrix[from_][remaining_cities[i]]\n",
    "            if distance < dist:\n",
    "                to_ = remaining_cities[i]\n",
    "                dist = distance\n",
    "        Solution.append(to_)\n",
    "        ind = remaining_cities.index(to_)\n",
    "        remaining_cities.pop(ind)\n",
    "        \n",
    "    return np.array(Solution)"
   ]
  },
  {
   "cell_type": "code",
   "execution_count": 7,
   "metadata": {},
   "outputs": [
    {
     "name": "stdout",
     "output_type": "stream",
     "text": [
      "[0 5 3 8 9 6 2 7 1 4]\n"
     ]
    }
   ],
   "source": [
    "Path = getInitialSolutionTS(dist_matrix,num_cities)\n",
    "print(Path)"
   ]
  },
  {
   "cell_type": "markdown",
   "metadata": {},
   "source": [
    "### Declaración de  `SimulatedAnnealing`\n",
    "\n",
    "Para implementar una metaheurística basada en recocido simulado, utilizando la librería **Pyristic**, es necesario crear una clase que herede de la clase `SimulatedAnnealing`. En este ejemplo, la nueva clase es llamada *TravellingSalesman_solver*. \n",
    "\n",
    "La nueva clase debe sobreescribir la función `get_neighbor`, de lo contrario el algoritmo no va a funcionar."
   ]
  },
  {
   "cell_type": "code",
   "execution_count": 8,
   "metadata": {},
   "outputs": [],
   "source": [
    "class TravellingSalesman_solver(SimulatedAnnealing):\n",
    "\n",
    "    def __init__(self, f_ : function_type , constraints_: list):\n",
    "        super().__init__(f_,constraints_)\n",
    "\n",
    "    def get_neighbor(self, x : np.ndarray) -> np.ndarray: \n",
    "        \n",
    "        x_ = x.copy()\n",
    "        N = len(x_)\n",
    "        index1 = random.randint(1, N-1)\n",
    "        index2 = random.randint(1, N-1)\n",
    "    \n",
    "        while index2 == index1:\n",
    "            index2 = random.randint(1, N-1)\n",
    "    \n",
    "        v = x[index1]\n",
    "        x_ = list(x_[v != x_])\n",
    "        x_ = x_[:index2] + [v] + x_[index2:]\n",
    "        return np.array(x_)\n",
    "\n"
   ]
  },
  {
   "cell_type": "markdown",
   "metadata": {},
   "source": [
    "La función `get_neigbor` debe regresar una solución *vecina* de la solución actual, es decir, una variación de la solución actual. Para nuestro ejemplo, una solución vecina de la solución $x$, la vamos a definir como sigue:\n",
    "\n",
    "Se seleccionan dos indices distintos de manera aleatoria llamados $i$ y $j$, donde, tomaremos el elemento $x_i$ y desplazaremos las otras posiciones de la solución $x$ de modo que $x_i$ se encuentre en la posición $j$ y esta nueva solución será retornada."
   ]
  },
  {
   "cell_type": "markdown",
   "metadata": {},
   "source": [
    "### Ejecución de la metaheurística\n",
    "\n",
    "Una vez definida la clase *TravellingSalesman_solver*, se crea una instancia indicando en los parámetros la función objetivo y las restricciones del problema. En este caso llamamos *TravellingSalesman* a la instancia creada."
   ]
  },
  {
   "cell_type": "code",
   "execution_count": 9,
   "metadata": {},
   "outputs": [],
   "source": [
    "TravellingSalesman =\\\n",
    "TravellingSalesman_solver( f_salesman, constraints_list)"
   ]
  },
  {
   "cell_type": "markdown",
   "metadata": {},
   "source": [
    "Finalmente, se llama la función `optimize` (esta función es la misma para todas las clases en la librería). La función `optimize` recibe tres parámetros:\n",
    "\n",
    "* Solución inicial o función generadora de soluciones iniciales.\n",
    "* La temperatura inicial. \n",
    "* La temperatura final.\n",
    "\n",
    "Vamos a utilizar los siguientes parámetros: \n",
    "* Emplearemos la solución obtenida por la función *getInitialSolutionTS*.\n",
    "* $1000$ de temperatura inicial.\n",
    "* $0.1$ de temperatura final."
   ]
  },
  {
   "cell_type": "code",
   "execution_count": 10,
   "metadata": {},
   "outputs": [
    {
     "name": "stdout",
     "output_type": "stream",
     "text": [
      "Simulated Annealing: \n",
      " f(X) = 248.0 \n",
      " X = [0 5 3 8 9 6 2 7 4 1] \n",
      " \n"
     ]
    }
   ],
   "source": [
    "TravellingSalesman.optimize(Path, 1000.0 , 0.1)\n",
    "print(TravellingSalesman)"
   ]
  },
  {
   "cell_type": "markdown",
   "metadata": {},
   "source": [
    "Para revisar el comportamiento de la metaheurística en determinado problema, la librería **Pyristic** cuenta con una función llamada `get_stats`. Esta función se encuentra en **utils.helpers** y recibe como parámetros:\n",
    "\n",
    "* El objeto creado para ejecutar la metaheurística.\n",
    "* El número de veces que se quiere ejecutar la metaheurística.\n",
    "* Los argumentos que recibe la función `optimize` deben estar contenidos en una tupla.\n",
    "\n",
    "La función **get_stats** retorna un diccionario con algunas estadísticas de las ejecuciones. "
   ]
  },
  {
   "cell_type": "code",
   "execution_count": 11,
   "metadata": {},
   "outputs": [],
   "source": [
    "#Ejecutamos get_stats 30 veces.\n",
    "args = (Path, 1000.0, 0.01)\n",
    "statistics = get_stats(TravellingSalesman, 30, args)"
   ]
  },
  {
   "cell_type": "code",
   "execution_count": 12,
   "metadata": {},
   "outputs": [
    {
     "name": "stdout",
     "output_type": "stream",
     "text": [
      "{'Best solution': {'f': 248.0, 'x': array([0, 5, 3, 8, 9, 6, 2, 7, 4, 1])},\n",
      " 'Mean': 263.9,\n",
      " 'Median': 271.0,\n",
      " 'Standard deviation': 10.425449630591478,\n",
      " 'Worst solution': {'f': 271.0, 'x': array([0, 5, 3, 8, 9, 6, 2, 7, 1, 4])},\n",
      " 'averageTime': 0.02728691101074219,\n",
      " 'objectiveFunction': [271.0,\n",
      "                       271.0,\n",
      "                       248.0,\n",
      "                       271.0,\n",
      "                       271.0,\n",
      "                       248.0,\n",
      "                       271.0,\n",
      "                       269.0,\n",
      "                       271.0,\n",
      "                       271.0,\n",
      "                       271.0,\n",
      "                       248.0,\n",
      "                       248.0,\n",
      "                       271.0,\n",
      "                       271.0,\n",
      "                       271.0,\n",
      "                       269.0,\n",
      "                       271.0,\n",
      "                       271.0,\n",
      "                       248.0,\n",
      "                       271.0,\n",
      "                       248.0,\n",
      "                       271.0,\n",
      "                       248.0,\n",
      "                       271.0,\n",
      "                       269.0,\n",
      "                       248.0,\n",
      "                       271.0,\n",
      "                       271.0,\n",
      "                       248.0]}\n"
     ]
    }
   ],
   "source": [
    "pprint(statistics)"
   ]
  },
  {
   "cell_type": "markdown",
   "metadata": {},
   "source": [
    "## Problema de la mochila\n",
    "\n",
    "\\begin{equation}\n",
    "  \\label{eq:KP}\n",
    "  \\begin{array}{rll}\n",
    "  \\text{maximizar:} & f(\\vec{x}) = \\sum_{i=1}^{n} p_i \\cdot x_{i} &  \\\\\n",
    "  \\text{donde: } & g_1(\\vec{x}) = \\sum_{i=1}^{n} w_i \\cdot x_{i}  \\leq c &  \\\\\n",
    "          &  x_i \\in \\{0,1\\} & i\\in\\{1,\\ldots,n\\}\\\\\n",
    "  \\end{array}\n",
    "\\end{equation}\n"
   ]
  },
  {
   "cell_type": "markdown",
   "metadata": {},
   "source": [
    "Para este problema vamos a crear una instancia de $1000$ objetos, donde, cada objeto estará definido:\n",
    "* $p_{i} \\in [50,100]$ \n",
    "* $w_{i} \\in [5,100]$\n",
    "* $C  = 9786$"
   ]
  },
  {
   "cell_type": "code",
   "execution_count": 13,
   "metadata": {},
   "outputs": [],
   "source": [
    "n = 1000\n",
    "p = np.random.randint(50,101,n)\n",
    "w = np.random.randint(5,101,n)\n",
    "c = 9786"
   ]
  },
  {
   "cell_type": "markdown",
   "metadata": {},
   "source": [
    "A continuación mostraremos dos algorimos basados en recocido simulado. El primero de ellos es un diseño sencillo y el segundo es un diseño más elaborado que obtiene mejores resultados."
   ]
  },
  {
   "cell_type": "markdown",
   "metadata": {},
   "source": [
    "### Función objetivo\n",
    "\n",
    "Dado que la clase `SimulatedAnnealing` considera problemas de minimización, es necesario convertir el problema de la mochila a un problema de minimización. Para esto se multiplica el valor de la función objetivo por -1."
   ]
  },
  {
   "cell_type": "code",
   "execution_count": 14,
   "metadata": {},
   "outputs": [],
   "source": [
    "def f(x : np.ndarray) -> float:\n",
    "    global p\n",
    "    return -1.0* np.dot(x,p)\n"
   ]
  },
  {
   "cell_type": "markdown",
   "metadata": {},
   "source": [
    "### Restricciones\n",
    "La restricción del problema de la mochila es seleccionar un número de objetos sin exceder la capacidad de la mochila."
   ]
  },
  {
   "cell_type": "code",
   "execution_count": 15,
   "metadata": {},
   "outputs": [],
   "source": [
    "def g1(x : np.ndarray) -> bool:\n",
    "    global w,c\n",
    "    result = np.dot(x,w)\n",
    "    g1.__doc__=\"{} <= {}\".format(result,c)\n",
    "    return result <= c\n",
    "\n",
    "constraints_list= [g1]"
   ]
  },
  {
   "cell_type": "markdown",
   "metadata": {},
   "source": [
    "### Solución inicial\n",
    "Nuestra solución inicial es creada introduciendo objetos de manera aleatoria, mientras no se exceda el peso de la mochila."
   ]
  },
  {
   "cell_type": "code",
   "execution_count": 16,
   "metadata": {},
   "outputs": [],
   "source": [
    "def getInitialSolution(NumObjects=15):\n",
    "    global n,p,w,c\n",
    "    #Empty backpack\n",
    "    x = [0 for i in range(n)]\n",
    "    weight_x = 0\n",
    "    \n",
    "    #Random order to insert objects.\n",
    "    objects = list(range(n))\n",
    "    np.random.shuffle(objects)\n",
    "    \n",
    "    for o in  objects[:NumObjects]:\n",
    "        #Check the constraint about capacity.\n",
    "        if weight_x + w[o] <= c:\n",
    "            x[o] = 1\n",
    "            weight_x += w[o]\n",
    "            \n",
    "    return np.array(x)"
   ]
  },
  {
   "cell_type": "markdown",
   "metadata": {},
   "source": [
    "### Ejecución de la metaheurística\n"
   ]
  },
  {
   "cell_type": "code",
   "execution_count": 17,
   "metadata": {},
   "outputs": [],
   "source": [
    "class Knapsack_solver(SimulatedAnnealing):\n",
    "\n",
    "    def __init__(self, f_ : function_type , constraints_: list):\n",
    "        super().__init__(f_,constraints_)\n",
    "        \n",
    "    def get_neighbor(self, x : np.ndarray, **kwargs) -> np.ndarray: \n",
    "        \n",
    "        x_ = x.copy()\n",
    "        N = len(x_)\n",
    "        while(True):\n",
    "            ind = random.randint(0, N-1)\n",
    "            x_[ind] ^= 1\n",
    "            \n",
    "            if(self.is_valid(x_)):\n",
    "                break\n",
    "            \n",
    "            x_[ind] ^= 1\n",
    "        \n",
    "        return np.array(x_)\n",
    "\n",
    "    def update_temperature(self, **kwargs) -> float:\n",
    "        return self.logger['temperature'] * 0.99"
   ]
  },
  {
   "cell_type": "markdown",
   "metadata": {},
   "source": [
    "Parte clave de este algoritmo es la temperatura. La temperatura es una función que varía de acuerdo al tiempo $t$, donde, al inicio de la búsqueda permite aceptar con mayor probabilidad soluciones peores. \n",
    "\n",
    "La clase `SimulatedAnnealing` define esta función como `update_temperature` que está implementada por defecto. En este ejemplo vamos a definir nuestra función de cambio lineal $T(t + 1) = \\sigma T(t)$ "
   ]
  },
  {
   "cell_type": "markdown",
   "metadata": {},
   "source": [
    "La función `get_neighbor` tomará la solución $x$ (arreglo de 0's y 1's), donde, el valor de retorno será la solución $x$ con una posición aleatoria $i$ que será reemplazada por el valor 0 si la posición $x_i$ es 1, sino, será 1.\n"
   ]
  },
  {
   "cell_type": "code",
   "execution_count": 18,
   "metadata": {},
   "outputs": [],
   "source": [
    "Knapsack_ = Knapsack_solver(f, [g1])\n",
    "Knapsack_.optimize(getInitialSolution,1000.0,0.1)"
   ]
  },
  {
   "cell_type": "code",
   "execution_count": 19,
   "metadata": {},
   "outputs": [
    {
     "name": "stdout",
     "output_type": "stream",
     "text": [
      "Simulated Annealing: \n",
      " f(X) = -16579.0 \n",
      " X = [0 0 1 1 1 0 0 0 0 0 0 0 0 0 0 0 1 1 0 0 0 0 0 0 0 0 1 0 0 0 0 0 1 0 0 0 0\n",
      " 0 0 0 0 1 0 1 0 1 0 0 0 0 0 0 0 0 0 0 0 1 1 1 0 0 0 0 0 0 0 0 0 1 0 0 0 0\n",
      " 0 0 0 0 0 0 0 0 1 0 0 1 0 1 0 0 0 0 0 1 0 0 0 0 1 0 0 1 0 0 0 0 0 1 0 0 0\n",
      " 0 0 0 0 0 0 0 1 0 0 0 1 0 0 0 0 0 0 0 0 0 0 1 1 0 0 0 0 0 1 0 0 0 0 0 0 0\n",
      " 0 0 0 1 0 1 0 0 0 0 1 0 0 0 1 1 0 1 1 0 0 0 1 0 1 0 1 0 0 0 0 0 0 1 1 0 0\n",
      " 0 0 1 0 0 0 1 0 1 0 0 0 0 0 0 0 1 0 0 0 1 0 0 0 0 0 0 0 0 0 0 1 1 0 0 0 0\n",
      " 1 0 0 0 0 0 0 0 0 0 0 0 1 1 0 0 0 0 0 0 1 0 0 1 0 0 0 0 0 0 1 1 1 0 0 1 0\n",
      " 0 0 0 0 1 0 0 0 0 1 0 1 0 1 0 1 0 0 0 0 0 0 0 0 0 0 0 0 1 0 0 1 1 0 0 0 0\n",
      " 0 0 0 0 0 0 0 0 1 0 0 0 0 0 0 0 0 0 0 0 0 1 0 0 1 1 1 1 0 0 1 0 0 0 0 0 1\n",
      " 0 1 0 1 0 1 0 1 0 0 0 0 0 1 0 0 0 0 0 0 0 0 0 0 0 0 0 1 0 0 0 0 0 0 0 0 0\n",
      " 1 0 0 0 1 0 0 1 1 1 0 0 0 0 0 1 0 1 0 0 1 0 1 0 0 0 0 0 1 0 0 0 0 0 1 0 0\n",
      " 0 0 0 0 0 0 1 0 0 0 0 0 0 1 0 0 0 0 0 0 1 0 0 0 0 0 1 1 1 0 0 1 0 0 0 0 0\n",
      " 0 0 0 0 0 0 0 0 0 0 1 1 0 0 0 0 1 0 0 0 0 0 1 0 0 0 0 0 1 0 0 0 0 1 0 0 1\n",
      " 0 1 0 0 0 0 0 0 1 0 0 0 0 0 1 1 0 1 0 0 0 0 0 0 0 1 0 0 0 0 0 0 0 0 1 1 0\n",
      " 0 0 1 0 0 0 0 0 0 0 0 0 0 0 1 0 0 0 1 0 0 0 0 0 0 0 0 0 0 0 1 0 0 1 0 0 0\n",
      " 0 0 0 0 0 0 1 0 0 0 0 0 0 1 0 0 0 1 1 1 0 1 0 0 0 1 1 1 0 0 0 1 0 0 0 0 0\n",
      " 0 0 0 0 1 1 1 1 0 1 0 0 0 1 1 0 0 0 0 0 1 0 1 1 0 0 0 0 0 0 0 0 1 0 1 1 0\n",
      " 1 0 1 0 0 0 0 0 0 0 0 0 1 0 1 1 0 1 0 1 1 0 0 0 0 0 0 0 0 0 0 1 0 1 1 0 0\n",
      " 0 1 0 0 1 0 0 0 0 0 0 0 0 0 0 0 0 0 1 1 0 1 0 0 0 0 0 0 0 0 0 0 0 1 0 0 1\n",
      " 1 1 0 1 1 1 0 0 0 0 0 0 0 0 0 0 0 0 0 1 0 0 1 0 0 0 0 0 0 0 0 0 1 1 0 1 0\n",
      " 0 0 1 0 0 0 1 0 0 1 0 0 0 1 1 0 0 1 0 1 0 0 0 0 0 0 0 1 0 0 0 0 0 0 0 1 0\n",
      " 0 1 0 0 0 0 0 0 0 0 0 0 0 0 0 0 0 0 0 0 0 0 0 0 0 1 0 0 1 0 0 1 0 0 0 0 0\n",
      " 0 0 0 0 0 1 1 0 0 0 1 0 1 0 1 0 1 1 1 0 0 1 0 0 0 0 0 0 1 0 0 0 1 0 0 1 0\n",
      " 1 0 0 0 0 0 0 0 0 1 1 0 0 0 0 1 0 0 0 0 0 0 0 0 1 0 1 0 0 0 0 0 0 0 0 1 1\n",
      " 1 0 0 0 0 0 1 0 0 0 0 0 0 0 0 0 1 1 0 0 0 1 1 0 0 1 1 0 0 0 1 0 0 1 0 0 1\n",
      " 0 0 0 0 0 0 0 0 0 0 0 0 1 0 0 0 0 0 0 0 0 0 1 0 0 0 0 0 0 0 1 0 0 0 0 1 0\n",
      " 0 0 0 0 1 0 0 0 0 0 0 1 0 0 0 1 0 0 0 1 0 0 0 0 0 0 0 0 0 0 0 0 0 0 1 1 0\n",
      " 0] \n",
      " Constraints: \n",
      " 9785 <= 9786 \n",
      "\n"
     ]
    }
   ],
   "source": [
    "print(Knapsack_)"
   ]
  },
  {
   "cell_type": "markdown",
   "metadata": {},
   "source": [
    "Para realizar un estudio estadístico del comportamiento de la metaheurística, la librería Pyristic cuenta con una función llamada get_stats. Esta función se encuentra en utils.helpers y recibe como parámetros:\n",
    "\n",
    "    Objeto que realiza la ejecución de la metaheurística.\n",
    "    El número de veces que se quiere ejecutar la metaheurística.\n",
    "    Tupla con los argumentos que recibe la función optimize.\n",
    "    Argumentos adicionales a la búsqueda (opcional).\n",
    "\n",
    "La función get_stats considera las solución regresada por la metaheurística en cada ejecución y retorna un diccionario con la mejor y peor solución encontrada, la media y desviación estándar del valor de la función objetivo. "
   ]
  },
  {
   "cell_type": "code",
   "execution_count": 20,
   "metadata": {},
   "outputs": [],
   "source": [
    "args = (getInitialSolution,1000.0,0.01)\n",
    "statistics = get_stats(Knapsack_, 30, args)"
   ]
  },
  {
   "cell_type": "code",
   "execution_count": 21,
   "metadata": {
    "scrolled": true
   },
   "outputs": [
    {
     "name": "stdout",
     "output_type": "stream",
     "text": [
      "{'Best solution': {'f': -17760.0,\n",
      "                   'x': array([0, 0, 0, 0, 0, 1, 0, 0, 0, 0, 0, 0, 1, 1, 0, 1, 0, 0, 1, 0, 1, 0,\n",
      "       0, 1, 0, 0, 1, 1, 0, 1, 1, 0, 1, 0, 1, 0, 0, 0, 1, 0, 0, 1, 1, 0,\n",
      "       1, 0, 1, 0, 1, 0, 0, 1, 0, 0, 0, 0, 0, 0, 0, 0, 0, 0, 0, 0, 0, 0,\n",
      "       0, 0, 0, 0, 0, 0, 0, 0, 0, 0, 1, 0, 0, 0, 0, 0, 0, 1, 1, 1, 0, 0,\n",
      "       0, 0, 0, 0, 0, 1, 1, 0, 0, 0, 0, 0, 0, 0, 0, 0, 0, 0, 0, 0, 0, 0,\n",
      "       1, 1, 1, 0, 0, 0, 0, 0, 0, 0, 0, 0, 1, 1, 1, 0, 0, 0, 0, 0, 1, 0,\n",
      "       0, 0, 0, 0, 1, 0, 0, 0, 0, 0, 1, 0, 0, 0, 0, 1, 0, 0, 0, 0, 0, 0,\n",
      "       0, 0, 1, 0, 0, 0, 0, 1, 1, 0, 0, 0, 0, 0, 1, 0, 1, 1, 0, 0, 0, 0,\n",
      "       0, 0, 1, 0, 0, 0, 1, 1, 1, 0, 0, 1, 0, 0, 0, 0, 0, 1, 0, 0, 0, 0,\n",
      "       0, 0, 0, 1, 0, 0, 1, 0, 1, 1, 0, 1, 0, 1, 0, 0, 1, 0, 0, 0, 0, 0,\n",
      "       1, 0, 0, 0, 0, 0, 0, 0, 0, 0, 0, 0, 0, 0, 0, 0, 0, 0, 0, 1, 0, 0,\n",
      "       0, 0, 0, 0, 0, 0, 0, 1, 0, 0, 1, 1, 0, 0, 1, 0, 0, 0, 0, 0, 0, 0,\n",
      "       0, 0, 0, 0, 0, 1, 1, 0, 0, 0, 0, 0, 0, 0, 0, 0, 1, 0, 0, 0, 0, 0,\n",
      "       0, 0, 0, 0, 0, 0, 0, 0, 0, 1, 1, 0, 0, 0, 1, 1, 0, 0, 0, 0, 0, 0,\n",
      "       0, 0, 0, 1, 1, 0, 1, 1, 0, 0, 1, 0, 0, 0, 1, 0, 1, 1, 1, 0, 0, 0,\n",
      "       1, 0, 0, 1, 0, 1, 0, 1, 0, 0, 0, 0, 0, 0, 0, 0, 0, 1, 0, 0, 0, 0,\n",
      "       0, 0, 0, 0, 1, 1, 0, 0, 1, 1, 0, 0, 0, 0, 0, 0, 1, 1, 0, 0, 0, 1,\n",
      "       1, 0, 1, 1, 1, 0, 1, 0, 0, 1, 0, 0, 0, 0, 0, 0, 0, 0, 1, 0, 1, 0,\n",
      "       0, 0, 0, 0, 1, 0, 1, 1, 0, 0, 1, 0, 0, 1, 0, 0, 0, 0, 0, 0, 0, 1,\n",
      "       0, 1, 0, 1, 1, 0, 1, 0, 0, 0, 0, 0, 1, 0, 0, 1, 0, 0, 0, 0, 0, 0,\n",
      "       0, 0, 1, 0, 0, 1, 0, 0, 0, 1, 0, 0, 0, 0, 0, 0, 0, 0, 0, 1, 1, 0,\n",
      "       0, 0, 1, 0, 1, 0, 0, 1, 1, 1, 0, 1, 0, 0, 0, 0, 0, 0, 0, 0, 0, 1,\n",
      "       1, 0, 0, 0, 0, 1, 0, 1, 0, 0, 0, 1, 0, 1, 0, 0, 0, 0, 1, 0, 1, 0,\n",
      "       0, 0, 0, 0, 1, 0, 0, 0, 0, 0, 0, 0, 0, 0, 1, 0, 0, 1, 0, 1, 0, 0,\n",
      "       0, 0, 0, 0, 0, 1, 0, 0, 0, 0, 0, 0, 1, 0, 0, 0, 0, 0, 0, 0, 0, 0,\n",
      "       0, 0, 1, 1, 0, 0, 1, 0, 0, 0, 0, 0, 1, 0, 0, 0, 0, 0, 1, 0, 1, 0,\n",
      "       1, 0, 0, 0, 1, 0, 1, 0, 0, 0, 1, 0, 1, 0, 0, 0, 0, 0, 0, 0, 0, 0,\n",
      "       1, 0, 0, 0, 0, 0, 0, 0, 0, 0, 0, 0, 0, 1, 1, 0, 0, 0, 0, 0, 1, 0,\n",
      "       0, 0, 1, 0, 0, 0, 0, 0, 0, 1, 0, 0, 0, 0, 0, 0, 0, 0, 0, 0, 0, 1,\n",
      "       0, 0, 0, 0, 0, 1, 0, 0, 0, 1, 0, 0, 0, 0, 1, 1, 0, 1, 1, 0, 0, 0,\n",
      "       0, 0, 0, 0, 1, 0, 0, 0, 0, 0, 0, 0, 0, 1, 0, 0, 1, 1, 0, 0, 0, 1,\n",
      "       0, 0, 0, 1, 0, 0, 0, 0, 0, 0, 0, 0, 0, 0, 0, 0, 0, 0, 1, 0, 0, 1,\n",
      "       0, 0, 0, 0, 0, 0, 1, 0, 1, 0, 0, 0, 0, 0, 0, 1, 0, 0, 1, 1, 0, 1,\n",
      "       0, 1, 0, 0, 0, 1, 0, 0, 0, 0, 0, 0, 0, 0, 0, 0, 0, 0, 0, 0, 0, 0,\n",
      "       0, 0, 0, 0, 0, 1, 0, 0, 0, 1, 0, 1, 0, 0, 0, 0, 0, 0, 0, 0, 0, 0,\n",
      "       0, 0, 0, 0, 0, 1, 0, 1, 0, 0, 1, 0, 0, 0, 0, 0, 1, 0, 0, 0, 0, 0,\n",
      "       0, 0, 1, 1, 0, 0, 0, 0, 0, 0, 0, 0, 1, 1, 0, 1, 1, 0, 0, 0, 0, 1,\n",
      "       0, 0, 0, 0, 0, 1, 0, 0, 0, 1, 1, 0, 0, 0, 1, 0, 0, 0, 0, 0, 0, 0,\n",
      "       0, 0, 1, 1, 0, 1, 0, 0, 0, 0, 0, 0, 0, 0, 0, 1, 0, 0, 0, 1, 0, 0,\n",
      "       0, 0, 0, 0, 0, 0, 0, 0, 0, 0, 1, 1, 0, 1, 0, 0, 1, 0, 0, 1, 0, 0,\n",
      "       1, 0, 1, 0, 0, 0, 0, 1, 0, 0, 0, 0, 0, 0, 0, 1, 0, 0, 0, 0, 0, 0,\n",
      "       0, 0, 0, 1, 0, 0, 0, 1, 1, 1, 0, 0, 0, 0, 0, 0, 1, 0, 0, 0, 1, 0,\n",
      "       1, 0, 0, 0, 0, 0, 0, 1, 0, 0, 0, 0, 1, 0, 0, 0, 1, 0, 1, 1, 1, 1,\n",
      "       0, 1, 0, 0, 1, 0, 0, 0, 0, 1, 0, 0, 0, 0, 1, 0, 1, 1, 1, 0, 0, 0,\n",
      "       0, 0, 0, 0, 1, 1, 0, 0, 0, 1, 0, 0, 1, 0, 0, 0, 0, 0, 0, 0, 0, 0,\n",
      "       0, 0, 0, 0, 0, 0, 0, 1, 0, 0])},\n",
      " 'Mean': -16051.933333333332,\n",
      " 'Median': -16045.0,\n",
      " 'Standard deviation': 632.8604866442173,\n",
      " 'Worst solution': {'f': -15000.0,\n",
      "                    'x': array([0, 0, 0, 0, 0, 0, 0, 0, 1, 0, 0, 0, 0, 0, 0, 0, 0, 0, 0, 0, 0, 0,\n",
      "       0, 1, 1, 0, 0, 0, 0, 0, 0, 0, 0, 0, 0, 0, 1, 1, 1, 0, 0, 0, 0, 1,\n",
      "       1, 0, 0, 0, 0, 1, 0, 0, 0, 1, 1, 0, 0, 0, 0, 0, 0, 0, 0, 0, 0, 0,\n",
      "       0, 0, 0, 0, 0, 0, 0, 0, 1, 0, 1, 1, 0, 0, 0, 1, 1, 1, 0, 0, 0, 0,\n",
      "       0, 1, 0, 0, 0, 0, 0, 0, 0, 1, 0, 1, 1, 1, 0, 0, 1, 1, 0, 0, 0, 0,\n",
      "       1, 0, 0, 0, 0, 0, 0, 0, 1, 0, 0, 0, 0, 1, 0, 0, 1, 0, 0, 0, 0, 1,\n",
      "       0, 1, 0, 1, 0, 0, 0, 0, 0, 0, 1, 0, 0, 0, 0, 0, 1, 0, 0, 0, 0, 1,\n",
      "       0, 0, 0, 1, 0, 0, 0, 0, 0, 0, 0, 0, 1, 0, 0, 1, 0, 1, 0, 0, 1, 1,\n",
      "       0, 0, 0, 0, 0, 0, 0, 0, 0, 0, 0, 0, 0, 0, 0, 0, 0, 0, 0, 1, 0, 0,\n",
      "       1, 0, 0, 0, 0, 0, 1, 1, 0, 0, 0, 0, 1, 0, 1, 0, 0, 1, 0, 0, 0, 0,\n",
      "       0, 0, 0, 0, 1, 0, 0, 0, 0, 0, 0, 0, 0, 0, 0, 0, 0, 1, 0, 0, 1, 0,\n",
      "       0, 0, 0, 0, 0, 0, 0, 0, 0, 0, 0, 1, 1, 0, 0, 0, 0, 0, 0, 0, 0, 0,\n",
      "       0, 0, 0, 0, 0, 0, 0, 1, 1, 0, 0, 0, 0, 0, 0, 0, 0, 1, 0, 0, 0, 0,\n",
      "       1, 0, 0, 1, 0, 0, 0, 0, 0, 0, 0, 0, 0, 0, 0, 0, 0, 0, 0, 0, 1, 0,\n",
      "       0, 1, 0, 0, 1, 0, 0, 0, 0, 1, 0, 0, 0, 0, 0, 1, 0, 1, 0, 0, 0, 0,\n",
      "       0, 0, 0, 0, 1, 1, 0, 0, 0, 0, 0, 0, 1, 0, 0, 0, 0, 0, 0, 0, 1, 0,\n",
      "       0, 0, 1, 0, 1, 0, 0, 0, 0, 1, 0, 0, 0, 1, 0, 0, 1, 0, 0, 0, 0, 0,\n",
      "       0, 1, 0, 1, 0, 0, 0, 0, 0, 0, 1, 0, 1, 0, 0, 0, 0, 0, 0, 0, 0, 0,\n",
      "       1, 0, 1, 0, 1, 0, 0, 1, 0, 0, 1, 0, 0, 0, 0, 0, 0, 0, 0, 1, 0, 0,\n",
      "       0, 1, 0, 0, 1, 0, 0, 1, 1, 0, 0, 0, 0, 0, 0, 0, 0, 0, 1, 0, 0, 0,\n",
      "       0, 1, 0, 0, 0, 0, 1, 0, 0, 0, 0, 1, 0, 0, 0, 0, 1, 0, 0, 1, 0, 0,\n",
      "       1, 0, 1, 0, 0, 0, 1, 0, 0, 1, 0, 0, 0, 0, 0, 0, 1, 1, 0, 0, 0, 0,\n",
      "       1, 0, 1, 1, 0, 1, 0, 0, 1, 1, 0, 0, 0, 0, 0, 0, 0, 0, 0, 0, 0, 1,\n",
      "       0, 1, 0, 1, 0, 0, 0, 0, 0, 1, 0, 1, 0, 0, 1, 1, 0, 0, 0, 0, 0, 0,\n",
      "       0, 1, 1, 0, 0, 1, 0, 0, 1, 0, 0, 0, 0, 0, 0, 1, 0, 0, 0, 0, 0, 0,\n",
      "       0, 0, 0, 0, 0, 0, 0, 1, 0, 0, 0, 0, 0, 0, 1, 0, 0, 0, 0, 0, 0, 0,\n",
      "       0, 0, 0, 0, 1, 1, 1, 0, 0, 0, 0, 1, 0, 0, 0, 0, 0, 0, 1, 0, 0, 1,\n",
      "       0, 0, 0, 0, 0, 0, 0, 0, 0, 0, 0, 0, 0, 0, 0, 0, 1, 1, 0, 0, 0, 0,\n",
      "       0, 1, 1, 0, 0, 0, 0, 0, 0, 0, 0, 0, 0, 1, 0, 1, 0, 0, 0, 0, 1, 0,\n",
      "       0, 0, 0, 0, 1, 0, 0, 0, 1, 0, 1, 1, 0, 0, 0, 0, 1, 0, 1, 0, 0, 0,\n",
      "       0, 0, 0, 0, 0, 0, 0, 0, 0, 1, 0, 0, 0, 1, 0, 0, 0, 0, 0, 0, 1, 0,\n",
      "       0, 0, 0, 0, 0, 1, 1, 1, 0, 0, 1, 1, 0, 0, 1, 0, 0, 0, 0, 0, 0, 0,\n",
      "       1, 0, 1, 0, 0, 0, 0, 0, 0, 0, 0, 0, 0, 1, 0, 0, 0, 0, 1, 0, 1, 0,\n",
      "       0, 0, 0, 0, 0, 0, 0, 0, 0, 0, 0, 0, 0, 0, 0, 0, 0, 1, 1, 0, 0, 0,\n",
      "       0, 1, 0, 1, 0, 0, 0, 0, 0, 1, 0, 0, 0, 0, 0, 0, 0, 0, 1, 0, 0, 0,\n",
      "       0, 1, 0, 0, 0, 0, 0, 1, 0, 1, 0, 0, 1, 1, 0, 0, 1, 0, 0, 0, 0, 0,\n",
      "       0, 0, 0, 0, 0, 0, 1, 1, 0, 0, 1, 0, 0, 0, 0, 0, 0, 0, 0, 0, 1, 1,\n",
      "       0, 0, 1, 0, 0, 0, 1, 0, 0, 0, 0, 0, 0, 0, 0, 0, 0, 0, 0, 0, 0, 0,\n",
      "       0, 0, 0, 0, 0, 0, 0, 1, 1, 0, 0, 0, 0, 0, 0, 0, 0, 0, 0, 0, 0, 0,\n",
      "       0, 1, 0, 0, 0, 0, 1, 0, 0, 0, 0, 0, 0, 0, 0, 0, 0, 0, 0, 0, 1, 0,\n",
      "       0, 1, 0, 0, 0, 0, 0, 0, 0, 0, 0, 0, 0, 0, 0, 1, 1, 0, 1, 1, 0, 0,\n",
      "       1, 0, 0, 0, 0, 1, 0, 1, 0, 1, 1, 1, 0, 0, 0, 0, 0, 0, 0, 1, 0, 0,\n",
      "       0, 0, 0, 0, 0, 0, 0, 0, 0, 0, 0, 0, 0, 0, 0, 0, 0, 0, 0, 0, 0, 1,\n",
      "       0, 0, 0, 0, 0, 0, 1, 0, 0, 0, 0, 0, 0, 0, 1, 0, 0, 0, 0, 0, 0, 1,\n",
      "       0, 0, 0, 0, 0, 0, 0, 0, 1, 0, 1, 0, 0, 1, 0, 0, 0, 0, 0, 0, 0, 0,\n",
      "       1, 0, 1, 0, 0, 0, 0, 0, 0, 1])},\n",
      " 'averageTime': 0.038174986839294434,\n",
      " 'objectiveFunction': [-15538.0,\n",
      "                       -15342.0,\n",
      "                       -15438.0,\n",
      "                       -16765.0,\n",
      "                       -16003.0,\n",
      "                       -16903.0,\n",
      "                       -15939.0,\n",
      "                       -16588.0,\n",
      "                       -15772.0,\n",
      "                       -15795.0,\n",
      "                       -16196.0,\n",
      "                       -15438.0,\n",
      "                       -17760.0,\n",
      "                       -16736.0,\n",
      "                       -15766.0,\n",
      "                       -16294.0,\n",
      "                       -16892.0,\n",
      "                       -16508.0,\n",
      "                       -15000.0,\n",
      "                       -16388.0,\n",
      "                       -15179.0,\n",
      "                       -15987.0,\n",
      "                       -16529.0,\n",
      "                       -15322.0,\n",
      "                       -15515.0,\n",
      "                       -16163.0,\n",
      "                       -16087.0,\n",
      "                       -15020.0,\n",
      "                       -16529.0,\n",
      "                       -16166.0]}\n"
     ]
    }
   ],
   "source": [
    "pprint(statistics)"
   ]
  },
  {
   "cell_type": "markdown",
   "metadata": {},
   "source": [
    "Se puede observar que los resultados obtenidos no son tan buenos como los obtenidos con la metaheurística basada en Búsqueda Tabú. A continuación se harán algunas modificaciones en el diseño, con el objetivo de  mejorar los resultados."
   ]
  },
  {
   "cell_type": "markdown",
   "metadata": {},
   "source": [
    "### Solución inicial\n",
    "En el diseño anterior, no se consideró el beneficio de introducir un objeto determinado a la mochila según su valor y peso. Una forma de hacerlo es la siguiente:\n",
    "\n",
    "1. Asignar a cada objeto su valor por unidad de peso: $\\frac{p_{i}}{w_{i}}$.\n",
    "\n",
    "2. Ordenar todos los objetos con respecto a este indicador.\n",
    "\n",
    "3. Seleccionar los objetos que tenga mayor valor en este indicador sin exceder la capacidad."
   ]
  },
  {
   "cell_type": "code",
   "execution_count": 22,
   "metadata": {},
   "outputs": [],
   "source": [
    "\n",
    "def Init_GISP():\n",
    "    global n,p,w,c\n",
    "    Arr_=[]\n",
    "    for i in range(n):\n",
    "        Arr_.append((p[i]/w[i],i))\n",
    "    \n",
    "    Arr_.sort(reverse=True)\n",
    "    return Arr_\n",
    "GISP_Arr = Init_GISP()\n",
    "\n",
    "def getInitialSolution2():\n",
    "    global n,p,w,c, GISP_Arr\n",
    "    X = [0 for i in range(n)]\n",
    "    current_weight = 0\n",
    "    for i in range(n):\n",
    "        ind = GISP_Arr[i][1]\n",
    "        if current_weight+ w[ind] <= c:\n",
    "            current_weight+=w[ind]\n",
    "            X[ind] = 1\n",
    "    return np.array(X)"
   ]
  },
  {
   "cell_type": "markdown",
   "metadata": {},
   "source": [
    "Para crear un nuevo vecino, seguiremos la misma estrategia que en el diseño anterior. Sin embargo, si la nueva solución no es válida vamos a realizar lo siguiente:\n",
    "\n",
    "1. Fase de reparación.\n",
    "2. Fase de mejoramiento.\n",
    "\n",
    "**Fase de reparación:** En esta fase retiramos objetos que se encuentran en la mochila mientras la capacidad actual exceda el límite definido $c$. Los objetos son retirados de acuerdo a los valores más pequeños en el indicador definido ($\\frac{p_{i}}{w_{i}}$).\n",
    "\n",
    "**Fase de mejoramiento:** En esta fase se introducen objetos a la mochila siempre y cuando no excedan la capacidad. Estos objetos son  introducidos priorizando aquellos con los valores más grandes en el indicador definido ($\\frac{p_{i}}{w_{i}}$)."
   ]
  },
  {
   "cell_type": "code",
   "execution_count": 23,
   "metadata": {},
   "outputs": [],
   "source": [
    "class Knapsack_solver2(SimulatedAnnealing):\n",
    "\n",
    "    def __init__(self, f_ : function_type , constraints_: list):\n",
    "        super().__init__(f_,constraints_)\n",
    "        \n",
    "        \n",
    "    def generate_neighbor(self, x: np.ndarray) -> np.ndarray:\n",
    "        x_ = x.copy()\n",
    "        N = len(x_)\n",
    "        ind = random.randint(0, N-1)\n",
    "        x_[ind] ^= 1\n",
    "        \n",
    "        return x_\n",
    "    \n",
    "    def repair_neighbor(self, x: np.ndarray) -> np.ndarray:\n",
    "        global GISP_Arr,w,c,n\n",
    "        \n",
    "        #Get the total weight\n",
    "        total_weight=0\n",
    "        for i in range(n):\n",
    "            if x[i]:\n",
    "                total_weight += w[i]\n",
    "        \n",
    "        for i in range(n):\n",
    "            ind = GISP_Arr[n - (1+i)][1] #Lowest\n",
    "            \n",
    "            if x[ind]:\n",
    "                total_weight -= w[ind]\n",
    "                x[ind] = 0\n",
    "            \n",
    "            if total_weight <= c:\n",
    "                break\n",
    "                \n",
    "    def improve_neighbor(self, x: np.ndarray) -> np.ndarray:\n",
    "        global GISP_Arr,w,c,n\n",
    "        \n",
    "        #Get the total weight\n",
    "        total_weight=0\n",
    "        for i in range(n):\n",
    "            if x[i]:\n",
    "                total_weight += w[i]\n",
    "                \n",
    "        for i in range(n):\n",
    "            ind = GISP_Arr[i][1]\n",
    "            if total_weight + w[ind] > c:\n",
    "                continue\n",
    "                \n",
    "            if x[ind] == 0 :\n",
    "                total_weight += w[ind]\n",
    "                x[ind] = 1\n",
    "                \n",
    "    def get_neighbor(self, x : np.ndarray) -> np.ndarray: \n",
    "        \n",
    "        neighbor_ = self.generate_neighbor(x)\n",
    "            \n",
    "        if(self.is_valid(neighbor_)):\n",
    "            return neighbor_\n",
    "        \n",
    "        #RI strategy\n",
    "        self.repair_neighbor(neighbor_)\n",
    "        self.improve_neighbor(neighbor_)\n",
    "        \n",
    "        return neighbor_"
   ]
  },
  {
   "cell_type": "markdown",
   "metadata": {},
   "source": [
    "Ejecutamos nuestra metaheurística:"
   ]
  },
  {
   "cell_type": "code",
   "execution_count": 24,
   "metadata": {},
   "outputs": [
    {
     "data": {
      "text/plain": [
       "-31626.0"
      ]
     },
     "execution_count": 24,
     "metadata": {},
     "output_type": "execute_result"
    }
   ],
   "source": [
    "f(getInitialSolution2())"
   ]
  },
  {
   "cell_type": "code",
   "execution_count": 25,
   "metadata": {},
   "outputs": [],
   "source": [
    "Knapsack_2 = Knapsack_solver2(f, [g1])"
   ]
  },
  {
   "cell_type": "code",
   "execution_count": 26,
   "metadata": {},
   "outputs": [
    {
     "name": "stdout",
     "output_type": "stream",
     "text": [
      "Simulated Annealing: \n",
      " f(X) = -31626.0 \n",
      " X = [1 0 1 0 0 1 0 0 1 1 1 1 0 0 0 1 0 1 1 0 0 0 1 1 0 0 1 0 0 0 0 0 0 1 0 0 0\n",
      " 1 0 0 0 1 0 1 0 0 0 1 1 0 0 1 1 0 0 0 1 0 1 0 0 1 0 0 0 0 0 0 0 1 0 0 0 1\n",
      " 0 0 1 1 0 1 1 0 0 1 1 1 1 1 1 0 1 0 0 1 1 1 1 0 1 0 0 1 0 1 1 1 0 0 0 0 1\n",
      " 0 1 0 1 1 0 0 1 0 0 0 0 0 1 0 1 0 0 0 1 0 0 0 0 1 1 0 1 1 0 1 1 0 1 0 1 0\n",
      " 1 0 0 0 0 0 0 0 0 0 1 0 0 0 1 1 0 1 0 0 1 0 0 1 0 0 0 0 0 0 1 0 0 0 1 0 1\n",
      " 1 1 0 1 0 0 0 1 1 0 1 1 0 0 0 0 1 0 0 0 0 0 1 0 0 0 0 0 0 0 0 1 1 1 0 0 0\n",
      " 0 0 0 0 0 0 0 1 1 0 1 0 0 0 0 1 0 1 0 0 0 0 0 0 0 1 0 0 1 0 1 1 0 0 1 0 0\n",
      " 0 1 0 0 1 0 0 0 0 1 1 1 0 1 0 0 0 0 0 0 0 1 1 1 0 0 1 0 0 1 0 0 1 0 0 1 1\n",
      " 1 0 0 1 0 0 0 0 0 1 0 0 0 0 1 0 1 1 0 1 0 1 1 1 0 1 1 1 0 0 1 0 0 1 1 0 0\n",
      " 0 0 1 1 0 1 0 0 0 1 1 0 0 1 0 1 0 0 1 0 0 0 0 1 0 0 0 1 1 1 0 0 1 0 0 0 1\n",
      " 0 0 1 1 0 1 1 1 1 1 0 1 0 1 1 1 0 0 0 0 0 0 0 0 1 0 0 1 1 0 0 1 1 1 0 1 1\n",
      " 0 0 1 1 0 0 0 0 0 0 1 0 1 0 1 0 0 0 0 1 1 0 0 0 1 1 0 0 1 0 0 1 0 1 1 1 0\n",
      " 0 0 1 0 0 1 0 0 1 0 0 1 0 1 0 1 0 0 0 0 0 0 0 0 0 0 0 1 0 1 0 1 0 1 0 0 0\n",
      " 1 0 1 1 0 0 0 1 1 1 0 0 1 0 1 0 1 1 0 1 1 0 1 1 0 1 1 0 0 1 1 0 0 1 0 1 0\n",
      " 0 0 0 0 0 0 0 0 1 1 0 0 0 1 1 0 1 1 0 0 0 0 1 0 1 1 0 0 0 1 1 1 0 0 0 1 0\n",
      " 0 0 1 0 0 0 1 1 0 0 1 0 0 1 0 0 0 1 0 0 0 1 1 1 1 0 0 0 0 1 1 0 0 1 0 0 0\n",
      " 1 0 1 0 0 0 1 1 0 0 0 0 0 1 0 0 1 0 1 1 0 0 0 0 0 0 1 0 0 0 0 0 0 0 1 1 1\n",
      " 0 0 0 0 0 0 0 1 1 1 1 0 1 1 1 1 0 1 1 1 1 1 0 0 0 1 1 1 1 1 1 1 1 1 0 1 0\n",
      " 1 1 0 0 0 0 1 0 0 0 1 1 1 0 0 1 0 1 0 0 0 1 1 1 0 0 1 1 0 0 1 1 1 0 0 1 0\n",
      " 1 1 0 0 0 0 0 1 1 0 0 0 0 0 1 0 0 0 1 0 1 0 1 1 1 0 0 0 0 0 0 1 1 1 0 0 0\n",
      " 1 1 1 1 1 0 1 0 1 0 1 0 1 1 1 1 1 0 0 1 0 1 0 0 1 0 0 1 1 0 0 1 0 0 0 0 1\n",
      " 1 0 1 1 0 0 0 0 1 1 0 0 1 0 0 0 0 0 0 0 0 0 0 0 0 1 1 0 1 1 0 0 0 1 0 1 0\n",
      " 0 1 1 0 1 1 0 1 0 1 1 0 1 0 1 0 1 0 1 0 0 0 0 0 1 0 0 1 0 1 1 0 0 0 0 0 0\n",
      " 1 1 0 0 0 0 0 0 0 1 0 0 1 0 1 0 0 0 0 1 0 1 0 0 0 0 1 0 0 1 0 1 1 0 1 0 1\n",
      " 1 0 0 1 0 1 0 1 0 1 0 0 1 1 0 0 1 1 1 1 1 0 1 0 0 1 1 0 0 1 1 0 0 1 0 1 0\n",
      " 1 0 1 0 0 1 1 0 0 0 0 1 0 1 0 1 0 0 1 1 0 0 1 0 0 0 1 0 1 0 1 0 0 0 0 1 0\n",
      " 1 1 0 0 0 0 0 0 0 1 1 0 0 1 0 1 0 1 0 0 0 0 0 0 1 1 0 0 1 0 0 1 0 1 0 1 0\n",
      " 1] \n",
      " Constraints: \n",
      " 9774 <= 9786 \n",
      "\n"
     ]
    }
   ],
   "source": [
    "Knapsack_2.optimize(getInitialSolution2,1000.0,0.1)\n",
    "print(Knapsack_2)"
   ]
  },
  {
   "cell_type": "markdown",
   "metadata": {},
   "source": [
    "## Resultados\n",
    "Vamos a comparar las distintas combinaciones entre la forma de generar la solución inicial y la estrategia de generar un nuevo vecino.\n",
    "\n",
    "1. Solución por Indicador y RI estrategia.\n",
    "2. Solución por Indicador y estrategia ingenua.\n",
    "3. Solución ingenua y RI estrategia.\n",
    "4. Solución ingenua y estrategia ingenua."
   ]
  },
  {
   "cell_type": "markdown",
   "metadata": {},
   "source": [
    "### Solución por Indicador y RI estrategia."
   ]
  },
  {
   "cell_type": "code",
   "execution_count": 27,
   "metadata": {},
   "outputs": [],
   "source": [
    "args = (getInitialSolution2,1000.0,0.01)\n",
    "statistics = get_stats(Knapsack_2, 30, args)"
   ]
  },
  {
   "cell_type": "code",
   "execution_count": 28,
   "metadata": {},
   "outputs": [
    {
     "name": "stdout",
     "output_type": "stream",
     "text": [
      "f(x*) = -31644.0 \n",
      "función objetivo promedio: -31630.5 \n",
      "función objetivo de la peor solución: -31626.0\n"
     ]
    }
   ],
   "source": [
    "print(\"f(x*) = {} \\nfunción objetivo promedio: {} \\nfunción objetivo de la peor solución: {}\".format(statistics['Best solution']['f'],statistics['Mean'],statistics['Worst solution']['f']))"
   ]
  },
  {
   "cell_type": "markdown",
   "metadata": {},
   "source": [
    "### Solución por Indicador y estrategia ingenua."
   ]
  },
  {
   "cell_type": "code",
   "execution_count": 29,
   "metadata": {},
   "outputs": [],
   "source": [
    "args = (getInitialSolution2,1000.0,0.01)\n",
    "statistics = get_stats(Knapsack_, 30, args)"
   ]
  },
  {
   "cell_type": "code",
   "execution_count": 30,
   "metadata": {},
   "outputs": [
    {
     "name": "stdout",
     "output_type": "stream",
     "text": [
      "f(x*) = -31626.0 \n",
      "función objetivo promedio: -31626.0 \n",
      "función objetivo de la peor solución: -31626.0\n"
     ]
    }
   ],
   "source": [
    "print(\"f(x*) = {} \\nfunción objetivo promedio: {} \\nfunción objetivo de la peor solución: {}\".format(statistics['Best solution']['f'],statistics['Mean'],statistics['Worst solution']['f']))"
   ]
  },
  {
   "cell_type": "markdown",
   "metadata": {},
   "source": [
    "### Solución ingenua y RI estrategia."
   ]
  },
  {
   "cell_type": "code",
   "execution_count": 31,
   "metadata": {},
   "outputs": [],
   "source": [
    "args = (getInitialSolution,1000.0,0.01)\n",
    "statistics = get_stats(Knapsack_2, 30, args)"
   ]
  },
  {
   "cell_type": "code",
   "execution_count": 32,
   "metadata": {},
   "outputs": [
    {
     "name": "stdout",
     "output_type": "stream",
     "text": [
      "f(x*) = -31401.0 \n",
      "función objetivo promedio: -31269.3 \n",
      "función objetivo de la peor solución: -31143.0\n"
     ]
    }
   ],
   "source": [
    "print(\"f(x*) = {} \\nfunción objetivo promedio: {} \\nfunción objetivo de la peor solución: {}\".format(statistics['Best solution']['f'],statistics['Mean'],statistics['Worst solution']['f']))"
   ]
  },
  {
   "cell_type": "markdown",
   "metadata": {},
   "source": [
    "### Solución ingenua y estrategia ingenua."
   ]
  },
  {
   "cell_type": "code",
   "execution_count": 33,
   "metadata": {},
   "outputs": [],
   "source": [
    "args = (getInitialSolution,1000.0,0.01)\n",
    "statistics = get_stats(Knapsack_, 30, args)"
   ]
  },
  {
   "cell_type": "code",
   "execution_count": 34,
   "metadata": {},
   "outputs": [
    {
     "name": "stdout",
     "output_type": "stream",
     "text": [
      "f(x*) = -17258.0 \n",
      "función objetivo promedio: -16229.833333333334 \n",
      "función objetivo de la peor solución: -15228.0\n"
     ]
    }
   ],
   "source": [
    "print(\"f(x*) = {} \\nfunción objetivo promedio: {} \\nfunción objetivo de la peor solución: {}\".format(statistics['Best solution']['f'],statistics['Mean'],statistics['Worst solution']['f']))"
   ]
  }
 ],
 "metadata": {
  "kernelspec": {
   "display_name": "Python 3 (ipykernel)",
   "language": "python",
   "name": "python3"
  },
  "language_info": {
   "codemirror_mode": {
    "name": "ipython",
    "version": 3
   },
   "file_extension": ".py",
   "mimetype": "text/x-python",
   "name": "python",
   "nbconvert_exporter": "python",
   "pygments_lexer": "ipython3",
   "version": "3.9.5"
  }
 },
 "nbformat": 4,
 "nbformat_minor": 2
}
